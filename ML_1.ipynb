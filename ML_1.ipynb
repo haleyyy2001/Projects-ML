{
  "nbformat": 4,
  "nbformat_minor": 0,
  "metadata": {
    "colab": {
      "provenance": [],
      "collapsed_sections": [
        "z2qppiibzWvJ",
        "xTRS6mPQ94IZ",
        "dGNI_v9CrDju"
      ]
    },
    "kernelspec": {
      "name": "python3",
      "display_name": "Python 3"
    },
    "language_info": {
      "name": "python"
    }
  },
  "cells": [
    {
      "cell_type": "markdown",
      "source": [
        "# Section 1.1: Load, clean, and show statistics of datasets"
      ],
      "metadata": {
        "id": "z2qppiibzWvJ"
      }
    },
    {
      "cell_type": "code",
      "execution_count": null,
      "metadata": {
        "id": "f9PIUdW4QVtl"
      },
      "outputs": [],
      "source": [
        "import pandas as pd\n",
        "from scipy.io import arff\n",
        "from scipy.spatial import distance\n",
        "import sklearn\n",
        "import numpy as np\n",
        "from sklearn import model_selection\n",
        "import matplotlib.pyplot as plt\n",
        "%matplotlib inline\n",
        "from IPython.core.debugger import set_trace\n",
        "np.random.seed(1234)"
      ]
    },
    {
      "cell_type": "markdown",
      "source": [
        "#### Load datasets"
      ],
      "metadata": {
        "id": "O6zpe5J-zyFv"
      }
    },
    {
      "cell_type": "code",
      "source": [
        "# Hepatitis dataset\n",
        "col_names_1 = [\"CLASS\", \"AGE\",\"SEX\",\"STEROID\",\"ANTIVIRALS\",\"FATIGUE\",\"MALAISE\",\"ANOREXIA\",\"LIVER BIG\",\"LIVER FIRM\",\"SPLEEN PALPABLE\",\"SPIDERS\",\"ASCITES\",\"VARICES\",\"BILIRUBIN\",\"ALK PHOSPHATE\",\"SGOT\",\"ALBUMIN\",\"PROTIME\",\"HISTOLOGY\"]\n",
        "categorical_cols_1 = [\"CLASS\", \"SEX\",\"STEROID\",\"ANTIVIRALS\",\"FATIGUE\",\"MALAISE\",\"ANOREXIA\",\"LIVER BIG\",\"LIVER FIRM\",\"SPLEEN PALPABLE\",\"SPIDERS\",\"ASCITES\",\"VARICES\",\"HISTOLOGY\"]\n",
        "continuous_cols_1 = [\"AGE\",\"BILIRUBIN\",\"ALK PHOSPHATE\",\"SGOT\",\"ALBUMIN\",\"PROTIME\"]\n",
        "\n",
        "df_1 = pd.read_csv(\"hepatitis.data\", names=col_names_1, header=None)\n",
        "# Remove rows containing \"?\" as a value \n",
        "df_1 = df_1[~df_1.eq('?').any(1)]\n",
        "# Convert to floats\n",
        "df_1 = df_1.applymap(float)\n",
        "\n",
        "# Make class labels 0 and 1 instead of 1 and 2\n",
        "df_1[\"CLASS\"] = df_1[\"CLASS\"].apply(lambda x: x - 1)\n",
        "\n",
        "df_1.info()\n"
      ],
      "metadata": {
        "id": "PVFzjVoDQjLm",
        "colab": {
          "base_uri": "https://localhost:8080/"
        },
        "outputId": "e7533e23-2360-4178-a912-03f22788b9d0"
      },
      "execution_count": null,
      "outputs": [
        {
          "output_type": "stream",
          "name": "stdout",
          "text": [
            "<class 'pandas.core.frame.DataFrame'>\n",
            "Int64Index: 80 entries, 5 to 154\n",
            "Data columns (total 20 columns):\n",
            " #   Column           Non-Null Count  Dtype  \n",
            "---  ------           --------------  -----  \n",
            " 0   CLASS            80 non-null     float64\n",
            " 1   AGE              80 non-null     float64\n",
            " 2   SEX              80 non-null     float64\n",
            " 3   STEROID          80 non-null     float64\n",
            " 4   ANTIVIRALS       80 non-null     float64\n",
            " 5   FATIGUE          80 non-null     float64\n",
            " 6   MALAISE          80 non-null     float64\n",
            " 7   ANOREXIA         80 non-null     float64\n",
            " 8   LIVER BIG        80 non-null     float64\n",
            " 9   LIVER FIRM       80 non-null     float64\n",
            " 10  SPLEEN PALPABLE  80 non-null     float64\n",
            " 11  SPIDERS          80 non-null     float64\n",
            " 12  ASCITES          80 non-null     float64\n",
            " 13  VARICES          80 non-null     float64\n",
            " 14  BILIRUBIN        80 non-null     float64\n",
            " 15  ALK PHOSPHATE    80 non-null     float64\n",
            " 16  SGOT             80 non-null     float64\n",
            " 17  ALBUMIN          80 non-null     float64\n",
            " 18  PROTIME          80 non-null     float64\n",
            " 19  HISTOLOGY        80 non-null     float64\n",
            "dtypes: float64(20)\n",
            "memory usage: 13.1 KB\n"
          ]
        }
      ]
    },
    {
      "cell_type": "code",
      "source": [
        "df_1.describe()"
      ],
      "metadata": {
        "colab": {
          "base_uri": "https://localhost:8080/",
          "height": 381
        },
        "id": "fHYOeQQ7_AjX",
        "outputId": "20b19945-77b0-4a2c-8310-6bc9a14ae4ee"
      },
      "execution_count": null,
      "outputs": [
        {
          "output_type": "execute_result",
          "data": {
            "text/plain": [
              "           CLASS       AGE        SEX    STEROID  ANTIVIRALS    FATIGUE  \\\n",
              "count  80.000000  80.00000  80.000000  80.000000   80.000000  80.000000   \n",
              "mean    0.837500  40.66250   1.137500   1.525000    1.737500   1.350000   \n",
              "std     0.371236  11.28003   0.346547   0.502525    0.442769   0.479979   \n",
              "min     0.000000  20.00000   1.000000   1.000000    1.000000   1.000000   \n",
              "25%     1.000000  32.00000   1.000000   1.000000    1.000000   1.000000   \n",
              "50%     1.000000  38.50000   1.000000   2.000000    2.000000   1.000000   \n",
              "75%     1.000000  49.25000   1.000000   2.000000    2.000000   2.000000   \n",
              "max     1.000000  72.00000   2.000000   2.000000    2.000000   2.000000   \n",
              "\n",
              "         MALAISE   ANOREXIA  LIVER BIG  LIVER FIRM  SPLEEN PALPABLE  \\\n",
              "count  80.000000  80.000000  80.000000   80.000000        80.000000   \n",
              "mean    1.612500   1.850000   1.837500    1.525000         1.812500   \n",
              "std     0.490253   0.359324   0.371236    0.502525         0.392775   \n",
              "min     1.000000   1.000000   1.000000    1.000000         1.000000   \n",
              "25%     1.000000   2.000000   2.000000    1.000000         2.000000   \n",
              "50%     2.000000   2.000000   2.000000    2.000000         2.000000   \n",
              "75%     2.000000   2.000000   2.000000    2.000000         2.000000   \n",
              "max     2.000000   2.000000   2.000000    2.000000         2.000000   \n",
              "\n",
              "         SPIDERS    ASCITES    VARICES  BILIRUBIN  ALK PHOSPHATE        SGOT  \\\n",
              "count  80.000000  80.000000  80.000000  80.000000      80.000000   80.000000   \n",
              "mean    1.687500   1.850000   1.875000   1.221250     102.912500   82.025000   \n",
              "std     0.466437   0.359324   0.332805   0.875213      53.684779   71.599974   \n",
              "min     1.000000   1.000000   1.000000   0.300000      26.000000   14.000000   \n",
              "25%     1.000000   2.000000   2.000000   0.700000      68.250000   30.750000   \n",
              "50%     2.000000   2.000000   2.000000   1.000000      85.000000   56.500000   \n",
              "75%     2.000000   2.000000   2.000000   1.300000     133.500000  102.750000   \n",
              "max     2.000000   2.000000   2.000000   4.800000     280.000000  420.000000   \n",
              "\n",
              "         ALBUMIN     PROTIME  HISTOLOGY  \n",
              "count  80.000000   80.000000   80.00000  \n",
              "mean    3.843750   62.512500    1.41250  \n",
              "std     0.576292   23.427774    0.49539  \n",
              "min     2.100000    0.000000    1.00000  \n",
              "25%     3.500000   46.000000    1.00000  \n",
              "50%     4.000000   62.000000    1.00000  \n",
              "75%     4.200000   77.250000    2.00000  \n",
              "max     5.000000  100.000000    2.00000  "
            ],
            "text/html": [
              "\n",
              "  <div id=\"df-56774e9d-85fb-4760-b454-54ce88b58142\">\n",
              "    <div class=\"colab-df-container\">\n",
              "      <div>\n",
              "<style scoped>\n",
              "    .dataframe tbody tr th:only-of-type {\n",
              "        vertical-align: middle;\n",
              "    }\n",
              "\n",
              "    .dataframe tbody tr th {\n",
              "        vertical-align: top;\n",
              "    }\n",
              "\n",
              "    .dataframe thead th {\n",
              "        text-align: right;\n",
              "    }\n",
              "</style>\n",
              "<table border=\"1\" class=\"dataframe\">\n",
              "  <thead>\n",
              "    <tr style=\"text-align: right;\">\n",
              "      <th></th>\n",
              "      <th>CLASS</th>\n",
              "      <th>AGE</th>\n",
              "      <th>SEX</th>\n",
              "      <th>STEROID</th>\n",
              "      <th>ANTIVIRALS</th>\n",
              "      <th>FATIGUE</th>\n",
              "      <th>MALAISE</th>\n",
              "      <th>ANOREXIA</th>\n",
              "      <th>LIVER BIG</th>\n",
              "      <th>LIVER FIRM</th>\n",
              "      <th>SPLEEN PALPABLE</th>\n",
              "      <th>SPIDERS</th>\n",
              "      <th>ASCITES</th>\n",
              "      <th>VARICES</th>\n",
              "      <th>BILIRUBIN</th>\n",
              "      <th>ALK PHOSPHATE</th>\n",
              "      <th>SGOT</th>\n",
              "      <th>ALBUMIN</th>\n",
              "      <th>PROTIME</th>\n",
              "      <th>HISTOLOGY</th>\n",
              "    </tr>\n",
              "  </thead>\n",
              "  <tbody>\n",
              "    <tr>\n",
              "      <th>count</th>\n",
              "      <td>80.000000</td>\n",
              "      <td>80.00000</td>\n",
              "      <td>80.000000</td>\n",
              "      <td>80.000000</td>\n",
              "      <td>80.000000</td>\n",
              "      <td>80.000000</td>\n",
              "      <td>80.000000</td>\n",
              "      <td>80.000000</td>\n",
              "      <td>80.000000</td>\n",
              "      <td>80.000000</td>\n",
              "      <td>80.000000</td>\n",
              "      <td>80.000000</td>\n",
              "      <td>80.000000</td>\n",
              "      <td>80.000000</td>\n",
              "      <td>80.000000</td>\n",
              "      <td>80.000000</td>\n",
              "      <td>80.000000</td>\n",
              "      <td>80.000000</td>\n",
              "      <td>80.000000</td>\n",
              "      <td>80.00000</td>\n",
              "    </tr>\n",
              "    <tr>\n",
              "      <th>mean</th>\n",
              "      <td>0.837500</td>\n",
              "      <td>40.66250</td>\n",
              "      <td>1.137500</td>\n",
              "      <td>1.525000</td>\n",
              "      <td>1.737500</td>\n",
              "      <td>1.350000</td>\n",
              "      <td>1.612500</td>\n",
              "      <td>1.850000</td>\n",
              "      <td>1.837500</td>\n",
              "      <td>1.525000</td>\n",
              "      <td>1.812500</td>\n",
              "      <td>1.687500</td>\n",
              "      <td>1.850000</td>\n",
              "      <td>1.875000</td>\n",
              "      <td>1.221250</td>\n",
              "      <td>102.912500</td>\n",
              "      <td>82.025000</td>\n",
              "      <td>3.843750</td>\n",
              "      <td>62.512500</td>\n",
              "      <td>1.41250</td>\n",
              "    </tr>\n",
              "    <tr>\n",
              "      <th>std</th>\n",
              "      <td>0.371236</td>\n",
              "      <td>11.28003</td>\n",
              "      <td>0.346547</td>\n",
              "      <td>0.502525</td>\n",
              "      <td>0.442769</td>\n",
              "      <td>0.479979</td>\n",
              "      <td>0.490253</td>\n",
              "      <td>0.359324</td>\n",
              "      <td>0.371236</td>\n",
              "      <td>0.502525</td>\n",
              "      <td>0.392775</td>\n",
              "      <td>0.466437</td>\n",
              "      <td>0.359324</td>\n",
              "      <td>0.332805</td>\n",
              "      <td>0.875213</td>\n",
              "      <td>53.684779</td>\n",
              "      <td>71.599974</td>\n",
              "      <td>0.576292</td>\n",
              "      <td>23.427774</td>\n",
              "      <td>0.49539</td>\n",
              "    </tr>\n",
              "    <tr>\n",
              "      <th>min</th>\n",
              "      <td>0.000000</td>\n",
              "      <td>20.00000</td>\n",
              "      <td>1.000000</td>\n",
              "      <td>1.000000</td>\n",
              "      <td>1.000000</td>\n",
              "      <td>1.000000</td>\n",
              "      <td>1.000000</td>\n",
              "      <td>1.000000</td>\n",
              "      <td>1.000000</td>\n",
              "      <td>1.000000</td>\n",
              "      <td>1.000000</td>\n",
              "      <td>1.000000</td>\n",
              "      <td>1.000000</td>\n",
              "      <td>1.000000</td>\n",
              "      <td>0.300000</td>\n",
              "      <td>26.000000</td>\n",
              "      <td>14.000000</td>\n",
              "      <td>2.100000</td>\n",
              "      <td>0.000000</td>\n",
              "      <td>1.00000</td>\n",
              "    </tr>\n",
              "    <tr>\n",
              "      <th>25%</th>\n",
              "      <td>1.000000</td>\n",
              "      <td>32.00000</td>\n",
              "      <td>1.000000</td>\n",
              "      <td>1.000000</td>\n",
              "      <td>1.000000</td>\n",
              "      <td>1.000000</td>\n",
              "      <td>1.000000</td>\n",
              "      <td>2.000000</td>\n",
              "      <td>2.000000</td>\n",
              "      <td>1.000000</td>\n",
              "      <td>2.000000</td>\n",
              "      <td>1.000000</td>\n",
              "      <td>2.000000</td>\n",
              "      <td>2.000000</td>\n",
              "      <td>0.700000</td>\n",
              "      <td>68.250000</td>\n",
              "      <td>30.750000</td>\n",
              "      <td>3.500000</td>\n",
              "      <td>46.000000</td>\n",
              "      <td>1.00000</td>\n",
              "    </tr>\n",
              "    <tr>\n",
              "      <th>50%</th>\n",
              "      <td>1.000000</td>\n",
              "      <td>38.50000</td>\n",
              "      <td>1.000000</td>\n",
              "      <td>2.000000</td>\n",
              "      <td>2.000000</td>\n",
              "      <td>1.000000</td>\n",
              "      <td>2.000000</td>\n",
              "      <td>2.000000</td>\n",
              "      <td>2.000000</td>\n",
              "      <td>2.000000</td>\n",
              "      <td>2.000000</td>\n",
              "      <td>2.000000</td>\n",
              "      <td>2.000000</td>\n",
              "      <td>2.000000</td>\n",
              "      <td>1.000000</td>\n",
              "      <td>85.000000</td>\n",
              "      <td>56.500000</td>\n",
              "      <td>4.000000</td>\n",
              "      <td>62.000000</td>\n",
              "      <td>1.00000</td>\n",
              "    </tr>\n",
              "    <tr>\n",
              "      <th>75%</th>\n",
              "      <td>1.000000</td>\n",
              "      <td>49.25000</td>\n",
              "      <td>1.000000</td>\n",
              "      <td>2.000000</td>\n",
              "      <td>2.000000</td>\n",
              "      <td>2.000000</td>\n",
              "      <td>2.000000</td>\n",
              "      <td>2.000000</td>\n",
              "      <td>2.000000</td>\n",
              "      <td>2.000000</td>\n",
              "      <td>2.000000</td>\n",
              "      <td>2.000000</td>\n",
              "      <td>2.000000</td>\n",
              "      <td>2.000000</td>\n",
              "      <td>1.300000</td>\n",
              "      <td>133.500000</td>\n",
              "      <td>102.750000</td>\n",
              "      <td>4.200000</td>\n",
              "      <td>77.250000</td>\n",
              "      <td>2.00000</td>\n",
              "    </tr>\n",
              "    <tr>\n",
              "      <th>max</th>\n",
              "      <td>1.000000</td>\n",
              "      <td>72.00000</td>\n",
              "      <td>2.000000</td>\n",
              "      <td>2.000000</td>\n",
              "      <td>2.000000</td>\n",
              "      <td>2.000000</td>\n",
              "      <td>2.000000</td>\n",
              "      <td>2.000000</td>\n",
              "      <td>2.000000</td>\n",
              "      <td>2.000000</td>\n",
              "      <td>2.000000</td>\n",
              "      <td>2.000000</td>\n",
              "      <td>2.000000</td>\n",
              "      <td>2.000000</td>\n",
              "      <td>4.800000</td>\n",
              "      <td>280.000000</td>\n",
              "      <td>420.000000</td>\n",
              "      <td>5.000000</td>\n",
              "      <td>100.000000</td>\n",
              "      <td>2.00000</td>\n",
              "    </tr>\n",
              "  </tbody>\n",
              "</table>\n",
              "</div>\n",
              "      <button class=\"colab-df-convert\" onclick=\"convertToInteractive('df-56774e9d-85fb-4760-b454-54ce88b58142')\"\n",
              "              title=\"Convert this dataframe to an interactive table.\"\n",
              "              style=\"display:none;\">\n",
              "        \n",
              "  <svg xmlns=\"http://www.w3.org/2000/svg\" height=\"24px\"viewBox=\"0 0 24 24\"\n",
              "       width=\"24px\">\n",
              "    <path d=\"M0 0h24v24H0V0z\" fill=\"none\"/>\n",
              "    <path d=\"M18.56 5.44l.94 2.06.94-2.06 2.06-.94-2.06-.94-.94-2.06-.94 2.06-2.06.94zm-11 1L8.5 8.5l.94-2.06 2.06-.94-2.06-.94L8.5 2.5l-.94 2.06-2.06.94zm10 10l.94 2.06.94-2.06 2.06-.94-2.06-.94-.94-2.06-.94 2.06-2.06.94z\"/><path d=\"M17.41 7.96l-1.37-1.37c-.4-.4-.92-.59-1.43-.59-.52 0-1.04.2-1.43.59L10.3 9.45l-7.72 7.72c-.78.78-.78 2.05 0 2.83L4 21.41c.39.39.9.59 1.41.59.51 0 1.02-.2 1.41-.59l7.78-7.78 2.81-2.81c.8-.78.8-2.07 0-2.86zM5.41 20L4 18.59l7.72-7.72 1.47 1.35L5.41 20z\"/>\n",
              "  </svg>\n",
              "      </button>\n",
              "      \n",
              "  <style>\n",
              "    .colab-df-container {\n",
              "      display:flex;\n",
              "      flex-wrap:wrap;\n",
              "      gap: 12px;\n",
              "    }\n",
              "\n",
              "    .colab-df-convert {\n",
              "      background-color: #E8F0FE;\n",
              "      border: none;\n",
              "      border-radius: 50%;\n",
              "      cursor: pointer;\n",
              "      display: none;\n",
              "      fill: #1967D2;\n",
              "      height: 32px;\n",
              "      padding: 0 0 0 0;\n",
              "      width: 32px;\n",
              "    }\n",
              "\n",
              "    .colab-df-convert:hover {\n",
              "      background-color: #E2EBFA;\n",
              "      box-shadow: 0px 1px 2px rgba(60, 64, 67, 0.3), 0px 1px 3px 1px rgba(60, 64, 67, 0.15);\n",
              "      fill: #174EA6;\n",
              "    }\n",
              "\n",
              "    [theme=dark] .colab-df-convert {\n",
              "      background-color: #3B4455;\n",
              "      fill: #D2E3FC;\n",
              "    }\n",
              "\n",
              "    [theme=dark] .colab-df-convert:hover {\n",
              "      background-color: #434B5C;\n",
              "      box-shadow: 0px 1px 3px 1px rgba(0, 0, 0, 0.15);\n",
              "      filter: drop-shadow(0px 1px 2px rgba(0, 0, 0, 0.3));\n",
              "      fill: #FFFFFF;\n",
              "    }\n",
              "  </style>\n",
              "\n",
              "      <script>\n",
              "        const buttonEl =\n",
              "          document.querySelector('#df-56774e9d-85fb-4760-b454-54ce88b58142 button.colab-df-convert');\n",
              "        buttonEl.style.display =\n",
              "          google.colab.kernel.accessAllowed ? 'block' : 'none';\n",
              "\n",
              "        async function convertToInteractive(key) {\n",
              "          const element = document.querySelector('#df-56774e9d-85fb-4760-b454-54ce88b58142');\n",
              "          const dataTable =\n",
              "            await google.colab.kernel.invokeFunction('convertToInteractive',\n",
              "                                                     [key], {});\n",
              "          if (!dataTable) return;\n",
              "\n",
              "          const docLinkHtml = 'Like what you see? Visit the ' +\n",
              "            '<a target=\"_blank\" href=https://colab.research.google.com/notebooks/data_table.ipynb>data table notebook</a>'\n",
              "            + ' to learn more about interactive tables.';\n",
              "          element.innerHTML = '';\n",
              "          dataTable['output_type'] = 'display_data';\n",
              "          await google.colab.output.renderOutput(dataTable, element);\n",
              "          const docLink = document.createElement('div');\n",
              "          docLink.innerHTML = docLinkHtml;\n",
              "          element.appendChild(docLink);\n",
              "        }\n",
              "      </script>\n",
              "    </div>\n",
              "  </div>\n",
              "  "
            ]
          },
          "metadata": {},
          "execution_count": 86
        }
      ]
    },
    {
      "cell_type": "code",
      "source": [
        "df_1.head(5)"
      ],
      "metadata": {
        "colab": {
          "base_uri": "https://localhost:8080/",
          "height": 287
        },
        "id": "JPIpf-FK_GOU",
        "outputId": "adbc588f-28c1-4404-c1ed-a2f7cfd9a521"
      },
      "execution_count": null,
      "outputs": [
        {
          "output_type": "execute_result",
          "data": {
            "text/plain": [
              "    CLASS   AGE  SEX  STEROID  ANTIVIRALS  FATIGUE  MALAISE  ANOREXIA  \\\n",
              "5     1.0  34.0  1.0      2.0         2.0      2.0      2.0       2.0   \n",
              "10    1.0  39.0  1.0      1.0         1.0      2.0      2.0       2.0   \n",
              "11    1.0  32.0  1.0      2.0         1.0      1.0      2.0       2.0   \n",
              "12    1.0  41.0  1.0      2.0         1.0      1.0      2.0       2.0   \n",
              "13    1.0  30.0  1.0      2.0         2.0      1.0      2.0       2.0   \n",
              "\n",
              "    LIVER BIG  LIVER FIRM  SPLEEN PALPABLE  SPIDERS  ASCITES  VARICES  \\\n",
              "5         2.0         2.0              2.0      2.0      2.0      2.0   \n",
              "10        1.0         1.0              2.0      2.0      2.0      2.0   \n",
              "11        2.0         1.0              2.0      1.0      2.0      2.0   \n",
              "12        2.0         1.0              2.0      2.0      2.0      2.0   \n",
              "13        2.0         1.0              2.0      2.0      2.0      2.0   \n",
              "\n",
              "    BILIRUBIN  ALK PHOSPHATE   SGOT  ALBUMIN  PROTIME  HISTOLOGY  \n",
              "5         0.9           95.0   28.0      4.0     75.0        1.0  \n",
              "10        1.3           78.0   30.0      4.4     85.0        1.0  \n",
              "11        1.0           59.0  249.0      3.7     54.0        1.0  \n",
              "12        0.9           81.0   60.0      3.9     52.0        1.0  \n",
              "13        2.2           57.0  144.0      4.9     78.0        1.0  "
            ],
            "text/html": [
              "\n",
              "  <div id=\"df-2986b4a3-e7c4-429b-bcc5-b9fd5b09d753\">\n",
              "    <div class=\"colab-df-container\">\n",
              "      <div>\n",
              "<style scoped>\n",
              "    .dataframe tbody tr th:only-of-type {\n",
              "        vertical-align: middle;\n",
              "    }\n",
              "\n",
              "    .dataframe tbody tr th {\n",
              "        vertical-align: top;\n",
              "    }\n",
              "\n",
              "    .dataframe thead th {\n",
              "        text-align: right;\n",
              "    }\n",
              "</style>\n",
              "<table border=\"1\" class=\"dataframe\">\n",
              "  <thead>\n",
              "    <tr style=\"text-align: right;\">\n",
              "      <th></th>\n",
              "      <th>CLASS</th>\n",
              "      <th>AGE</th>\n",
              "      <th>SEX</th>\n",
              "      <th>STEROID</th>\n",
              "      <th>ANTIVIRALS</th>\n",
              "      <th>FATIGUE</th>\n",
              "      <th>MALAISE</th>\n",
              "      <th>ANOREXIA</th>\n",
              "      <th>LIVER BIG</th>\n",
              "      <th>LIVER FIRM</th>\n",
              "      <th>SPLEEN PALPABLE</th>\n",
              "      <th>SPIDERS</th>\n",
              "      <th>ASCITES</th>\n",
              "      <th>VARICES</th>\n",
              "      <th>BILIRUBIN</th>\n",
              "      <th>ALK PHOSPHATE</th>\n",
              "      <th>SGOT</th>\n",
              "      <th>ALBUMIN</th>\n",
              "      <th>PROTIME</th>\n",
              "      <th>HISTOLOGY</th>\n",
              "    </tr>\n",
              "  </thead>\n",
              "  <tbody>\n",
              "    <tr>\n",
              "      <th>5</th>\n",
              "      <td>1.0</td>\n",
              "      <td>34.0</td>\n",
              "      <td>1.0</td>\n",
              "      <td>2.0</td>\n",
              "      <td>2.0</td>\n",
              "      <td>2.0</td>\n",
              "      <td>2.0</td>\n",
              "      <td>2.0</td>\n",
              "      <td>2.0</td>\n",
              "      <td>2.0</td>\n",
              "      <td>2.0</td>\n",
              "      <td>2.0</td>\n",
              "      <td>2.0</td>\n",
              "      <td>2.0</td>\n",
              "      <td>0.9</td>\n",
              "      <td>95.0</td>\n",
              "      <td>28.0</td>\n",
              "      <td>4.0</td>\n",
              "      <td>75.0</td>\n",
              "      <td>1.0</td>\n",
              "    </tr>\n",
              "    <tr>\n",
              "      <th>10</th>\n",
              "      <td>1.0</td>\n",
              "      <td>39.0</td>\n",
              "      <td>1.0</td>\n",
              "      <td>1.0</td>\n",
              "      <td>1.0</td>\n",
              "      <td>2.0</td>\n",
              "      <td>2.0</td>\n",
              "      <td>2.0</td>\n",
              "      <td>1.0</td>\n",
              "      <td>1.0</td>\n",
              "      <td>2.0</td>\n",
              "      <td>2.0</td>\n",
              "      <td>2.0</td>\n",
              "      <td>2.0</td>\n",
              "      <td>1.3</td>\n",
              "      <td>78.0</td>\n",
              "      <td>30.0</td>\n",
              "      <td>4.4</td>\n",
              "      <td>85.0</td>\n",
              "      <td>1.0</td>\n",
              "    </tr>\n",
              "    <tr>\n",
              "      <th>11</th>\n",
              "      <td>1.0</td>\n",
              "      <td>32.0</td>\n",
              "      <td>1.0</td>\n",
              "      <td>2.0</td>\n",
              "      <td>1.0</td>\n",
              "      <td>1.0</td>\n",
              "      <td>2.0</td>\n",
              "      <td>2.0</td>\n",
              "      <td>2.0</td>\n",
              "      <td>1.0</td>\n",
              "      <td>2.0</td>\n",
              "      <td>1.0</td>\n",
              "      <td>2.0</td>\n",
              "      <td>2.0</td>\n",
              "      <td>1.0</td>\n",
              "      <td>59.0</td>\n",
              "      <td>249.0</td>\n",
              "      <td>3.7</td>\n",
              "      <td>54.0</td>\n",
              "      <td>1.0</td>\n",
              "    </tr>\n",
              "    <tr>\n",
              "      <th>12</th>\n",
              "      <td>1.0</td>\n",
              "      <td>41.0</td>\n",
              "      <td>1.0</td>\n",
              "      <td>2.0</td>\n",
              "      <td>1.0</td>\n",
              "      <td>1.0</td>\n",
              "      <td>2.0</td>\n",
              "      <td>2.0</td>\n",
              "      <td>2.0</td>\n",
              "      <td>1.0</td>\n",
              "      <td>2.0</td>\n",
              "      <td>2.0</td>\n",
              "      <td>2.0</td>\n",
              "      <td>2.0</td>\n",
              "      <td>0.9</td>\n",
              "      <td>81.0</td>\n",
              "      <td>60.0</td>\n",
              "      <td>3.9</td>\n",
              "      <td>52.0</td>\n",
              "      <td>1.0</td>\n",
              "    </tr>\n",
              "    <tr>\n",
              "      <th>13</th>\n",
              "      <td>1.0</td>\n",
              "      <td>30.0</td>\n",
              "      <td>1.0</td>\n",
              "      <td>2.0</td>\n",
              "      <td>2.0</td>\n",
              "      <td>1.0</td>\n",
              "      <td>2.0</td>\n",
              "      <td>2.0</td>\n",
              "      <td>2.0</td>\n",
              "      <td>1.0</td>\n",
              "      <td>2.0</td>\n",
              "      <td>2.0</td>\n",
              "      <td>2.0</td>\n",
              "      <td>2.0</td>\n",
              "      <td>2.2</td>\n",
              "      <td>57.0</td>\n",
              "      <td>144.0</td>\n",
              "      <td>4.9</td>\n",
              "      <td>78.0</td>\n",
              "      <td>1.0</td>\n",
              "    </tr>\n",
              "  </tbody>\n",
              "</table>\n",
              "</div>\n",
              "      <button class=\"colab-df-convert\" onclick=\"convertToInteractive('df-2986b4a3-e7c4-429b-bcc5-b9fd5b09d753')\"\n",
              "              title=\"Convert this dataframe to an interactive table.\"\n",
              "              style=\"display:none;\">\n",
              "        \n",
              "  <svg xmlns=\"http://www.w3.org/2000/svg\" height=\"24px\"viewBox=\"0 0 24 24\"\n",
              "       width=\"24px\">\n",
              "    <path d=\"M0 0h24v24H0V0z\" fill=\"none\"/>\n",
              "    <path d=\"M18.56 5.44l.94 2.06.94-2.06 2.06-.94-2.06-.94-.94-2.06-.94 2.06-2.06.94zm-11 1L8.5 8.5l.94-2.06 2.06-.94-2.06-.94L8.5 2.5l-.94 2.06-2.06.94zm10 10l.94 2.06.94-2.06 2.06-.94-2.06-.94-.94-2.06-.94 2.06-2.06.94z\"/><path d=\"M17.41 7.96l-1.37-1.37c-.4-.4-.92-.59-1.43-.59-.52 0-1.04.2-1.43.59L10.3 9.45l-7.72 7.72c-.78.78-.78 2.05 0 2.83L4 21.41c.39.39.9.59 1.41.59.51 0 1.02-.2 1.41-.59l7.78-7.78 2.81-2.81c.8-.78.8-2.07 0-2.86zM5.41 20L4 18.59l7.72-7.72 1.47 1.35L5.41 20z\"/>\n",
              "  </svg>\n",
              "      </button>\n",
              "      \n",
              "  <style>\n",
              "    .colab-df-container {\n",
              "      display:flex;\n",
              "      flex-wrap:wrap;\n",
              "      gap: 12px;\n",
              "    }\n",
              "\n",
              "    .colab-df-convert {\n",
              "      background-color: #E8F0FE;\n",
              "      border: none;\n",
              "      border-radius: 50%;\n",
              "      cursor: pointer;\n",
              "      display: none;\n",
              "      fill: #1967D2;\n",
              "      height: 32px;\n",
              "      padding: 0 0 0 0;\n",
              "      width: 32px;\n",
              "    }\n",
              "\n",
              "    .colab-df-convert:hover {\n",
              "      background-color: #E2EBFA;\n",
              "      box-shadow: 0px 1px 2px rgba(60, 64, 67, 0.3), 0px 1px 3px 1px rgba(60, 64, 67, 0.15);\n",
              "      fill: #174EA6;\n",
              "    }\n",
              "\n",
              "    [theme=dark] .colab-df-convert {\n",
              "      background-color: #3B4455;\n",
              "      fill: #D2E3FC;\n",
              "    }\n",
              "\n",
              "    [theme=dark] .colab-df-convert:hover {\n",
              "      background-color: #434B5C;\n",
              "      box-shadow: 0px 1px 3px 1px rgba(0, 0, 0, 0.15);\n",
              "      filter: drop-shadow(0px 1px 2px rgba(0, 0, 0, 0.3));\n",
              "      fill: #FFFFFF;\n",
              "    }\n",
              "  </style>\n",
              "\n",
              "      <script>\n",
              "        const buttonEl =\n",
              "          document.querySelector('#df-2986b4a3-e7c4-429b-bcc5-b9fd5b09d753 button.colab-df-convert');\n",
              "        buttonEl.style.display =\n",
              "          google.colab.kernel.accessAllowed ? 'block' : 'none';\n",
              "\n",
              "        async function convertToInteractive(key) {\n",
              "          const element = document.querySelector('#df-2986b4a3-e7c4-429b-bcc5-b9fd5b09d753');\n",
              "          const dataTable =\n",
              "            await google.colab.kernel.invokeFunction('convertToInteractive',\n",
              "                                                     [key], {});\n",
              "          if (!dataTable) return;\n",
              "\n",
              "          const docLinkHtml = 'Like what you see? Visit the ' +\n",
              "            '<a target=\"_blank\" href=https://colab.research.google.com/notebooks/data_table.ipynb>data table notebook</a>'\n",
              "            + ' to learn more about interactive tables.';\n",
              "          element.innerHTML = '';\n",
              "          dataTable['output_type'] = 'display_data';\n",
              "          await google.colab.output.renderOutput(dataTable, element);\n",
              "          const docLink = document.createElement('div');\n",
              "          docLink.innerHTML = docLinkHtml;\n",
              "          element.appendChild(docLink);\n",
              "        }\n",
              "      </script>\n",
              "    </div>\n",
              "  </div>\n",
              "  "
            ]
          },
          "metadata": {},
          "execution_count": 87
        }
      ]
    },
    {
      "cell_type": "code",
      "source": [
        "num_live = df_1[\"CLASS\"].sum()\n",
        "num_die = df_1.shape[0] - num_live\n",
        "hepatitis_labels = [f\"DIE {round((num_die/df_1.shape[0])*100, 1)}%\", f\"LIVE {round((num_live/df_1.shape[0])*100, 1)}%\"]\n",
        "diabetes_data = [num_die, num_live]\n",
        "plt.pie(diabetes_data, labels=hepatitis_labels)\n",
        "plt.title(\"Survival of Patients With Hepatitis\")\n",
        "plt.savefig('Hepatitis_distribution.png',dpi=300,bbox_inches='tight')\n",
        "plt.show()"
      ],
      "metadata": {
        "colab": {
          "base_uri": "https://localhost:8080/",
          "height": 264
        },
        "id": "srFlaFdv_fkK",
        "outputId": "7ae42d59-7033-4273-edc8-909f089f1a71"
      },
      "execution_count": null,
      "outputs": [
        {
          "output_type": "display_data",
          "data": {
            "text/plain": [
              "<Figure size 432x288 with 1 Axes>"
            ],
            "image/png": "[encoded data removed]"
          },
          "metadata": {}
        }
      ]
    },
    {
      "cell_type": "code",
      "source": [
        "df_1.shape[0]"
      ],
      "metadata": {
        "colab": {
          "base_uri": "https://localhost:8080/"
        },
        "id": "u0Tig_2Qi58n",
        "outputId": "d82077d0-2ac3-4a5a-a1bf-3ff680be688c"
      },
      "execution_count": null,
      "outputs": [
        {
          "output_type": "execute_result",
          "data": {
            "text/plain": [
              "80"
            ]
          },
          "metadata": {},
          "execution_count": 89
        }
      ]
    },
    {
      "cell_type": "code",
      "source": [
        "# DR (diabetic retinopathy dataset)\n",
        "data = arff.loadarff('messidor_features.arff')\n",
        "df_2 = pd.DataFrame(data[0])\n",
        "# convert to floats\n",
        "df_2.applymap(float)\n",
        "\n",
        "# Check that binary features are indeed binary\n",
        "for col in [\"0\", \"1\", \"18\"]:\n",
        "    df_2 = df_2[ (df_2[col] == 1.0) | (df_2[col] == 0.0) ]\n",
        "# Convert label from binary to float\n",
        "df_2[\"Class\"] = df_2[\"Class\"].astype(float)\n",
        "# Exclude data points labeled as bad quality assesments\n",
        "df_2 = df_2[df_2[\"0\"] != 0]\n",
        "df_2.drop(labels=\"0\", axis=1, inplace=True)\n",
        "df_2.info()"
      ],
      "metadata": {
        "colab": {
          "base_uri": "https://localhost:8080/"
        },
        "id": "QvcTDXpe-2dD",
        "outputId": "30f87b50-60e6-4486-9e76-2141e6550338"
      },
      "execution_count": null,
      "outputs": [
        {
          "output_type": "stream",
          "name": "stdout",
          "text": [
            "<class 'pandas.core.frame.DataFrame'>\n",
            "Int64Index: 1147 entries, 0 to 1150\n",
            "Data columns (total 19 columns):\n",
            " #   Column  Non-Null Count  Dtype  \n",
            "---  ------  --------------  -----  \n",
            " 0   1       1147 non-null   float64\n",
            " 1   2       1147 non-null   float64\n",
            " 2   3       1147 non-null   float64\n",
            " 3   4       1147 non-null   float64\n",
            " 4   5       1147 non-null   float64\n",
            " 5   6       1147 non-null   float64\n",
            " 6   7       1147 non-null   float64\n",
            " 7   8       1147 non-null   float64\n",
            " 8   9       1147 non-null   float64\n",
            " 9   10      1147 non-null   float64\n",
            " 10  11      1147 non-null   float64\n",
            " 11  12      1147 non-null   float64\n",
            " 12  13      1147 non-null   float64\n",
            " 13  14      1147 non-null   float64\n",
            " 14  15      1147 non-null   float64\n",
            " 15  16      1147 non-null   float64\n",
            " 16  17      1147 non-null   float64\n",
            " 17  18      1147 non-null   float64\n",
            " 18  Class   1147 non-null   float64\n",
            "dtypes: float64(19)\n",
            "memory usage: 179.2 KB\n"
          ]
        }
      ]
    },
    {
      "cell_type": "code",
      "source": [
        "df_2.head(5)"
      ],
      "metadata": {
        "colab": {
          "base_uri": "https://localhost:8080/",
          "height": 270
        },
        "id": "hZSoNmkW_iBQ",
        "outputId": "9ed7718e-9691-47d2-e909-08b9e05d8d15"
      },
      "execution_count": null,
      "outputs": [
        {
          "output_type": "execute_result",
          "data": {
            "text/plain": [
              "     1     2     3     4     5     6     7          8          9         10  \\\n",
              "0  1.0  22.0  22.0  22.0  19.0  18.0  14.0  49.895756  17.775994   5.270920   \n",
              "1  1.0  24.0  24.0  22.0  18.0  16.0  13.0  57.709936  23.799994   3.325423   \n",
              "2  1.0  62.0  60.0  59.0  54.0  47.0  33.0  55.831441  27.993933  12.687485   \n",
              "3  1.0  55.0  53.0  53.0  50.0  43.0  31.0  40.467228  18.445954   9.118901   \n",
              "4  1.0  44.0  44.0  44.0  41.0  39.0  27.0  18.026254   8.570709   0.410381   \n",
              "\n",
              "         11        12        13        14        15        16        17   18  \\\n",
              "0  0.771761  0.018632  0.006864  0.003923  0.003923  0.486903  0.100025  1.0   \n",
              "1  0.234185  0.003903  0.003903  0.003903  0.003903  0.520908  0.144414  0.0   \n",
              "2  4.852282  1.393889  0.373252  0.041817  0.007744  0.530904  0.128548  0.0   \n",
              "3  3.079428  0.840261  0.272434  0.007653  0.001531  0.483284  0.114790  0.0   \n",
              "4  0.000000  0.000000  0.000000  0.000000  0.000000  0.475935  0.123572  0.0   \n",
              "\n",
              "   Class  \n",
              "0    0.0  \n",
              "1    0.0  \n",
              "2    1.0  \n",
              "3    0.0  \n",
              "4    1.0  "
            ],
            "text/html": [
              "\n",
              "  <div id=\"df-879e6e0c-27df-4634-a588-eab5fa28c10a\">\n",
              "    <div class=\"colab-df-container\">\n",
              "      <div>\n",
              "<style scoped>\n",
              "    .dataframe tbody tr th:only-of-type {\n",
              "        vertical-align: middle;\n",
              "    }\n",
              "\n",
              "    .dataframe tbody tr th {\n",
              "        vertical-align: top;\n",
              "    }\n",
              "\n",
              "    .dataframe thead th {\n",
              "        text-align: right;\n",
              "    }\n",
              "</style>\n",
              "<table border=\"1\" class=\"dataframe\">\n",
              "  <thead>\n",
              "    <tr style=\"text-align: right;\">\n",
              "      <th></th>\n",
              "      <th>1</th>\n",
              "      <th>2</th>\n",
              "      <th>3</th>\n",
              "      <th>4</th>\n",
              "      <th>5</th>\n",
              "      <th>6</th>\n",
              "      <th>7</th>\n",
              "      <th>8</th>\n",
              "      <th>9</th>\n",
              "      <th>10</th>\n",
              "      <th>11</th>\n",
              "      <th>12</th>\n",
              "      <th>13</th>\n",
              "      <th>14</th>\n",
              "      <th>15</th>\n",
              "      <th>16</th>\n",
              "      <th>17</th>\n",
              "      <th>18</th>\n",
              "      <th>Class</th>\n",
              "    </tr>\n",
              "  </thead>\n",
              "  <tbody>\n",
              "    <tr>\n",
              "      <th>0</th>\n",
              "      <td>1.0</td>\n",
              "      <td>22.0</td>\n",
              "      <td>22.0</td>\n",
              "      <td>22.0</td>\n",
              "      <td>19.0</td>\n",
              "      <td>18.0</td>\n",
              "      <td>14.0</td>\n",
              "      <td>49.895756</td>\n",
              "      <td>17.775994</td>\n",
              "      <td>5.270920</td>\n",
              "      <td>0.771761</td>\n",
              "      <td>0.018632</td>\n",
              "      <td>0.006864</td>\n",
              "      <td>0.003923</td>\n",
              "      <td>0.003923</td>\n",
              "      <td>0.486903</td>\n",
              "      <td>0.100025</td>\n",
              "      <td>1.0</td>\n",
              "      <td>0.0</td>\n",
              "    </tr>\n",
              "    <tr>\n",
              "      <th>1</th>\n",
              "      <td>1.0</td>\n",
              "      <td>24.0</td>\n",
              "      <td>24.0</td>\n",
              "      <td>22.0</td>\n",
              "      <td>18.0</td>\n",
              "      <td>16.0</td>\n",
              "      <td>13.0</td>\n",
              "      <td>57.709936</td>\n",
              "      <td>23.799994</td>\n",
              "      <td>3.325423</td>\n",
              "      <td>0.234185</td>\n",
              "      <td>0.003903</td>\n",
              "      <td>0.003903</td>\n",
              "      <td>0.003903</td>\n",
              "      <td>0.003903</td>\n",
              "      <td>0.520908</td>\n",
              "      <td>0.144414</td>\n",
              "      <td>0.0</td>\n",
              "      <td>0.0</td>\n",
              "    </tr>\n",
              "    <tr>\n",
              "      <th>2</th>\n",
              "      <td>1.0</td>\n",
              "      <td>62.0</td>\n",
              "      <td>60.0</td>\n",
              "      <td>59.0</td>\n",
              "      <td>54.0</td>\n",
              "      <td>47.0</td>\n",
              "      <td>33.0</td>\n",
              "      <td>55.831441</td>\n",
              "      <td>27.993933</td>\n",
              "      <td>12.687485</td>\n",
              "      <td>4.852282</td>\n",
              "      <td>1.393889</td>\n",
              "      <td>0.373252</td>\n",
              "      <td>0.041817</td>\n",
              "      <td>0.007744</td>\n",
              "      <td>0.530904</td>\n",
              "      <td>0.128548</td>\n",
              "      <td>0.0</td>\n",
              "      <td>1.0</td>\n",
              "    </tr>\n",
              "    <tr>\n",
              "      <th>3</th>\n",
              "      <td>1.0</td>\n",
              "      <td>55.0</td>\n",
              "      <td>53.0</td>\n",
              "      <td>53.0</td>\n",
              "      <td>50.0</td>\n",
              "      <td>43.0</td>\n",
              "      <td>31.0</td>\n",
              "      <td>40.467228</td>\n",
              "      <td>18.445954</td>\n",
              "      <td>9.118901</td>\n",
              "      <td>3.079428</td>\n",
              "      <td>0.840261</td>\n",
              "      <td>0.272434</td>\n",
              "      <td>0.007653</td>\n",
              "      <td>0.001531</td>\n",
              "      <td>0.483284</td>\n",
              "      <td>0.114790</td>\n",
              "      <td>0.0</td>\n",
              "      <td>0.0</td>\n",
              "    </tr>\n",
              "    <tr>\n",
              "      <th>4</th>\n",
              "      <td>1.0</td>\n",
              "      <td>44.0</td>\n",
              "      <td>44.0</td>\n",
              "      <td>44.0</td>\n",
              "      <td>41.0</td>\n",
              "      <td>39.0</td>\n",
              "      <td>27.0</td>\n",
              "      <td>18.026254</td>\n",
              "      <td>8.570709</td>\n",
              "      <td>0.410381</td>\n",
              "      <td>0.000000</td>\n",
              "      <td>0.000000</td>\n",
              "      <td>0.000000</td>\n",
              "      <td>0.000000</td>\n",
              "      <td>0.000000</td>\n",
              "      <td>0.475935</td>\n",
              "      <td>0.123572</td>\n",
              "      <td>0.0</td>\n",
              "      <td>1.0</td>\n",
              "    </tr>\n",
              "  </tbody>\n",
              "</table>\n",
              "</div>\n",
              "      <button class=\"colab-df-convert\" onclick=\"convertToInteractive('df-879e6e0c-27df-4634-a588-eab5fa28c10a')\"\n",
              "              title=\"Convert this dataframe to an interactive table.\"\n",
              "              style=\"display:none;\">\n",
              "        \n",
              "  <svg xmlns=\"http://www.w3.org/2000/svg\" height=\"24px\"viewBox=\"0 0 24 24\"\n",
              "       width=\"24px\">\n",
              "    <path d=\"M0 0h24v24H0V0z\" fill=\"none\"/>\n",
              "    <path d=\"M18.56 5.44l.94 2.06.94-2.06 2.06-.94-2.06-.94-.94-2.06-.94 2.06-2.06.94zm-11 1L8.5 8.5l.94-2.06 2.06-.94-2.06-.94L8.5 2.5l-.94 2.06-2.06.94zm10 10l.94 2.06.94-2.06 2.06-.94-2.06-.94-.94-2.06-.94 2.06-2.06.94z\"/><path d=\"M17.41 7.96l-1.37-1.37c-.4-.4-.92-.59-1.43-.59-.52 0-1.04.2-1.43.59L10.3 9.45l-7.72 7.72c-.78.78-.78 2.05 0 2.83L4 21.41c.39.39.9.59 1.41.59.51 0 1.02-.2 1.41-.59l7.78-7.78 2.81-2.81c.8-.78.8-2.07 0-2.86zM5.41 20L4 18.59l7.72-7.72 1.47 1.35L5.41 20z\"/>\n",
              "  </svg>\n",
              "      </button>\n",
              "      \n",
              "  <style>\n",
              "    .colab-df-container {\n",
              "      display:flex;\n",
              "      flex-wrap:wrap;\n",
              "      gap: 12px;\n",
              "    }\n",
              "\n",
              "    .colab-df-convert {\n",
              "      background-color: #E8F0FE;\n",
              "      border: none;\n",
              "      border-radius: 50%;\n",
              "      cursor: pointer;\n",
              "      display: none;\n",
              "      fill: #1967D2;\n",
              "      height: 32px;\n",
              "      padding: 0 0 0 0;\n",
              "      width: 32px;\n",
              "    }\n",
              "\n",
              "    .colab-df-convert:hover {\n",
              "      background-color: #E2EBFA;\n",
              "      box-shadow: 0px 1px 2px rgba(60, 64, 67, 0.3), 0px 1px 3px 1px rgba(60, 64, 67, 0.15);\n",
              "      fill: #174EA6;\n",
              "    }\n",
              "\n",
              "    [theme=dark] .colab-df-convert {\n",
              "      background-color: #3B4455;\n",
              "      fill: #D2E3FC;\n",
              "    }\n",
              "\n",
              "    [theme=dark] .colab-df-convert:hover {\n",
              "      background-color: #434B5C;\n",
              "      box-shadow: 0px 1px 3px 1px rgba(0, 0, 0, 0.15);\n",
              "      filter: drop-shadow(0px 1px 2px rgba(0, 0, 0, 0.3));\n",
              "      fill: #FFFFFF;\n",
              "    }\n",
              "  </style>\n",
              "\n",
              "      <script>\n",
              "        const buttonEl =\n",
              "          document.querySelector('#df-879e6e0c-27df-4634-a588-eab5fa28c10a button.colab-df-convert');\n",
              "        buttonEl.style.display =\n",
              "          google.colab.kernel.accessAllowed ? 'block' : 'none';\n",
              "\n",
              "        async function convertToInteractive(key) {\n",
              "          const element = document.querySelector('#df-879e6e0c-27df-4634-a588-eab5fa28c10a');\n",
              "          const dataTable =\n",
              "            await google.colab.kernel.invokeFunction('convertToInteractive',\n",
              "                                                     [key], {});\n",
              "          if (!dataTable) return;\n",
              "\n",
              "          const docLinkHtml = 'Like what you see? Visit the ' +\n",
              "            '<a target=\"_blank\" href=https://colab.research.google.com/notebooks/data_table.ipynb>data table notebook</a>'\n",
              "            + ' to learn more about interactive tables.';\n",
              "          element.innerHTML = '';\n",
              "          dataTable['output_type'] = 'display_data';\n",
              "          await google.colab.output.renderOutput(dataTable, element);\n",
              "          const docLink = document.createElement('div');\n",
              "          docLink.innerHTML = docLinkHtml;\n",
              "          element.appendChild(docLink);\n",
              "        }\n",
              "      </script>\n",
              "    </div>\n",
              "  </div>\n",
              "  "
            ]
          },
          "metadata": {},
          "execution_count": 91
        }
      ]
    },
    {
      "cell_type": "code",
      "source": [
        "num_1 = df_2[\"Class\"].sum() # label 1 = signs of DR\n",
        "num_0 = df_2.shape[0] - num_1 # label 0 = no signs of DR\n",
        "hepatitis_labels = [f\"No Signs of DR {round((num_0/df_2.shape[0])*100, 1)}%\", f\"Signs of DR {round((num_1/df_2.shape[0])*100, 1)}%\"]\n",
        "diabetes_data = [num_0, num_1]\n",
        "plt.pie(diabetes_data, labels=hepatitis_labels)\n",
        "plt.title(\"Distribution of Diabetic Retinopathy (DR) Detection\")\n",
        "plt.savefig('DR_distribution.png',dpi=300,bbox_inches='tight')\n",
        "plt.show()"
      ],
      "metadata": {
        "id": "pW0BBpx2BE1-",
        "colab": {
          "base_uri": "https://localhost:8080/",
          "height": 264
        },
        "outputId": "ffc7f931-95ad-4569-9794-2b61157f6b50"
      },
      "execution_count": null,
      "outputs": [
        {
          "output_type": "display_data",
          "data": {
            "text/plain": [
              "<Figure size 432x288 with 1 Axes>"
            ],
            "image/png": "[encoded data removed]"
          },
          "metadata": {}
        }
      ]
    },
    {
      "cell_type": "code",
      "execution_count": null,
      "metadata": {
        "id": "HTRlBSMj92U1",
        "pycharm": {
          "name": "#%%\n"
        },
        "colab": {
          "base_uri": "https://localhost:8080/",
          "height": 1000
        },
        "outputId": "8dfe54bb-c397-4576-8314-e154ac96c754"
      },
      "outputs": [
        {
          "output_type": "display_data",
          "data": {
            "text/plain": [
              "<Figure size 411.875x360 with 1 Axes>"
            ],
            "image/png": "[encoded data removed]"
          },
          "metadata": {
            "needs_background": "light"
          }
        },
        {
          "output_type": "display_data",
          "data": {
            "text/plain": [
              "<Figure size 411.875x360 with 1 Axes>"
            ],
            "image/png": "[encoded data removed]"
          },
          "metadata": {
            "needs_background": "light"
          }
        },
        {
          "output_type": "display_data",
          "data": {
            "text/plain": [
              "<Figure size 411.875x360 with 1 Axes>"
            ],
            "image/png": "[encoded data removed]"
          },
          "metadata": {
            "needs_background": "light"
          }
        },
        {
          "output_type": "display_data",
          "data": {
            "text/plain": [
              "<Figure size 411.875x360 with 1 Axes>"
            ],
            "image/png": "[encoded data removed]"
          },
          "metadata": {
            "needs_background": "light"
          }
        }
      ],
      "source": [
        "import seaborn as sns\n",
        "\n",
        "sns.displot(df_1, x=\"PROTIME\", y=\"ALBUMIN\", hue=\"CLASS\")\n",
        "sns.displot(df_1, x=\"PROTIME\", hue=\"CLASS\", stat=\"probability\", common_norm=False)\n",
        "sns.displot(df_2, x=\"2\", y=\"3\", hue=\"Class\")\n",
        "sns.displot(df_2, x=\"2\", hue=\"Class\", stat=\"probability\", common_norm=False)\n",
        "x1=df_2.iloc[:,2:]\n",
        "y1=df_2[['Class']]\n",
        "x1=np.array(x1)\n",
        "y1=np.array(y1)\n",
        "\n",
        "x2=df_2.iloc[:,:2]\n",
        "y2=df_2[['Class']]\n",
        "x2=np.array(x2)\n",
        "y2=np.array(y2)\n",
        "\n",
        "(num_instances, num_features), num_classes = x2.shape, np.max(y2)+1\n",
        "inds = np.random.permutation(num_instances)\n"
      ]
    },
    {
      "cell_type": "markdown",
      "source": [
        "# 1.2 Find best 2 features based on correlation"
      ],
      "metadata": {
        "id": "ywqqi-MQ364d"
      }
    },
    {
      "cell_type": "code",
      "source": [
        "categorical_corrs_1 = df_1[categorical_cols_1].corr()[\"CLASS\"]\n",
        "# Get 2 features with highest correlation with CLASS\n",
        "categorical_corrs_1.abs().sort_values()[-3:-1] # Note: [-1] is just CLASS\n",
        "\n",
        "# Uncomment line below to see full correlation table\n",
        "# df_1[categorical_cols_1].corr().abs()"
      ],
      "metadata": {
        "colab": {
          "base_uri": "https://localhost:8080/"
        },
        "id": "HhZFqC9A0vx4",
        "outputId": "8e0c1b96-797e-4675-891d-07d63b5b7329"
      },
      "execution_count": null,
      "outputs": [
        {
          "output_type": "execute_result",
          "data": {
            "text/plain": [
              "HISTOLOGY    0.456856\n",
              "ASCITES      0.479211\n",
              "Name: CLASS, dtype: float64"
            ]
          },
          "metadata": {},
          "execution_count": 96
        }
      ]
    },
    {
      "cell_type": "code",
      "source": [
        "continuous_corrs_1 = df_1[continuous_cols_1 + [\"CLASS\"]].corr()[\"CLASS\"]\n",
        "# Get 2 features with highest correlation with CLASS\n",
        "continuous_corrs_1.abs().sort_values()[-3:-1] # Note: [-1] is just CLASS\n",
        "\n",
        "# Uncomment line below to see full correlation table for continuous data\n",
        "# df_1[continuous_cols_1 + [\"CLASS\"]].corr()"
      ],
      "metadata": {
        "colab": {
          "base_uri": "https://localhost:8080/"
        },
        "id": "1tRu3eKV2Hc7",
        "outputId": "61ee0499-f58b-4e1b-f2c3-ae3d876c66a5"
      },
      "execution_count": null,
      "outputs": [
        {
          "output_type": "execute_result",
          "data": {
            "text/plain": [
              "PROTIME    0.395386\n",
              "ALBUMIN    0.477404\n",
              "Name: CLASS, dtype: float64"
            ]
          },
          "metadata": {},
          "execution_count": 100
        }
      ]
    },
    {
      "cell_type": "code",
      "source": [
        "# find 2 highest correlated features of DR dataset\n",
        "df_2.corr()[\"Class\"].abs().sort_values()[-3:-1]\n",
        "# Highest correlations are columns 2 and 3\n",
        "\n",
        "# Uncomment line below to see full correlation table\n",
        "# df_2.corr()"
      ],
      "metadata": {
        "colab": {
          "base_uri": "https://localhost:8080/"
        },
        "id": "JDx1PKDxyZ41",
        "outputId": "69f0adc4-ffa1-4be0-c36c-0129e931e5c3"
      },
      "execution_count": null,
      "outputs": [
        {
          "output_type": "execute_result",
          "data": {
            "text/plain": [
              "3    0.264829\n",
              "2    0.291177\n",
              "Name: Class, dtype: float64"
            ]
          },
          "metadata": {},
          "execution_count": 103
        }
      ]
    },
    {
      "cell_type": "markdown",
      "source": [
        "# Section 2.1: Define KNN Model"
      ],
      "metadata": {
        "id": "xTRS6mPQ94IZ"
      }
    },
    {
      "cell_type": "code",
      "source": [
        "# Define Model\n",
        "\n",
        "euclidean = lambda x1, x2: np.sqrt(np.sum((x1 - x2)**2, axis=-1))\n",
        "manhattan = lambda x1, x2: np.sum(np.abs(x1 - x2), axis=-1)\n",
        "\n",
        "class KNN:\n",
        "\n",
        "    def __init__(self, K=1, dist_fn= euclidean):\n",
        "        self.dist_fn = dist_fn\n",
        "        self.K = K\n",
        "        return\n",
        "    \n",
        "    def fit(self, x, y):\n",
        "        ''' Store the training data using this method as it is a lazy learner'''\n",
        "        self.x = x\n",
        "        self.y = y\n",
        "        self.C = np.max(y) + 1\n",
        "        return self\n",
        "    \n",
        "    def predict(self, x_test):\n",
        "        ''' Makes a prediction using the stored training data and the test data given as argument'''\n",
        "        num_test = x_test.shape[0]\n",
        "        # calculate distance between the training & test samples and returns an array of shape [num_test, num_train]\n",
        "        # self.x is in shape (100, 2), x_test is in shape (50, 2)\n",
        "        # self.x[None, :, :] is in shape (1, 100, 2), and x_test[:,None,:] is in shape (50, 1, 2)\n",
        "        # result: (x_test.shape[0], self.x.shape[0])\n",
        "        distances = self.dist_fn(self.x[None,:,:], x_test[:,None,:])\n",
        "        #ith-row of knns stores the indices of k closest training samples to the ith-test sample \n",
        "        knns = np.zeros((int(num_test), int(self.K)), dtype=int)\n",
        "        #ith-row of y_prob has the probability distribution over C classes\n",
        "        y_prob = np.zeros((num_test, self.C))\n",
        "        # return num_test, knns\n",
        "        for i in range(num_test):\n",
        "            # print(i)\n",
        "            knns[i,:] = np.argsort(distances[i])[:self.K]\n",
        "            # get k closest training samples, reshape points into a vector of ints\n",
        "            closest_points = self.y[knns[i,:]]\n",
        "            y_prob[i,:] = np.bincount(closest_points, minlength=self.C) #counts the number of instances of each class in the K-closest training samples\n",
        "        #y_prob /= np.sum(y_prob, axis=-1, keepdims=True)\n",
        "        #simply divide by K to get a probability distribution\n",
        "        y_prob /= self.K\n",
        "        return y_prob, knns"
      ],
      "metadata": {
        "id": "gPpGyCnG-3pB"
      },
      "execution_count": null,
      "outputs": []
    },
    {
      "cell_type": "markdown",
      "source": [
        "# Section 2.2 Select Data, Run KNN"
      ],
      "metadata": {
        "id": "3GSD6lGEoL8b"
      }
    },
    {
      "cell_type": "markdown",
      "source": [
        "Select Dataset 1 or 2 by adjusting commenting"
      ],
      "metadata": {
        "id": "puJVuIJAokIe"
      }
    },
    {
      "cell_type": "code",
      "source": [
        "# split data for either dataset\n",
        "\n",
        "\n",
        "# # Uncomment below to run for Hepatitis dataset\n",
        "columns = list(df_1.columns)\n",
        "columns.remove(\"CLASS\")\n",
        "X = df_1[columns].to_numpy()\n",
        "X = df_1[[\"PROTIME\", \"ALBUMIN\"]].to_numpy()\n",
        "y = df_1[[\"CLASS\"]].to_numpy().flatten().astype(int)\n",
        "X_train, X_test, y_train, y_test = model_selection.train_test_split(X, y, test_size = 0.4, random_state=3, shuffle=True)\n",
        "dataset_name = \"hepatitis dataset\"\n",
        "\n",
        "\n",
        "#Uncomment to run for Diabetes dataset\n",
        "X2 = df_2[[\"2\", \"3\"]].to_numpy()\n",
        "y2 = df_2[[\"Class\"]].to_numpy().flatten().astype(int)\n",
        "X2_train, X2_test, y2_train, y2_test = model_selection.train_test_split(X2, y2, test_size = 0.4, random_state=3, shuffle=True)\n",
        "dataset_name = \"diabetic retinopathy dataset\"\n",
        "\n",
        "X_val, X_test, y_val, y_test = model_selection.train_test_split(X_test, y_test, test_size = 0.5, random_state=3, shuffle=True)\n",
        "X2_val, X2_test, y2_val, y2_test = model_selection.train_test_split(X2_test, y2_test, test_size = 0.5, random_state=3, shuffle=True)\n",
        "#print the feature shape and classes of dataset \n",
        "(N,D), C = X.shape, len(np.unique(y1))\n",
        "(N2,D2), C2 = X2.shape, len(np.unique(y2))\n",
        "\n",
        "print(f'instances (N) \\t {N} \\nfeatures (D) \\t {D} \\nclasses (C) \\t {C}')\n",
        "print(f'instances (N2) \\t {N2} \\nfeatures (D2) \\t {D2} \\nclasses (C2) \\t {C2}')"
      ],
      "metadata": {
        "colab": {
          "base_uri": "https://localhost:8080/"
        },
        "id": "1_a8WPOsyTR7",
        "outputId": "acf82963-235a-43aa-b40d-7fb2cdb7efb8"
      },
      "execution_count": null,
      "outputs": [
        {
          "output_type": "stream",
          "name": "stdout",
          "text": [
            "instances (N) \t 80 \n",
            "features (D) \t 2 \n",
            "classes (C) \t 2\n",
            "instances (N2) \t 1147 \n",
            "features (D2) \t 2 \n",
            "classes (C2) \t 2\n"
          ]
        }
      ]
    },
    {
      "cell_type": "markdown",
      "source": [
        "Find best K Value and Evaluate Model"
      ],
      "metadata": {
        "id": "q9a9kLOrogMX"
      }
    },
    {
      "cell_type": "code",
      "source": [
        "# Find best k and evaluate model\n",
        "\n",
        "def hepatitis_find_best_k(dist_fun, dist_string):\n",
        "\n",
        "# Required function to evaluate accuracy of model\n",
        "    def evaluate_acc(y_pred, y_actual):\n",
        "        return np.sum(y_pred == y_actual)/y_pred.shape[0]\n",
        "\n",
        "    model_choices=[]\n",
        "    valid_acc = []\n",
        "    train_acc = []\n",
        "    test_acc = []\n",
        "\n",
        "    for k in range(1,30,2):\n",
        "\n",
        "\n",
        "        knn = KNN(K=k, dist_fn=dist_fun) # create a KNN object (OOP)\n",
        "        y_prob,_ = knn.fit(X_train.astype(int), y_train.astype(int)).predict(X_train)\n",
        "        y_pred = np.argmax(y_prob, axis=-1)\n",
        "        accuracy = evaluate_acc(y_pred, y_train)\n",
        "        train_acc.append(accuracy)\n",
        "\n",
        "        knn = KNN(K=k, dist_fn=dist_fun) # create a KNN object (OOP)\n",
        "        y_prob,_ = knn.fit(X_train.astype(int), y_train.astype(int)).predict(X_val)\n",
        "        y_pred = np.argmax(y_prob, axis=-1)\n",
        "        accuracy = evaluate_acc(y_pred, y_val)\n",
        "        valid_acc.append(accuracy)\n",
        "\n",
        "        knn = KNN(K=k, dist_fn=dist_fun) # create a KNN object (OOP)\n",
        "        y_prob,_ = knn.fit(X_train.astype(int), y_train.astype(int)).predict(X_test)\n",
        "        y_pred = np.argmax(y_prob, axis=-1)\n",
        "        accuracy = evaluate_acc(y_pred, y_test)\n",
        "        test_acc.append(accuracy)\n",
        "\n",
        "        model_choices.append(k)\n",
        "\n",
        "    best_valid_K = model_choices[valid_acc.index(max(valid_acc))]\n",
        "    knn = KNN(K=best_valid_K, dist_fn=dist_fun) # create a KNN object (OOP)\n",
        "    y_prob,_ = knn.fit(X_train.astype(int), y_train.astype(int)).predict(X_test)\n",
        "    y_pred = np.argmax(y_prob, axis=-1)\n",
        "    accuracy = evaluate_acc(y_pred, y_test)\n",
        "\n",
        "    # print(valid_acc)\n",
        "    print(f'Hepatitis Dataset\\n\\tDistance Function: {dist_string}\\n\\tbest K based on validation data = {best_valid_K}\\n\\ttest accuracy = {accuracy*100:.1f}%')\n",
        "\n",
        "\n",
        "\n",
        "    plt.plot(model_choices, test_acc, marker='*', color='red', label='testing')\n",
        "    plt.plot(model_choices, train_acc, marker='d', color='black', label='training')\n",
        "    plt.plot(model_choices, valid_acc, marker='o', color='blue', label='validation')\n",
        "    plt.xlabel(\"K\")\n",
        "    plt.ylabel(\"Accuracy\")\n",
        "    # plt.title(\"K Selection for Hepatitis Dataset\")\n",
        "    plt.legend(loc='best')\n",
        "    plt.savefig('Hepatitis_KNN_chooseK.png',dpi=300,bbox_inches='tight')\n",
        "\n"
      ],
      "metadata": {
        "id": "TxICRVZ8qnjL"
      },
      "execution_count": null,
      "outputs": []
    },
    {
      "cell_type": "code",
      "source": [
        "hepatitis_find_best_k(euclidean, \"Euclidean\")"
      ],
      "metadata": {
        "colab": {
          "base_uri": "https://localhost:8080/",
          "height": 352
        },
        "id": "1xqgP9tcj-Ec",
        "outputId": "0d3f3a18-1868-4b4f-e947-8379dc2db901"
      },
      "execution_count": null,
      "outputs": [
        {
          "output_type": "stream",
          "name": "stdout",
          "text": [
            "Hepatitis Dataset\n",
            "\tDistance Function: Euclidean\n",
            "\tbest K based on validation data = 15\n",
            "\ttest accuracy = 81.2%\n"
          ]
        },
        {
          "output_type": "display_data",
          "data": {
            "text/plain": [
              "<Figure size 432x288 with 1 Axes>"
            ],
            "image/png": "[encoded data removed]"
          },
          "metadata": {
            "needs_background": "light"
          }
        }
      ]
    },
    {
      "cell_type": "code",
      "source": [
        "hepatitis_find_best_k(manhattan, \"Manhattan\")"
      ],
      "metadata": {
        "colab": {
          "base_uri": "https://localhost:8080/",
          "height": 352
        },
        "id": "m0isD50zgyMk",
        "outputId": "14e6d6b8-5ad6-49bf-e7a6-be52e60709d9"
      },
      "execution_count": null,
      "outputs": [
        {
          "output_type": "stream",
          "name": "stdout",
          "text": [
            "Hepatitis Dataset\n",
            "\tDistance Function: Manhattan\n",
            "\tbest K based on validation data = 15\n",
            "\ttest accuracy = 87.5%\n"
          ]
        },
        {
          "output_type": "display_data",
          "data": {
            "text/plain": [
              "<Figure size 432x288 with 1 Axes>"
            ],
            "image/png": "[encoded data removed]"
          },
          "metadata": {
            "needs_background": "light"
          }
        }
      ]
    },
    {
      "cell_type": "code",
      "source": [
        "#we can make the grid finer by increasing the number of samples from 200 to higher value\n",
        "x0v = np.linspace(np.min(X[:,0]), np.max(X[:,0]), 200)\n",
        "x1v = np.linspace(np.min(X[:,1]), np.max(X[:,1]), 200)\n",
        "\n",
        "# to features values as a mesh  \n",
        "x0, x1 = np.meshgrid(x0v, x1v)\n",
        "x_all = np.vstack((x0.ravel(),x1.ravel())).T\n",
        "\n",
        "\n",
        "k = 15\n",
        "\n",
        "knn = KNN(K=k, dist_fn = manhattan)\n",
        "knn.fit(x=X_train, y=y_train)\n",
        "y_prob, _ = knn.predict(X_test)\n",
        "y_pred = np.argmax(y_prob, axis=-1)\n",
        "\n",
        "\n",
        "knn = KNN(K=k, dist_fn = manhattan)\n",
        "knn.fit(x=X_train, y=y_train)\n",
        "y_prob_all, _ = knn.predict(x_all)\n",
        "y_pred_all = np.zeros_like(y_prob_all)\n",
        "y_pred_all = np.argmax(y_prob_all, axis=-1)\n",
        "\n",
        "plt.clf()\n",
        "c_train = ['r' if yy==1 else 'b' for yy in y_train]\n",
        "plt.scatter(X_train[:,0], X_train[:,1], c=c_train, marker='o', alpha=1)\n",
        "#     plt.scatter(x_test[correct,0], x_test[correct,1], marker='.', c=y_pred[correct], label='correct')\n",
        "#     plt.scatter(x_test[incorrect,0], x_test[incorrect,1], marker='x', c=y_test[incorrect], label='misclassified')\n",
        "#     plt.scatter(x_test[:,0], x_test[:,1], c=y_pred, marker='s')\n",
        "#     plt.savefig('prediction_KNN'+str(k)+'.png', dpi=300, bbox_inches='tight')\n",
        "c_boundaries=['r' if yy==1 else 'b' for yy in y_pred_all]\n",
        "plt.scatter(x_all[:,0], x_all[:,1], c=c_boundaries, marker='.', alpha=0.01)\n",
        "plt.ylabel('ALBUMIN')\n",
        "plt.xlabel('PROTIME')\n",
        "# plt.title('Decision Boundaries for Hepatitis Dataset with K = ' + str(k))\n",
        "plt.savefig('Hepatitis_decision_boundaries_KNN_'+str(k)+'.png', dpi=300, bbox_inches='tight') \n",
        "plt.show()\n"
      ],
      "metadata": {
        "id": "vT-B4V9u4ryF",
        "colab": {
          "base_uri": "https://localhost:8080/",
          "height": 279
        },
        "outputId": "519ab08d-b49b-4f72-8ecf-24eabb858605"
      },
      "execution_count": null,
      "outputs": [
        {
          "output_type": "display_data",
          "data": {
            "text/plain": [
              "<Figure size 432x288 with 1 Axes>"
            ],
            "image/png": "[encoded data removed]"
          },
          "metadata": {
            "needs_background": "light"
          }
        }
      ]
    },
    {
      "cell_type": "code",
      "source": [
        "def diabetes_find_best_k(dist_fun, dist_string):\n",
        "\n",
        "# Find best k and evaluate model\n",
        "\n",
        "# Required function to evaluate accuracy of model\n",
        "    def evaluate_acc(y_pred, y_actual):\n",
        "        return np.sum(y_pred == y_actual)/y_pred.shape[0]\n",
        "\n",
        "\n",
        "    model_choices=[]\n",
        "    valid_acc = []\n",
        "    train_acc = []\n",
        "    test_acc = []\n",
        "\n",
        "    for k in range(1,100,2):\n",
        "        knn = KNN(K=k, dist_fn=manhattan) # create a KNN object (OOP)\n",
        "        y2_prob,_ = knn.fit(X2_train.astype(int), y2_train.astype(int)).predict(X2_train)\n",
        "        y2_pred = np.argmax(y2_prob, axis=-1)\n",
        "        accuracy = evaluate_acc(y2_pred, y2_train)\n",
        "        train_acc.append(accuracy)\n",
        "\n",
        "        knn = KNN(K=k, dist_fn=dist_fun) # create a KNN object (OOP)\n",
        "        y2_prob,_ = knn.fit(X2_train.astype(int), y2_train.astype(int)).predict(X2_val)\n",
        "        y2_pred = np.argmax(y2_prob, axis=-1)\n",
        "        accuracy = evaluate_acc(y2_pred, y2_val)\n",
        "        valid_acc.append(accuracy)\n",
        "\n",
        "        knn = KNN(K=k, dist_fn=manhattan) # create a KNN object (OOP)\n",
        "        y2_prob,_ = knn.fit(X2_train.astype(int), y2_train.astype(int)).predict(X2_test)\n",
        "        y2_pred = np.argmax(y2_prob, axis=-1)\n",
        "        accuracy = evaluate_acc(y2_pred, y2_test)\n",
        "        test_acc.append(accuracy)\n",
        "\n",
        "        model_choices.append(k)\n",
        "\n",
        "    best_valid_K = model_choices[valid_acc.index(max(valid_acc))]\n",
        "    knn = KNN(K=best_valid_K, dist_fn = dist_fun)\n",
        "    y2_prob,_ = knn.fit(X2_train.astype(int), y2_train.astype(int)).predict(X2_test)\n",
        "    y2_pred = np.argmax(y2_prob, axis=-1)\n",
        "    accuracy = evaluate_acc(y2_pred, y2_test)\n",
        "    print(f'Diabetes Dataset\\n\\tDistance Function: {dist_string}\\n\\tBest K based on validation data = {best_valid_K}\\n\\tTest Accuracy = {accuracy*100:.1f}%')\n",
        "\n",
        "\n",
        "    plt.plot(model_choices, train_acc, marker='d', color='black', label='training')\n",
        "    plt.plot(model_choices, test_acc, marker='s', color='red', label='testing')\n",
        "    plt.plot(model_choices, valid_acc, marker='o', color='blue', label='validation')\n",
        "    plt.xlabel(\"K\")\n",
        "    plt.ylabel(\"Accuracy\")\n",
        "    # plt.title(\"K Selection for Diabetes\")\n",
        "    plt.legend(loc='best')\n",
        "    plt.savefig('DR_KNN_chooseK.png',dpi=300,bbox_inches='tight')"
      ],
      "metadata": {
        "id": "_GVB1dr9gHSh"
      },
      "execution_count": null,
      "outputs": []
    },
    {
      "cell_type": "code",
      "source": [
        "diabetes_find_best_k(euclidean, \"Euclidean\")"
      ],
      "metadata": {
        "colab": {
          "base_uri": "https://localhost:8080/",
          "height": 352
        },
        "id": "ceBhWnu6kmyv",
        "outputId": "96fe1077-3a78-46d3-e0e6-62def3c079d5"
      },
      "execution_count": null,
      "outputs": [
        {
          "output_type": "stream",
          "name": "stdout",
          "text": [
            "Diabetes Dataset\n",
            "\tDistance Function: Euclidean\n",
            "\tBest K based on validation data = 5\n",
            "\tTest Accuracy = 62.2%\n"
          ]
        },
        {
          "output_type": "display_data",
          "data": {
            "text/plain": [
              "<Figure size 432x288 with 1 Axes>"
            ],
            "image/png": "[encoded data removed]"
          },
          "metadata": {
            "needs_background": "light"
          }
        }
      ]
    },
    {
      "cell_type": "code",
      "source": [
        "diabetes_find_best_k(manhattan, \"Manhattan\")"
      ],
      "metadata": {
        "colab": {
          "base_uri": "https://localhost:8080/",
          "height": 352
        },
        "id": "w6fQspbfkfgh",
        "outputId": "b2331a85-2e22-4313-c988-6ab21196b5d5"
      },
      "execution_count": null,
      "outputs": [
        {
          "output_type": "stream",
          "name": "stdout",
          "text": [
            "Diabetes Dataset\n",
            "\tDistance Function: Manhattan\n",
            "\tBest K based on validation data = 7\n",
            "\tTest Accuracy = 65.7%\n"
          ]
        },
        {
          "output_type": "display_data",
          "data": {
            "text/plain": [
              "<Figure size 432x288 with 1 Axes>"
            ],
            "image/png": "[encoded data removed]"
          },
          "metadata": {
            "needs_background": "light"
          }
        }
      ]
    },
    {
      "cell_type": "code",
      "source": [
        "#we can make the grid finer by increasing the number of samples from 200 to higher value\n",
        "x0v = np.linspace(np.min(X2[:,0]), np.max(X2[:,0]), 200)\n",
        "x1v = np.linspace(np.min(X2[:,1]), np.max(X2[:,1]), 200)\n",
        "\n",
        "# to features values as a mesh  \n",
        "x0, x1 = np.meshgrid(x0v, x1v)\n",
        "x_all = np.vstack((x0.ravel(),x1.ravel())).T\n",
        "\n",
        "k = 7\n",
        "\n",
        "knn = KNN(K=k, dist_fn = manhattan)\n",
        "knn.fit(x=X2_train, y=y2_train)\n",
        "y_prob, _ = knn.predict(X2_test)\n",
        "y_pred = np.argmax(y_prob, axis=-1)\n",
        "\n",
        "\n",
        "knn = KNN(K=k, dist_fn = manhattan)\n",
        "knn.fit(x=X2_train, y=y2_train)\n",
        "y_prob_all, _ = knn.predict(x_all)\n",
        "y_pred_all = np.zeros_like(y_prob_all)\n",
        "y_pred_all = np.argmax(y_prob_all, axis=-1)\n",
        "\n",
        "plt.clf()\n",
        "c_train = ['r' if yy==1 else 'b' for yy in y2_train]\n",
        "plt.scatter(X2_train[:,0], X2_train[:,1], c=c_train, marker='o', alpha=1)\n",
        "#     plt.scatter(x_test[correct,0], x_test[correct,1], marker='.', c=y_pred[correct], label='correct')\n",
        "#     plt.scatter(x_test[incorrect,0], x_test[incorrect,1], marker='x', c=y_test[incorrect], label='misclassified')\n",
        "#     plt.scatter(x_test[:,0], x_test[:,1], c=y_pred, marker='s')\n",
        "#     plt.savefig('prediction_KNN'+str(k)+'.png', dpi=300, bbox_inches='tight')\n",
        "c_boundaries=['r' if yy==1 else 'b' for yy in y_pred_all]\n",
        "plt.scatter(x_all[:,0], x_all[:,1], c=c_boundaries, marker='.', alpha=0.01)\n",
        "# plt.title('Decision Boundaries for Diabetes Dataset with K = ' + str(k))\n",
        "plt.ylabel('Feature 2')\n",
        "plt.xlabel('Feature 3')\n",
        "plt.savefig('DR_decision_boundaries_KNN'+str(k)+'.png', dpi=300, bbox_inches='tight') \n",
        "plt.show()"
      ],
      "metadata": {
        "colab": {
          "base_uri": "https://localhost:8080/",
          "height": 279
        },
        "id": "GkWMJ4iihPNk",
        "outputId": "5cc764d4-7bf5-4f57-87d4-b988b5535e10"
      },
      "execution_count": null,
      "outputs": [
        {
          "output_type": "display_data",
          "data": {
            "text/plain": [
              "<Figure size 432x288 with 1 Axes>"
            ],
            "image/png": "[encoded data removed]"
          },
          "metadata": {
            "needs_background": "light"
          }
        }
      ]
    },
    {
      "cell_type": "markdown",
      "source": [
        "# Section 3.1 Define Decision Tree Model"
      ],
      "metadata": {
        "id": "dGNI_v9CrDju"
      }
    },
    {
      "cell_type": "code",
      "source": [
        "class Node:\n",
        "    def __init__(self, data_indices, parent):\n",
        "        self.data_indices = data_indices                    #stores the data indices which are in the region defined by this node\n",
        "        self.left = None                                    #stores the left child of the node \n",
        "        self.right = None                                   #stores the right child of the node\n",
        "        self.split_feature = None                           #the feature for split at this node\n",
        "        self.split_value = None                             #the value of the feature for split at this node\n",
        "        if parent:\n",
        "            self.depth = parent.depth + 1                   #obtain the dept of the node by adding one to dept of the parent \n",
        "            self.num_classes = parent.num_classes           #copies the num classes from the parent \n",
        "            self.data = parent.data                         #copies the data from the parent\n",
        "            self.labels = parent.labels                     #copies the labels from the parent\n",
        "            class_prob = np.bincount(self.labels[data_indices], minlength=self.num_classes) #this is counting frequency of different labels in the region defined by this node\n",
        "            self.class_prob = class_prob / np.sum(class_prob)  #stores the class probability for the node\n",
        "            #note that we'll use the class probabilites of the leaf nodes for making predictions after the tree is built"
      ],
      "metadata": {
        "id": "H7thS-uBrHEk"
      },
      "execution_count": null,
      "outputs": []
    },
    {
      "cell_type": "code",
      "source": [
        "def greedy_test(node, cost_fn):\n",
        "    #initialize the best parameter values\n",
        "    best_cost = np.inf\n",
        "    best_feature, best_value = None, None\n",
        "    num_instances, num_features = node.data.shape\n",
        "    #sort the features to get the test value candidates by taking the average of consecutive sorted feature values \n",
        "    data_sorted = np.sort(node.data[node.data_indices],axis=0)\n",
        "    test_candidates = (data_sorted[1:] + data_sorted[:-1]) / 2.\n",
        "    for f in range(num_features):\n",
        "        #stores the data corresponding to the f-th feature\n",
        "        data_f = node.data[node.data_indices, f]\n",
        "        for test in test_candidates[:,f]:\n",
        "            #Split the indices using the test value of f-th feature\n",
        "            left_indices = node.data_indices[data_f <= test]\n",
        "            right_indices = node.data_indices[data_f > test]\n",
        "            #we can't have a split where a child has zero element\n",
        "            #if this is true over all the test features and their test values  then the function returns the best cost as infinity\n",
        "            if len(left_indices) == 0 or len(right_indices) == 0:                \n",
        "                continue\n",
        "            #compute the left and right cost based on the current split                                                         \n",
        "            left_cost = cost_fn(node.labels[left_indices])\n",
        "            right_cost = cost_fn(node.labels[right_indices])\n",
        "            num_left, num_right = left_indices.shape[0], right_indices.shape[0]\n",
        "            #get the combined cost using the weighted sum of left and right cost\n",
        "            cost = (num_left * left_cost + num_right * right_cost)/num_instances\n",
        "            #update only when a lower cost is encountered\n",
        "            if cost < best_cost:\n",
        "                best_cost = cost\n",
        "                best_feature = f\n",
        "                best_value = test\n",
        "    return best_cost, best_feature, best_value"
      ],
      "metadata": {
        "id": "CNKRpNSXrVHG"
      },
      "execution_count": null,
      "outputs": []
    },
    {
      "cell_type": "code",
      "source": [
        "#computes misclassification cost by subtracting the maximum probability of any class\n",
        "def cost_misclassification(labels):\n",
        "    counts = np.bincount(labels) \n",
        "    class_probs = counts / np.sum(counts)\n",
        "    #you could compress both the steps above by doing class_probs = np.bincount(labels) / len(labels)\n",
        "    return 1 - np.max(class_probs)\n",
        "\n",
        "#computes entropy of the labels by computing the class probabilities\n",
        "def cost_entropy(labels):\n",
        "    class_probs = np.bincount(labels) / len(labels)\n",
        "    class_probs = class_probs[class_probs > 0]              #this steps is remove 0 probabilities for removing numerical issues while computing log\n",
        "    return -np.sum(class_probs * np.log2(class_probs))       #expression for entropy -\\sigma p(x)log[p(x)]\n",
        "\n",
        "#computes the gini index cost\n",
        "def cost_gini_index(labels):\n",
        "    class_probs = np.bincount(labels) / len(labels)\n",
        "    return 1 - np.sum(np.square(class_probs))               #expression for gini index 1-\\sigma p(x)^2"
      ],
      "metadata": {
        "id": "ojmVANYorWAc"
      },
      "execution_count": null,
      "outputs": []
    },
    {
      "cell_type": "code",
      "source": [
        "class DecisionTree:\n",
        "    def __init__(self, num_classes=None, max_depth=3, cost_fn=cost_misclassification, min_leaf_instances=1):\n",
        "        self.max_depth = max_depth      #maximum dept for termination \n",
        "        self.root = None                #stores the root of the decision tree \n",
        "        self.cost_fn = cost_fn          #stores the cost function of the decision tree \n",
        "        self.num_classes = num_classes  #stores the total number of classes\n",
        "        self.min_leaf_instances = min_leaf_instances  #minimum number of instances in a leaf for termination\n",
        "        \n",
        "    def fit(self, data, labels):\n",
        "        self.data = data\n",
        "        self.labels = labels\n",
        "        if self.num_classes is None:\n",
        "            self.num_classes = np.max(labels) + 1\n",
        "        #below are initialization of the root of the decision tree\n",
        "        self.root = Node(np.arange(data.shape[0]), None)\n",
        "        self.root.data = data\n",
        "        self.root.labels = labels\n",
        "        self.root.num_classes = self.num_classes\n",
        "        self.root.depth = 0\n",
        "        #to recursively build the rest of the tree\n",
        "        self._fit_tree(self.root)\n",
        "        return self\n",
        "\n",
        "    def _fit_tree(self, node):\n",
        "        #This gives the condition for termination of the recursion resulting in a leaf node\n",
        "        if node.depth == self.max_depth or len(node.data_indices) <= self.min_leaf_instances:\n",
        "            return\n",
        "        #greedily select the best test by minimizing the cost\n",
        "        cost, split_feature, split_value = greedy_test(node, self.cost_fn)\n",
        "        #if the cost returned is infinity it means that it is not possible to split the node and hence terminate\n",
        "        if np.isinf(cost):\n",
        "            return\n",
        "        #print(f'best feature: {split_feature}, value {split_value}, cost {cost}')\n",
        "        #to get a boolean array suggesting which data indices corresponding to this node are in the left of the split\n",
        "        test = node.data[node.data_indices,split_feature] <= split_value\n",
        "        #store the split feature and value of the node\n",
        "        node.split_feature = split_feature\n",
        "        node.split_value = split_value\n",
        "        #define new nodes which are going to be the left and right child of the present node\n",
        "        left = Node(node.data_indices[test], node)\n",
        "        right = Node(node.data_indices[np.logical_not(test)], node)\n",
        "        #recursive call to the _fit_tree()\n",
        "        self._fit_tree(left)\n",
        "        self._fit_tree(right)\n",
        "        #assign the left and right child to present child\n",
        "        node.left = left\n",
        "        node.right = right\n",
        "\n",
        "    def predict(self, data_test):\n",
        "        class_probs = np.zeros((data_test.shape[0], self.num_classes))\n",
        "        for n, x in enumerate(data_test):\n",
        "            node = self.root\n",
        "            #loop along the dept of the tree looking region where the present data sample fall in based on the split feature and value\n",
        "            while node.left:\n",
        "                if x[node.split_feature] <= node.split_value:\n",
        "                    node = node.left\n",
        "                else:\n",
        "                    node = node.right\n",
        "            #the loop terminates when you reach a leaf of the tree and the class probability of that node is taken for prediction\n",
        "            class_probs[n,:] = node.class_prob\n",
        "        return class_probs"
      ],
      "metadata": {
        "id": "4jLnSlyhrcx5"
      },
      "execution_count": null,
      "outputs": []
    },
    {
      "cell_type": "markdown",
      "source": [
        "# Section 3.2 Select Data, Run Decision Tree"
      ],
      "metadata": {
        "id": "QhLD3ubxox5x"
      }
    },
    {
      "cell_type": "markdown",
      "source": [
        "Select Dataset 1 or 2 by adjusting commenting"
      ],
      "metadata": {
        "id": "o1ibVtflq63w"
      }
    },
    {
      "cell_type": "code",
      "source": [
        "# split data for either dataset\n",
        "\n",
        "# # Uncomment below to run for diabetes dataset\n",
        "columns = list(df_1.columns)\n",
        "columns.remove(\"CLASS\")\n",
        "X = df_1[columns].to_numpy()\n",
        "X = df_1[[\"PROTIME\", \"ALBUMIN\"]].to_numpy()\n",
        "y = df_1[[\"CLASS\"]].to_numpy().flatten().astype(int)\n",
        "X_train, X_test, y_train, y_test = model_selection.train_test_split(X, y, test_size = 0.4, random_state=3, shuffle=True)\n",
        "dataset_name_1 = \"hepatitis dataset\"\n",
        "\n",
        "\n",
        "#Uncomment to run for messidor dataset\n",
        "X2 = df_2[[\"2\", \"3\"]].to_numpy()\n",
        "y2 = df_2[[\"Class\"]].to_numpy().flatten().astype(int)\n",
        "X2_train, X2_test, y2_train, y2_test = model_selection.train_test_split(X2, y2, test_size = 0.4, random_state=3, shuffle=True)\n",
        "dataset_name_2 = \"diabetic retinopathy dataset\"\n",
        "\n",
        "X_val, X_test, y_val, y_test = model_selection.train_test_split(X_test, y_test, test_size = 0.5, random_state=3, shuffle=True)\n",
        "X2_val, X2_test, y2_val, y2_test = model_selection.train_test_split(X2_test, y2_test, test_size = 0.5, random_state=3, shuffle=True)\n",
        "#print the feature shape and classes of dataset \n",
        "(N,D), C = X_train.shape, len(np.unique(y1))\n",
        "(N2,D2), C2 = X2_train.shape, len(np.unique(y2))\n",
        "\n",
        "print(f'instances (N) \\t {N} \\nfeatures (D) \\t {D} \\nclasses (C) \\t {C}')\n",
        "print(f'instances (N2) \\t {N2} \\nfeatures (D2) \\t {D2} \\nclasses (C2) \\t {C2}')"
      ],
      "metadata": {
        "colab": {
          "base_uri": "https://localhost:8080/"
        },
        "id": "JRgxUHVkpdKO",
        "outputId": "20d4db45-efff-4a62-878d-e1d2751e7772"
      },
      "execution_count": null,
      "outputs": [
        {
          "output_type": "stream",
          "name": "stdout",
          "text": [
            "instances (N) \t 48 \n",
            "features (D) \t 2 \n",
            "classes (C) \t 2\n",
            "instances (N2) \t 688 \n",
            "features (D2) \t 2 \n",
            "classes (C2) \t 2\n"
          ]
        }
      ]
    },
    {
      "cell_type": "code",
      "source": [
        "def run_hepatitis_tree_depth(cost_fun, cost_string):\n",
        "    # Required function to evaluate accuracy of model\n",
        "    def evaluate_acc(y_pred, y_actual):\n",
        "        return np.sum(y_pred == y_actual)/y_test.shape[0]\n",
        "\n",
        "    model_choices=[]\n",
        "    valid_acc = []\n",
        "    train_acc = []\n",
        "    test_acc = []\n",
        "\n",
        "    n_train = y_train.shape[0]\n",
        "    n_valid = y_val.shape[0]\n",
        "\n",
        "    for depth in range(1,30):\n",
        "        tree = DecisionTree(max_depth=depth, cost_fn = cost_fun)\n",
        "\n",
        "        probs_test = tree.fit(X_train, y_train).predict(X_train)\n",
        "        y_pred = np.argmax(probs_test,1)\n",
        "        train_accuracy = np.sum(y_pred == y_train)/y_train.shape[0]\n",
        "\n",
        "        probs_test = tree.fit(X_train, y_train).predict(X_val)\n",
        "        y_pred = np.argmax(probs_test,1)\n",
        "        val_accuracy = np.sum(y_pred == y_val)/y_val.shape[0]\n",
        "\n",
        "        probs_test = tree.fit(X_train, y_train).predict(X_test)\n",
        "        y_pred = np.argmax(probs_test,1)\n",
        "        test_accuracy = np.sum(y_pred == y_test)/y_test.shape[0]\n",
        "\n",
        "        model_choices.append(depth)\n",
        "        valid_acc.append(val_accuracy)\n",
        "        test_acc.append(test_accuracy)\n",
        "        train_acc.append(train_accuracy)\n",
        "\n",
        "\n",
        "    # use the best depth to predict test data\n",
        "\n",
        "    valid_acc.reverse()\n",
        "    best_accuracy_index = len(valid_acc) - valid_acc.index(max(valid_acc)) - 1 # get last occurrence of best depth accuracy on validation data\n",
        "    valid_acc.reverse()\n",
        "    # best_accuracy_index = valid_acc.index(max(valid_acc))\n",
        "\n",
        "    best_valid_depth = model_choices[best_accuracy_index]\n",
        "    tree = DecisionTree(max_depth=best_valid_depth, cost_fn = cost_fun)\n",
        "    probs_test = tree.fit(X_train, y_train).predict(X_test)\n",
        "    y_pred = np.argmax(probs_test,1)\n",
        "    accuracy = np.sum(y_pred == y_test)/y_test.shape[0]\n",
        "\n",
        "    plt.plot(model_choices, test_acc, marker='s', color='red', label='testing')\n",
        "    plt.plot(model_choices, train_acc, marker='d', color='black', label='training')\n",
        "    plt.plot(model_choices, valid_acc, marker='o', color='blue', label='validation')\n",
        "    # plt.plot(best_valid_depth, accuracy, marker='*', color='red', label='testing')\n",
        "    plt.xlabel(\"Tree depth\")\n",
        "    plt.ylabel(\"Accuracy\")\n",
        "    # plt.title(\"Depth Selection for Hepatitis Datset\")\n",
        "    plt.legend(loc='best')\n",
        "    plt.savefig('Hepatitis_DT_chooseDepth.png',dpi=300,bbox_inches='tight')\n",
        "\n",
        "\n",
        "    print(f'Best Result for {dataset_name_1}\\n\\tCost Function: {cost_string}\\n\\tTree Depth: {best_valid_depth}\\n\\tAccuracy: {accuracy*100:.1f}%')\n"
      ],
      "metadata": {
        "id": "RcUyRzLKhath"
      },
      "execution_count": null,
      "outputs": []
    },
    {
      "cell_type": "code",
      "source": [
        "run_hepatitis_tree_depth(cost_misclassification, \"Misclassification\")"
      ],
      "metadata": {
        "colab": {
          "base_uri": "https://localhost:8080/",
          "height": 352
        },
        "id": "nbg5HcsqUANl",
        "outputId": "3c8d2d2c-ce49-4773-d454-93ce6c35b5c0"
      },
      "execution_count": null,
      "outputs": [
        {
          "output_type": "stream",
          "name": "stdout",
          "text": [
            "Best Result for hepatitis dataset\n",
            "\tCost Function: Misclassification\n",
            "\tTree Depth: 4\n",
            "\tAccuracy: 93.8%\n"
          ]
        },
        {
          "output_type": "display_data",
          "data": {
            "text/plain": [
              "<Figure size 432x288 with 1 Axes>"
            ],
            "image/png": "[encoded data removed]"
          },
          "metadata": {
            "needs_background": "light"
          }
        }
      ]
    },
    {
      "cell_type": "code",
      "source": [
        "run_hepatitis_tree_depth(cost_gini_index, \"Gini Index\")"
      ],
      "metadata": {
        "colab": {
          "base_uri": "https://localhost:8080/",
          "height": 352
        },
        "id": "8mef6AOXUHJY",
        "outputId": "f7a7ea27-c17f-431e-a505-e68c479f4bad"
      },
      "execution_count": null,
      "outputs": [
        {
          "output_type": "stream",
          "name": "stdout",
          "text": [
            "Best Result for hepatitis dataset\n",
            "\tCost Function: Gini Index\n",
            "\tTree Depth: 29\n",
            "\tAccuracy: 93.8%\n"
          ]
        },
        {
          "output_type": "display_data",
          "data": {
            "text/plain": [
              "<Figure size 432x288 with 1 Axes>"
            ],
            "image/png": "[encoded data removed]"
          },
          "metadata": {
            "needs_background": "light"
          }
        }
      ]
    },
    {
      "cell_type": "code",
      "source": [
        "run_hepatitis_tree_depth(cost_entropy, \"Entropy\")"
      ],
      "metadata": {
        "colab": {
          "base_uri": "https://localhost:8080/",
          "height": 352
        },
        "id": "hl1JtJftUNfW",
        "outputId": "efc05c06-656b-48e5-b5f3-2c7919bc192f"
      },
      "execution_count": null,
      "outputs": [
        {
          "output_type": "stream",
          "name": "stdout",
          "text": [
            "Best Result for hepatitis dataset\n",
            "\tCost Function: Entropy\n",
            "\tTree Depth: 29\n",
            "\tAccuracy: 93.8%\n"
          ]
        },
        {
          "output_type": "display_data",
          "data": {
            "text/plain": [
              "<Figure size 432x288 with 1 Axes>"
            ],
            "image/png": "[encoded data removed]"
          },
          "metadata": {
            "needs_background": "light"
          }
        }
      ]
    },
    {
      "cell_type": "code",
      "source": [
        "def run_diabetes_tree_depth(cost_fun, cost_string):\n",
        "\n",
        "\n",
        "    # Required function to evaluate accuracy of model\n",
        "    def evaluate_acc(y_pred, y_actual):\n",
        "        return np.sum(y_pred == y_actual)/y_test.shape[0]\n",
        "\n",
        "    model2_choices=[]\n",
        "    valid2_acc = []\n",
        "    train2_acc = []\n",
        "    test2_acc = []\n",
        "\n",
        "    n2_train = y2_train.shape[0]\n",
        "    n2_valid = y2_val.shape[0]\n",
        "\n",
        "    for depth in range(1,50, 1):\n",
        "        tree = DecisionTree(max_depth=depth, cost_fn = cost_fun)\n",
        "\n",
        "        probs2_test = tree.fit(X2_train, y2_train).predict(X2_train)\n",
        "        y2_pred = np.argmax(probs2_test,1)\n",
        "        train2_accuracy = np.sum(y2_pred == y2_train)/y2_train.shape[0]\n",
        "\n",
        "        probs2_test = tree.fit(X2_train, y2_train).predict(X2_val)\n",
        "        y2_pred = np.argmax(probs2_test,1)\n",
        "        val2_accuracy = np.sum(y2_pred == y2_val)/y2_val.shape[0]\n",
        "\n",
        "        probs2_test = tree.fit(X2_train, y2_train).predict(X2_test)\n",
        "        y2_pred = np.argmax(probs2_test,1)\n",
        "        test2_accuracy = np.sum(y2_pred == y2_test)/y2_test.shape[0]\n",
        "\n",
        "        model2_choices.append(depth)\n",
        "        valid2_acc.append(val2_accuracy)\n",
        "        train2_acc.append(train2_accuracy)\n",
        "        test2_acc.append(test2_accuracy)\n",
        "\n",
        "\n",
        "    # use the best depth to predict test data\n",
        "\n",
        "    # valid2_acc.reverse()\n",
        "    # best2_accuracy_index = len(valid2_acc) - valid2_acc.index(max(valid2_acc)) - 1 # get last occurrence of best depth accuracy on validation data\n",
        "    # valid2_acc.reverse()\n",
        "    best2_accuracy_index = valid2_acc.index(max(valid2_acc))\n",
        "    best2_valid_depth = model2_choices[best2_accuracy_index]\n",
        "    tree = DecisionTree(max_depth=best2_valid_depth, cost_fn = cost_fun)\n",
        "    probs2_test = tree.fit(X2_train, y2_train).predict(X2_test)\n",
        "    y2_pred = np.argmax(probs2_test,1)\n",
        "    accuracy = np.sum(y2_pred == y2_test)/y2_test.shape[0]\n",
        "\n",
        "    plt.plot(model2_choices, test2_acc, marker='s', color='red', label='testing')\n",
        "    plt.plot(model2_choices, train2_acc, marker='d', color='black', label='training')\n",
        "    plt.plot(model2_choices, valid2_acc, marker='o', color='blue', label='validation')\n",
        "    plt.xlabel(\"Tree depth\")\n",
        "    plt.ylabel(\"Accuracy\")\n",
        "    plt.legend(loc='best')\n",
        "    plt.savefig('diabetes_DT_chooseDepth.png',dpi=300,bbox_inches='tight')\n",
        "\n",
        "\n",
        "    print(f'Best Result for {dataset_name_2}\\n\\tCost Function: {cost_string}\\n\\tTree Depth: {best2_valid_depth}\\n\\tAccuracy: {accuracy*100:.1f}%')\n"
      ],
      "metadata": {
        "id": "V4tD16XxxwiN"
      },
      "execution_count": null,
      "outputs": []
    },
    {
      "cell_type": "code",
      "source": [
        "run_diabetes_tree_depth(cost_misclassification, \"Misclassification\")"
      ],
      "metadata": {
        "colab": {
          "base_uri": "https://localhost:8080/",
          "height": 352
        },
        "id": "7YYI31m1VtnU",
        "outputId": "79f67d0f-4d30-4271-8fda-5aca396f34e3"
      },
      "execution_count": null,
      "outputs": [
        {
          "output_type": "stream",
          "name": "stdout",
          "text": [
            "Best Result for diabetic retinopathy dataset\n",
            "\tCost Function: Misclassification\n",
            "\tTree Depth: 27\n",
            "\tAccuracy: 67.8%\n"
          ]
        },
        {
          "output_type": "display_data",
          "data": {
            "text/plain": [
              "<Figure size 432x288 with 1 Axes>"
            ],
            "image/png": "[encoded data removed]"
          },
          "metadata": {
            "needs_background": "light"
          }
        }
      ]
    },
    {
      "cell_type": "code",
      "source": [
        "run_diabetes_tree_depth(cost_entropy, \"Entropy\")"
      ],
      "metadata": {
        "colab": {
          "base_uri": "https://localhost:8080/",
          "height": 352
        },
        "id": "r9NCW-qCV7Tv",
        "outputId": "71742532-df56-41cb-ff39-2b0238d7beeb"
      },
      "execution_count": null,
      "outputs": [
        {
          "output_type": "stream",
          "name": "stdout",
          "text": [
            "Best Result for diabetic retinopathy dataset\n",
            "\tCost Function: Entropy\n",
            "\tTree Depth: 22\n",
            "\tAccuracy: 67.0%\n"
          ]
        },
        {
          "output_type": "display_data",
          "data": {
            "text/plain": [
              "<Figure size 432x288 with 1 Axes>"
            ],
            "image/png": "[encoded data removed]"
          },
          "metadata": {
            "needs_background": "light"
          }
        }
      ]
    },
    {
      "cell_type": "code",
      "source": [
        "run_diabetes_tree_depth(cost_gini_index, \"Gini Index\")"
      ],
      "metadata": {
        "colab": {
          "base_uri": "https://localhost:8080/",
          "height": 352
        },
        "id": "pRoUjtOfV2gl",
        "outputId": "5f0e18f1-c361-4c41-df91-d765b8452a53"
      },
      "execution_count": null,
      "outputs": [
        {
          "output_type": "stream",
          "name": "stdout",
          "text": [
            "Best Result for diabetic retinopathy dataset\n",
            "\tCost Function: Gini Index\n",
            "\tTree Depth: 18\n",
            "\tAccuracy: 67.4%\n"
          ]
        },
        {
          "output_type": "display_data",
          "data": {
            "text/plain": [
              "<Figure size 432x288 with 1 Axes>"
            ],
            "image/png": "[encoded data removed]"
          },
          "metadata": {
            "needs_background": "light"
          }
        }
      ]
    },
    {
      "cell_type": "code",
      "source": [
        "x0v1 = np.linspace(np.min(X[:,0]), np.max(X[:,0]), 200)\n",
        "x1v1 = np.linspace(np.min(X[:,1]), np.max(X[:,1]), 200)\n",
        "x01,x11 = np.meshgrid(x0v1, x1v1)\n",
        "x1_all = np.vstack((x01.ravel(),x11.ravel())).T\n",
        "for tree_depth in [29]:#:\n",
        "    model = DecisionTree(max_depth=tree_depth)\n",
        "    y_train_prob = np.zeros((y_train.shape[0],num_classes.astype(int)))\n",
        "    y_prob_all = model.fit(X_train, y_train).predict(x1_all)\n",
        "    y_train_prob[np.arange(y_train.shape[0]), y_train] = 1\n",
        "    y_prob_all = model.fit(X_train, y_train).predict(x1_all)\n",
        "    aas=pd.DataFrame(y_train_prob)\n",
        "    aps=pd.DataFrame(y_prob_all)\n",
        "    ci = ['r' if yy==0 else 'b' for yy in aas[0]]\n",
        "    cp=['r' if yy==0 else 'b' for yy in aps[0]]\n",
        "    plt.scatter(X_train[:,0], X_train[:,1], c=ci ,marker='o', alpha=0.8)\n",
        "    plt.scatter(x1_all[:,0], x1_all[:,1], c=cp, marker='.',alpha=.01)\n",
        "    plt.ylabel( \"ALBUMIN\")\n",
        "    plt.xlabel(\"PROTIME\")\n",
        "    # plt.title('Depth = ' + str(tree_depth))\n",
        "    plt.savefig('hepatitis' + str(tree_depth) + '.png', bbox_inches=\"tight\", dpi=300)"
      ],
      "metadata": {
        "id": "3PFSj0MJ2KvE",
        "colab": {
          "base_uri": "https://localhost:8080/",
          "height": 279
        },
        "outputId": "f006c815-adca-419d-c91e-366b25c8b272"
      },
      "execution_count": 97,
      "outputs": [
        {
          "output_type": "display_data",
          "data": {
            "text/plain": [
              "<Figure size 432x288 with 1 Axes>"
            ],
            "image/png": "[encoded data removed]"
          },
          "metadata": {
            "needs_background": "light"
          }
        }
      ]
    },
    {
      "cell_type": "code",
      "source": [
        "\n",
        "x0v = np.linspace(np.min(X2[:,0]), np.max(X2[:,0]), 200)\n",
        "x1v = np.linspace(np.min(X2[:,1]), np.max(X2[:,1]), 200)\n",
        "x0,x1 = np.meshgrid(x0v, x1v)\n",
        "x2_all = np.vstack((x0.ravel(),x1.ravel())).T\n",
        "for tree_depth in [27]:#:\n",
        "    model = DecisionTree(max_depth=tree_depth)\n",
        "    y2_train_prob = np.zeros((y2_train.shape[0],num_classes.astype(int)))\n",
        "    y2_prob_all = model.fit(X2_train, y2_train).predict(x2_all)\n",
        "    y2_train_prob[np.arange(y2_train.shape[0]), y2_train] = 1\n",
        "    y2_prob_all = model.fit(X2_train, y2_train).predict(x2_all)\n",
        "    aas=pd.DataFrame(y2_train_prob)\n",
        "    aps=pd.DataFrame(y2_prob_all)\n",
        "    ci = ['r' if yy==0 else 'b' for yy in aas[0]]\n",
        "    cp=['r' if yy==0 else 'b' for yy in aps[0]]\n",
        "    plt.scatter(X2_train[:,0], X2_train[:,1], c=ci ,marker='o', alpha=0.8)\n",
        "    plt.scatter(x2_all[:,0], x2_all[:,1], c=cp, marker='.',alpha=.01)\n",
        "    plt.ylabel('2')\n",
        "    plt.xlabel('1')\n",
        "    # plt.title('Depth = ' + str(tree_depth))\n",
        "    plt.savefig('diabetes' + str(tree_depth) + '.png', bbox_inches=\"tight\", dpi=300)"
      ],
      "metadata": {
        "id": "2BQSDHVexdR8",
        "colab": {
          "base_uri": "https://localhost:8080/",
          "height": 279
        },
        "outputId": "22e6a553-07f0-4ebe-f3ca-b438af91704d"
      },
      "execution_count": 98,
      "outputs": [
        {
          "output_type": "display_data",
          "data": {
            "text/plain": [
              "<Figure size 432x288 with 1 Axes>"
            ],
            "image/png": "[encoded data removed]"
          },
          "metadata": {
            "needs_background": "light"
          }
        }
      ]
    },
    {
      "cell_type": "code",
      "source": [],
      "metadata": {
        "id": "kcQ_dot2TIA7"
      },
      "execution_count": null,
      "outputs": []
    }
  ]
}
