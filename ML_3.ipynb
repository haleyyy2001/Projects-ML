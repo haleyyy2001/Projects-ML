{
  "cells": [
    {
      "cell_type": "markdown",
      "metadata": {
        "id": "udkJHrQMO_eC"
      },
      "source": [
        "# **TASK 1: Acquire the data**"
      ]
    },
    {
      "cell_type": "code",
      "execution_count": null,
      "metadata": {
        "id": "CD8Nn44RPPIz"
      },
      "outputs": [],
      "source": [
        "import keras\n",
        "import tensorflow as tf\n",
        "import numpy as np\n",
        "import matplotlib.pyplot as plt\n",
        "from keras.utils.np_utils import to_categorical\n",
        "import pandas as pd\n",
        "from copy import deepcopy\n"
      ]
    },
    {
      "cell_type": "markdown",
      "metadata": {
        "id": "VqDzCyiFRoTn"
      },
      "source": [
        "loading the data"
      ]
    },
    {
      "cell_type": "code",
      "execution_count": null,
      "metadata": {
        "colab": {
          "base_uri": "https://localhost:8080/"
        },
        "id": "POaMvDP5Pm2J",
        "outputId": "8ed683f9-a61f-4d94-ad05-07ac9d7dc2cb"
      },
      "outputs": [
        {
          "output_type": "stream",
          "name": "stdout",
          "text": [
            "Downloading data from https://storage.googleapis.com/tensorflow/tf-keras-datasets/train-labels-idx1-ubyte.gz\n",
            "29515/29515 [==============================] - 0s 0us/step\n",
            "Downloading data from https://storage.googleapis.com/tensorflow/tf-keras-datasets/train-images-idx3-ubyte.gz\n",
            "26421880/26421880 [==============================] - 0s 0us/step\n",
            "Downloading data from https://storage.googleapis.com/tensorflow/tf-keras-datasets/t10k-labels-idx1-ubyte.gz\n",
            "5148/5148 [==============================] - 0s 0us/step\n",
            "Downloading data from https://storage.googleapis.com/tensorflow/tf-keras-datasets/t10k-images-idx3-ubyte.gz\n",
            "4422102/4422102 [==============================] - 0s 0us/step\n",
            "x_train: (60000, 28, 28)\n",
            "x_test: (10000, 28, 28)\n",
            "y_train: (60000,)\n",
            "y_test: (10000,)\n"
          ]
        }
      ],
      "source": [
        "(x_train, y_train), (x_test, y_test) = tf.keras.datasets.fashion_mnist.load_data()\n",
        "print(f\"x_train: {x_train.shape}\")\n",
        "print(f\"x_test: {x_test.shape}\")\n",
        "print(f\"y_train: {y_train.shape}\")\n",
        "print(f\"y_test: {y_test.shape}\")"
      ]
    },
    {
      "cell_type": "code",
      "execution_count": null,
      "metadata": {
        "colab": {
          "base_uri": "https://localhost:8080/"
        },
        "id": "074CIQL2DBy0",
        "outputId": "5c82dd18-fa58-441e-8ad9-1318442b8201"
      },
      "outputs": [
        {
          "output_type": "display_data",
          "data": {
            "text/plain": [
              "<Figure size 432x288 with 1 Axes>"
            ],
            "image/png": "[encoded data removed]"
          },
          "metadata": {
            "needs_background": "light"
          }
        }
      ],
      "source": [
        "plt.figure()\n",
        "plt.imshow(x_train[3])\n",
        "plt.show()"
      ]
    },
    {
      "cell_type": "code",
      "execution_count": null,
      "metadata": {
        "id": "17Oa-oGDTsmm"
      },
      "outputs": [],
      "source": [
        "# create validation set\n",
        "\n",
        "indices = np.zeros((10000,), dtype=int)\n",
        "x_val = np.zeros((10000, 28, 28))\n",
        "y_val = np.zeros((10000,))\n",
        "for i in range(10):\n",
        "    class_indices = np.where(y_train == i)[0]\n",
        "    indices[i*1000:(i+1)*1000] = np.random.choice(class_indices[:], 1000, replace=False)\n",
        "x_val = deepcopy(x_train[indices])\n",
        "y_val = deepcopy(y_train[indices])\n",
        "x_train = np.delete(x_train, indices, axis=0) # remove validation set from x_train\n",
        "y_train = np.delete(y_train, indices, axis=0) # remove validation set from y_train\n"
      ]
    },
    {
      "cell_type": "code",
      "execution_count": null,
      "metadata": {
        "colab": {
          "base_uri": "https://localhost:8080/"
        },
        "id": "gt8dgSSGa_Sm",
        "outputId": "94060c3c-08a6-4fa2-bf30-782d3d0f6b87"
      },
      "outputs": [
        {
          "output_type": "stream",
          "name": "stdout",
          "text": [
            "x_train: (50000, 28, 28)\n",
            "x_val: (10000, 28, 28)\n",
            "x_test: (10000, 28, 28)\n",
            "y_train: (50000,)\n",
            "y_val: (10000,)\n",
            "y_test: (10000,)\n"
          ]
        }
      ],
      "source": [
        "print(f\"x_train: {x_train.shape}\")\n",
        "print(f\"x_val: {x_val.shape}\")\n",
        "print(f\"x_test: {x_test.shape}\")\n",
        "print(f\"y_train: {y_train.shape}\")\n",
        "print(f\"y_val: {y_val.shape}\")\n",
        "print(f\"y_test: {y_test.shape}\")"
      ]
    },
    {
      "cell_type": "code",
      "execution_count": null,
      "metadata": {
        "colab": {
          "base_uri": "https://localhost:8080/"
        },
        "id": "SihAtAFBPyQB",
        "outputId": "5a0c392b-bf0c-40a6-81a9-2b0332831f0a"
      },
      "outputs": [
        {
          "output_type": "stream",
          "name": "stdout",
          "text": [
            "x_train: (50000, 784)\n",
            "x_val: (10000, 784)\n",
            "x_test: (10000, 784)\n"
          ]
        }
      ],
      "source": [
        "#flatten the data\n",
        "x_train = x_train.reshape((x_train.shape[0],x_train.shape[1]*x_train.shape[2]))\n",
        "x_val = x_val.reshape((x_val.shape[0],x_val.shape[1]*x_val.shape[2]))\n",
        "x_test = x_test.reshape((x_test.shape[0],x_test.shape[1]*x_test.shape[2]))\n",
        "print(f\"x_train: {x_train.shape}\")\n",
        "print(f\"x_val: {x_val.shape}\")\n",
        "print(f\"x_test: {x_test.shape}\")"
      ]
    },
    {
      "cell_type": "code",
      "execution_count": null,
      "metadata": {
        "id": "OJBXDqvJsK0x"
      },
      "outputs": [],
      "source": [
        "#Normalization\n",
        "x_mean_train = np.mean(x_train, axis=1).reshape(50000,1)\n",
        "x_mean_val = np.mean(x_val, axis=1).reshape(10000,1)\n",
        "x_mean_test = np.mean(x_test, axis=1).reshape(10000,1)\n",
        "x_std_train = np.std(x_train, axis =1).reshape(50000,1)\n",
        "x_std_val = np.std(x_val, axis =1).reshape(10000,1)\n",
        "x_std_test = np.std(x_test, axis=1).reshape(10000,1)\n",
        "x_train_unnorm = x_train\n",
        "x_val_unnorm = x_val\n",
        "x_test_unnorm = x_test\n",
        "x_train = (x_train - x_mean_train)/x_std_train # subtract the mean to center the cloud of data around the origin along every dimension (the data is centered at 0)\n",
        "x_val = (x_val - x_mean_val)/x_std_val\n",
        "x_test = (x_test - x_mean_test)/x_std_test\n",
        "\n"
      ]
    },
    {
      "cell_type": "code",
      "execution_count": null,
      "metadata": {
        "id": "hDmW51sWthJm"
      },
      "outputs": [],
      "source": [
        "#convert class vectors to binary class matrices\n",
        "y_train_mtx = to_categorical(y_train)\n",
        "y_val_mtx = to_categorical(y_val)\n",
        "y_test_mtx = to_categorical(y_test)\n"
      ]
    },
    {
      "cell_type": "markdown",
      "metadata": {
        "id": "MGHN51bEuJ7k"
      },
      "source": [
        "Exploratory Analysis: Class Distribution"
      ]
    },
    {
      "cell_type": "code",
      "execution_count": null,
      "metadata": {
        "colab": {
          "base_uri": "https://localhost:8080/"
        },
        "id": "AiOwDBRyuMwN",
        "outputId": "6bbd9cb3-4c1e-4de8-92c0-1d5f66ef1566"
      },
      "outputs": [
        {
          "output_type": "stream",
          "name": "stdout",
          "text": [
            "Ankle boot     5000\n",
            "T-shirt/top    5000\n",
            "Pullover       5000\n",
            "Sneaker        5000\n",
            "Sandal         5000\n",
            "Trouser        5000\n",
            "Shirt          5000\n",
            "Coat           5000\n",
            "Dress          5000\n",
            "Bag            5000\n",
            "dtype: int64\n"
          ]
        }
      ],
      "source": [
        "label = ['T-shirt/top', 'Trouser', 'Pullover', 'Dress', 'Coat', 'Sandal', 'Shirt', 'Sneaker', 'Bag', 'Ankle boot']\n",
        "classes=[]\n",
        "for i in range(len(y_train)):\n",
        "  classes.append(label[y_train[i]])\n",
        "\n",
        "count = pd.Series(classes[:]).value_counts()\n",
        "print(count)"
      ]
    },
    {
      "cell_type": "markdown",
      "metadata": {
        "id": "iDaUY9wSwGAp"
      },
      "source": [
        "# **Task 2**"
      ]
    },
    {
      "cell_type": "code",
      "execution_count": null,
      "metadata": {
        "id": "x4mDMA7z5TmN"
      },
      "outputs": [],
      "source": [
        "def softmax(x) :\n",
        "  return np.exp(x)/sum(np.exp(x))\n",
        "\n",
        "def softmax_n(x):\n",
        "  result = []\n",
        "  for i in range(x.shape[0]):\n",
        "    result.append(softmax(x[i]))\n",
        "  return np.stack(result,axis=0)\n",
        "\n",
        "# use softmax at last layer\n",
        "class MLP:\n",
        "    \n",
        "    def __init__(self, M=64, layer_num=2, active_func=\"relu\", lrelu_gamma=0.7,dropout=1): # M is number of hidden units\n",
        "        self.M = M\n",
        "        self.layer_num = layer_num\n",
        "        self.lrelu_gamma = lrelu_gamma\n",
        "        self.dropout = dropout\n",
        "        \n",
        "        def lrelu(x):\n",
        "          temp = np.copy(x)\n",
        "          for i in range(temp.shape[0]):\n",
        "            for j in range(temp.shape[1]):\n",
        "              if x[i][j] > 0:\n",
        "                temp[i][j] = x[i][j]\n",
        "              else:\n",
        "                temp[i][j] = x[i][j] * self.lrelu_gamma\n",
        "          return temp\n",
        "\n",
        "        def relu(d):\n",
        "          temp = np.copy(d)\n",
        "          for i in range(d.shape[0]):\n",
        "            for j in range(d.shape[1]):\n",
        "              if d[i][j] > 0:\n",
        "                temp[i][j] = d[i][j]\n",
        "              else:\n",
        "                temp[i][j] = 0\n",
        "          return temp\n",
        "\n",
        "        np_tanh = lambda x: np.tanh(x)\n",
        "\n",
        "        def dlrelu(x):\n",
        "          temp = np.copy(x)\n",
        "          for i in range(temp.shape[0]):\n",
        "            for j in range(temp.shape[1]):\n",
        "              if x[i][j] > 0:\n",
        "                temp[i][j] = 1\n",
        "              elif x[i][j] < 0:\n",
        "                temp[i][j] = self.lrelu_gamma\n",
        "              else:\n",
        "                temp[i][j] = 0\n",
        "          return temp\n",
        "            \n",
        "        def drelu(x):\n",
        "          temp = np.copy(x)\n",
        "          for i in range(temp.shape[0]):\n",
        "            for j in range(temp.shape[1]):\n",
        "              if x[i][j] > 0:\n",
        "                temp[i][j] = 1\n",
        "              else:\n",
        "                temp[i][j] = 0\n",
        "          return temp\n",
        "\n",
        "        def dtanh(x):\n",
        "          return 1 - (np.tanh(x) * np.tanh(x))\n",
        "\n",
        "        if active_func == \"lrelu\":\n",
        "          self.acfun = lrelu\n",
        "          self.dfunc = drelu\n",
        "        elif active_func == \"relu\":\n",
        "          self.acfun = relu\n",
        "          self.dfunc = drelu\n",
        "        elif active_func == \"tanh\": \n",
        "          self.acfun = np_tanh\n",
        "          self.dfunc = np.vectorize(dtanh)\n",
        "                    \n",
        "    def fit(self, x, y, optimizer, pre_params=[], ridgeRegression=False, l2_reg=0):\n",
        "        N,D = x.shape\n",
        "        def gradient(x, y, params):\n",
        "          dparams = []\n",
        "          # has 0 hidden layer [w0]\n",
        "          if len(params) == 1:\n",
        "            #forward\n",
        "            w0 = params[0] # D x C\n",
        "            yh = softmax_n(np.dot(x,w0)) # N x D dot D x C -> N x C\n",
        "            # yh = np.argmax(yh_before,axis=1)[:,None] # change from N x C -> N x 1\n",
        "            dy = yh - y # N x C\n",
        "            \n",
        "            #backprop\n",
        "            dw0 = np.dot(x.T, dy) # D x N dot N x C -> D x C\n",
        "            if ridgeRegression:\n",
        "                dw0 += w0*l2_reg\n",
        "            dparams = [dw0] # D x C\n",
        "\n",
        "\n",
        "          elif len(params) == 2: # hidden = 1\n",
        "            # forward\n",
        "            w0,w1 = params \n",
        "            s0 = np.dot(x,w0) # N x M\n",
        "            z0 = self.acfun(s0) \n",
        "            s1 = np.dot(z0,w1) \n",
        "            yh= softmax_n(s1) \n",
        "            dy = (yh - y) \n",
        "\n",
        "            # backprop\n",
        "            dw1 = np.dot(z0.T,dy) \n",
        "            tmp = np.dot(dy,w1.T) \n",
        "            tmp = tmp * self.dfunc(s0) \n",
        "            dw0 = np.dot(x.T, tmp) \n",
        "\n",
        "            if ridgeRegression:\n",
        "                dw0 += w0*l2_reg\n",
        "                dw1 += w1*l2_reg\n",
        "\n",
        "            dparams = [dw0,dw1] # dw0: D x M, dw1: M x C\n",
        "            \n",
        "          elif len(params) == 3: # hidden = 2\n",
        "            # forward\n",
        "            w0,w1,w2 = params \n",
        "            s0 = np.dot(x,w0) # N x D dot D x M -> N x M\n",
        "            z0 = self.acfun(s0) \n",
        "            s1 = np.dot(z0,w1) # N x M dot M x M -> N x M\n",
        "            z1 = self.acfun(s1) \n",
        "            s2 = np.dot(z1,w2) \n",
        "            yh = softmax_n(s2) # N x C -> N x C\n",
        "            dy = (yh - y) \n",
        "\n",
        "            # backprop\n",
        "            dw2 = np.dot(z1.T, dy) \n",
        "\n",
        "            term1 = np.dot(w2,dy.T) \n",
        "            term2 = self.dfunc(s1) * z0  \n",
        "            dw1 = np.dot(term1,term2)  \n",
        "\n",
        "            term1 = np.dot(dy,w2.T)  \n",
        "            term2 = term1 * self.dfunc(s1)  \n",
        "            term3 = np.dot(term2, w1)  \n",
        "            term4 = term3 * self.dfunc(s0)  \n",
        "            dw0 = np.dot(x.T,term4)  \n",
        "\n",
        "            if ridgeRegression:\n",
        "                dw0 += w0*l2_reg\n",
        "                dw1 += w1*l2_reg\n",
        "                dw2 += w2*l2_reg\n",
        "\n",
        "            dparams = [dw0,dw1,dw2]\n",
        "          return dparams\n",
        "\n",
        "        M_new = int(self.M * self.dropout) + 1 # size + 1 (the bias)\n",
        "        D_new = int(D * self.dropout)\n",
        "        x_new = np.copy(x)\n",
        "        if self.dropout < 1:\n",
        "          # select randomly some features if dropout < 1\n",
        "          self.drop_index = np.random.randint(D,size=D_new)\n",
        "          x_new = x_new[:,self.drop_index]\n",
        "\n",
        "        D_new += 1 # size + 1 (the bias)\n",
        "        # add 1 column of random numbers to x as bias (bias is in shape N x 1)\n",
        "        new_col = np.random.randn(N,1) * .01\n",
        "        x_new = np.append(x_new,new_col,axis=1)\n",
        "          \n",
        "        # if trained based on previous params\n",
        "        if pre_params != []:\n",
        "          params0 = pre_params\n",
        "        else:\n",
        "          C = 10\n",
        "          if self.layer_num == 0:\n",
        "            w0 = np.random.randn(D_new,C) * .01 # D x C\n",
        "            params0 = [w0]\n",
        "          elif self.layer_num == 1:\n",
        "            w0 = np.random.randn(D_new,M_new) * .01  \n",
        "            w1 = np.random.randn(M_new,C) * .01  \n",
        "            params0 = [w0,w1]\n",
        "          elif self.layer_num == 2:\n",
        "            w0 = np.random.randn(D_new,M_new) * .01  \n",
        "            w1 = np.random.randn(M_new,M_new) * .01  \n",
        "            w2 = np.random.randn(M_new,C) * .01  \n",
        "            params0 = [w0,w1,w2]\n",
        "\n",
        "        self.params, self.params_per_epoch = optimizer.run(gradient, x_new, y, params0)\n",
        "        return self\n",
        "    \n",
        "    def predict(self, x):\n",
        "      if(self.dropout < 1):\n",
        "        input = x[:,self.drop_index]\n",
        "      else:\n",
        "        input = x\n",
        "\n",
        "      for i in range(len(self.params)):\n",
        "        if(i  == len(self.params)-1):\n",
        "          input = np.dot(input,self.params[i][:-1]) # ignore the bias row when predicting\n",
        "        else:\n",
        "          input = self.acfun(np.dot(input,self.params[i][:-1,:-1])) \n",
        "      yh = softmax(input)\n",
        "      return yh\n",
        "\n",
        "    def evaluate_acc(self,y_pred,y_true):\n",
        "       \n",
        "      y_pred = np.argmax(y_pred,axis=1)\n",
        "      y_true = np.argmax(y_true,axis=1)\n",
        "      return np.sum(y_pred == y_true)/y_true.shape[0]\n",
        "\n",
        "class GradientDescent:\n",
        "  # default batch size 50\n",
        "  def __init__(self, learning_rate=.001, max_iters=10000, epsilon=1e-8, batch_size = 50):\n",
        "      self.learning_rate = learning_rate\n",
        "      self.max_iters = max_iters\n",
        "      self.epsilon = epsilon\n",
        "      self.batch_size = batch_size\n",
        "      self.epochs = 0\n",
        "      \n",
        "      \n",
        "  def run(self, gradient_fn, x, y, params):\n",
        "       \n",
        "      params_per_epoch = list()\n",
        "      norms = np.array([np.inf])\n",
        "      t = 1\n",
        "      while np.any(norms > self.epsilon) and t < self.max_iters:\n",
        "         \n",
        "        N,D = x.shape\n",
        "        C = 10\n",
        "        batch_index = np.random.randint(N,size=self.batch_size)\n",
        "        x_batch = x[batch_index] # N x D\n",
        "        y_batch = y[batch_index] # N x C\n",
        "        grad = gradient_fn(x_batch, y_batch, params)\n",
        "        for p in range(len(params)):\n",
        "          params[p] -= self.learning_rate * grad[p]\n",
        "        t += 1\n",
        "        norms = np.array([np.linalg.norm(g) for g in grad])\n",
        "        if N / (t/(self.epochs+1)) <= self.batch_size:\n",
        "            self.epochs += 1\n",
        "            params_copy = deepcopy(params)\n",
        "            params_per_epoch.append(params_copy)\n",
        "\n",
        "      print(f\"run completed after {t} SGD batches and {self.epochs} epochs\")\n",
        "      return params, params_per_epoch\n",
        "\n"
      ]
    },
    {
      "cell_type": "code",
      "execution_count": null,
      "metadata": {
        "id": "A0xTD9gF4pmz"
      },
      "outputs": [],
      "source": [
        "def run_n_epochs(model, optimizer, max_epochs, result_dict=None):\n",
        "    def ce(yh, y):\n",
        "        log_yh = np.log(yh)\n",
        "        log_yh[log_yh==-np.inf]=-1000000 # replace -inf with large negative number to allow computation.\n",
        "        return -(y * log_yh).sum(axis=-1).mean()\n",
        "\n",
        "\n",
        "\n",
        "    if result_dict == None: result_dict = {\"train_acc\": [], \"val_acc\": [], \"train_loss\": [], \"val_loss\": []}\n",
        "\n",
        "    # set params =  if model is completely untrained\n",
        "    try:\n",
        "        params = model.params\n",
        "    except AttributeError:\n",
        "        params = []\n",
        "        \n",
        "    for i in range(max_epochs):\n",
        "        model.fit(x_train,y_train_mtx,optimizer,params)\n",
        "        params = model.params\n",
        "\n",
        "        yh_train = model.predict(x_train)\n",
        "        train_acc = model.evaluate_acc(yh_train,y_train_mtx)\n",
        "        train_loss = ce(yh_train, y_train_mtx)\n",
        "\n",
        "        yh_val = model.predict(x_val)\n",
        "        val_acc = model.evaluate_acc(yh_val,y_val_mtx)\n",
        "        val_loss = ce(yh_val, y_val_mtx)\n",
        "\n",
        "        result_dict['train_acc'].append(train_acc)\n",
        "        result_dict['val_acc'].append(val_acc)\n",
        "        result_dict['train_loss'].append(train_loss)\n",
        "        result_dict['val_loss'].append(val_loss)\n",
        "\n",
        "    return result_dict, model"
      ]
    },
    {
      "cell_type": "markdown",
      "metadata": {
        "id": "YfhnH5KOT14B"
      },
      "source": [
        "# 3.1"
      ]
    },
    {
      "cell_type": "code",
      "execution_count": null,
      "metadata": {
        "id": "KqS1cQeriiKC"
      },
      "outputs": [],
      "source": [
        "def compare_models(model_list,optimizer):\n",
        "  test_acc = []\n",
        "  for model in model_list:\n",
        "    model.fit(x_train,y_train_mtx,optimizer)\n",
        "    y_pred = model.predict(x_test)\n",
        "    test_acc.append([model.evaluate_acc(y_pred,y_test_mtx)])\n",
        "  return test_acc"
      ]
    },
    {
      "cell_type": "code",
      "execution_count": null,
      "metadata": {
        "colab": {
          "base_uri": "https://localhost:8080/",
          "height": 198
        },
        "id": "BRnYn7b75Zgj",
        "outputId": "0efe4c82-edcb-4d5f-d34b-9a77a1b3711e"
      },
      "outputs": [
        {
          "output_type": "stream",
          "name": "stdout",
          "text": [
            "run completed after 20000 SGD batches and 20 epochs\n",
            "run completed after 20000 SGD batches and 20 epochs\n",
            "run completed after 20000 SGD batches and 20 epochs\n"
          ]
        },
        {
          "output_type": "execute_result",
          "data": {
            "text/plain": [
              "   Test Accuracy Activate Function  Hidden Layer  Dropout Ratio  \\\n",
              "0         0.8114              Relu             0              1   \n",
              "1         0.8262              Relu             1              1   \n",
              "2         0.5520              Relu             2              1   \n",
              "\n",
              "   Normalized Train Data  \n",
              "0                   True  \n",
              "1                   True  \n",
              "2                   True  "
            ],
            "text/html": [
              "\n",
              "  <div id=\"df-a6849c22-a111-4c83-ac5c-6827ac5419d0\">\n",
              "    <div class=\"colab-df-container\">\n",
              "      <div>\n",
              "<style scoped>\n",
              "    .dataframe tbody tr th:only-of-type {\n",
              "        vertical-align: middle;\n",
              "    }\n",
              "\n",
              "    .dataframe tbody tr th {\n",
              "        vertical-align: top;\n",
              "    }\n",
              "\n",
              "    .dataframe thead th {\n",
              "        text-align: right;\n",
              "    }\n",
              "</style>\n",
              "<table border=\"1\" class=\"dataframe\">\n",
              "  <thead>\n",
              "    <tr style=\"text-align: right;\">\n",
              "      <th></th>\n",
              "      <th>Test Accuracy</th>\n",
              "      <th>Activate Function</th>\n",
              "      <th>Hidden Layer</th>\n",
              "      <th>Dropout Ratio</th>\n",
              "      <th>Normalized Train Data</th>\n",
              "    </tr>\n",
              "  </thead>\n",
              "  <tbody>\n",
              "    <tr>\n",
              "      <th>0</th>\n",
              "      <td>0.8114</td>\n",
              "      <td>Relu</td>\n",
              "      <td>0</td>\n",
              "      <td>1</td>\n",
              "      <td>True</td>\n",
              "    </tr>\n",
              "    <tr>\n",
              "      <th>1</th>\n",
              "      <td>0.8262</td>\n",
              "      <td>Relu</td>\n",
              "      <td>1</td>\n",
              "      <td>1</td>\n",
              "      <td>True</td>\n",
              "    </tr>\n",
              "    <tr>\n",
              "      <th>2</th>\n",
              "      <td>0.5520</td>\n",
              "      <td>Relu</td>\n",
              "      <td>2</td>\n",
              "      <td>1</td>\n",
              "      <td>True</td>\n",
              "    </tr>\n",
              "  </tbody>\n",
              "</table>\n",
              "</div>\n",
              "      <button class=\"colab-df-convert\" onclick=\"convertToInteractive('df-a6849c22-a111-4c83-ac5c-6827ac5419d0')\"\n",
              "              title=\"Convert this dataframe to an interactive table.\"\n",
              "              style=\"display:none;\">\n",
              "        \n",
              "  <svg xmlns=\"http://www.w3.org/2000/svg\" height=\"24px\"viewBox=\"0 0 24 24\"\n",
              "       width=\"24px\">\n",
              "    <path d=\"M0 0h24v24H0V0z\" fill=\"none\"/>\n",
              "    <path d=\"M18.56 5.44l.94 2.06.94-2.06 2.06-.94-2.06-.94-.94-2.06-.94 2.06-2.06.94zm-11 1L8.5 8.5l.94-2.06 2.06-.94-2.06-.94L8.5 2.5l-.94 2.06-2.06.94zm10 10l.94 2.06.94-2.06 2.06-.94-2.06-.94-.94-2.06-.94 2.06-2.06.94z\"/><path d=\"M17.41 7.96l-1.37-1.37c-.4-.4-.92-.59-1.43-.59-.52 0-1.04.2-1.43.59L10.3 9.45l-7.72 7.72c-.78.78-.78 2.05 0 2.83L4 21.41c.39.39.9.59 1.41.59.51 0 1.02-.2 1.41-.59l7.78-7.78 2.81-2.81c.8-.78.8-2.07 0-2.86zM5.41 20L4 18.59l7.72-7.72 1.47 1.35L5.41 20z\"/>\n",
              "  </svg>\n",
              "      </button>\n",
              "      \n",
              "  <style>\n",
              "    .colab-df-container {\n",
              "      display:flex;\n",
              "      flex-wrap:wrap;\n",
              "      gap: 12px;\n",
              "    }\n",
              "\n",
              "    .colab-df-convert {\n",
              "      background-color: #E8F0FE;\n",
              "      border: none;\n",
              "      border-radius: 50%;\n",
              "      cursor: pointer;\n",
              "      display: none;\n",
              "      fill: #1967D2;\n",
              "      height: 32px;\n",
              "      padding: 0 0 0 0;\n",
              "      width: 32px;\n",
              "    }\n",
              "\n",
              "    .colab-df-convert:hover {\n",
              "      background-color: #E2EBFA;\n",
              "      box-shadow: 0px 1px 2px rgba(60, 64, 67, 0.3), 0px 1px 3px 1px rgba(60, 64, 67, 0.15);\n",
              "      fill: #174EA6;\n",
              "    }\n",
              "\n",
              "    [theme=dark] .colab-df-convert {\n",
              "      background-color: #3B4455;\n",
              "      fill: #D2E3FC;\n",
              "    }\n",
              "\n",
              "    [theme=dark] .colab-df-convert:hover {\n",
              "      background-color: #434B5C;\n",
              "      box-shadow: 0px 1px 3px 1px rgba(0, 0, 0, 0.15);\n",
              "      filter: drop-shadow(0px 1px 2px rgba(0, 0, 0, 0.3));\n",
              "      fill: #FFFFFF;\n",
              "    }\n",
              "  </style>\n",
              "\n",
              "      <script>\n",
              "        const buttonEl =\n",
              "          document.querySelector('#df-a6849c22-a111-4c83-ac5c-6827ac5419d0 button.colab-df-convert');\n",
              "        buttonEl.style.display =\n",
              "          google.colab.kernel.accessAllowed ? 'block' : 'none';\n",
              "\n",
              "        async function convertToInteractive(key) {\n",
              "          const element = document.querySelector('#df-a6849c22-a111-4c83-ac5c-6827ac5419d0');\n",
              "          const dataTable =\n",
              "            await google.colab.kernel.invokeFunction('convertToInteractive',\n",
              "                                                     [key], {});\n",
              "          if (!dataTable) return;\n",
              "\n",
              "          const docLinkHtml = 'Like what you see? Visit the ' +\n",
              "            '<a target=\"_blank\" href=https://colab.research.google.com/notebooks/data_table.ipynb>data table notebook</a>'\n",
              "            + ' to learn more about interactive tables.';\n",
              "          element.innerHTML = '';\n",
              "          dataTable['output_type'] = 'display_data';\n",
              "          await google.colab.output.renderOutput(dataTable, element);\n",
              "          const docLink = document.createElement('div');\n",
              "          docLink.innerHTML = docLinkHtml;\n",
              "          element.appendChild(docLink);\n",
              "        }\n",
              "      </script>\n",
              "    </div>\n",
              "  </div>\n",
              "  "
            ]
          },
          "metadata": {},
          "execution_count": 18
        }
      ],
      "source": [
        "# optimizer used for all experiments\n",
        "optimizer = GradientDescent(learning_rate=0.00005,max_iters=20000)\n",
        "MLP_0L = MLP(layer_num=0)\n",
        "MLP_1L = MLP(layer_num=1,M=128,active_func=\"relu\")\n",
        "MLP_2L = MLP(layer_num=2,M=128,active_func=\"relu\")\n",
        "\n",
        "# creating models\n",
        "column_names = ['Test Accuracy','Activate Function','Hidden Layer','Dropout Ratio','Normalized Train Data']\n",
        "model_list = [MLP_0L,MLP_1L,MLP_2L] # compare depths\n",
        "acc_list = compare_models(model_list,optimizer)\n",
        "acc_list[0].extend([\"Relu\",0,1,True])\n",
        "acc_list[1].extend([\"Relu\",1,1,True])\n",
        "acc_list[2].extend([\"Relu\",2,1,True])\n",
        "df = pd.DataFrame(acc_list,columns=column_names)\n",
        "df"
      ]
    },
    {
      "cell_type": "markdown",
      "metadata": {
        "id": "SDD9uSubT9Mq"
      },
      "source": [
        "# 3.2"
      ]
    },
    {
      "cell_type": "markdown",
      "metadata": {
        "id": "6iL68__L7slv"
      },
      "source": [
        "This experiment was ran at multiple learning rates to try to find an optimal learning rate for each activation function."
      ]
    },
    {
      "cell_type": "code",
      "execution_count": null,
      "metadata": {
        "colab": {
          "base_uri": "https://localhost:8080/",
          "height": 196
        },
        "id": "A79XoekhGd9S",
        "outputId": "e0489288-a101-4297-e72d-f9491a50052a"
      },
      "outputs": [
        {
          "output_type": "stream",
          "name": "stdout",
          "text": [
            "run completed after 20000 SGD batches and 20 epochs\n",
            "run completed after 20000 SGD batches and 20 epochs\n",
            "run completed after 20000 SGD batches and 20 epochs\n"
          ]
        },
        {
          "output_type": "execute_result",
          "data": {
            "text/plain": [
              "   Test Accuracy Activate Function  Hidden Layer  Dropout Ratio  \\\n",
              "0         0.5487              Relu             2              1   \n",
              "1         0.7021        Leaky Relu             2              1   \n",
              "2         0.7967              Tanh             2              1   \n",
              "\n",
              "   Normalized Train Data  \n",
              "0                   True  \n",
              "1                   True  \n",
              "2                   True  "
            ],
            "text/html": [
              "\n",
              "  <div id=\"df-32181da7-acf1-40a8-ad20-18c3aee6cfab\">\n",
              "    <div class=\"colab-df-container\">\n",
              "      <div>\n",
              "<style scoped>\n",
              "    .dataframe tbody tr th:only-of-type {\n",
              "        vertical-align: middle;\n",
              "    }\n",
              "\n",
              "    .dataframe tbody tr th {\n",
              "        vertical-align: top;\n",
              "    }\n",
              "\n",
              "    .dataframe thead th {\n",
              "        text-align: right;\n",
              "    }\n",
              "</style>\n",
              "<table border=\"1\" class=\"dataframe\">\n",
              "  <thead>\n",
              "    <tr style=\"text-align: right;\">\n",
              "      <th></th>\n",
              "      <th>Test Accuracy</th>\n",
              "      <th>Activate Function</th>\n",
              "      <th>Hidden Layer</th>\n",
              "      <th>Dropout Ratio</th>\n",
              "      <th>Normalized Train Data</th>\n",
              "    </tr>\n",
              "  </thead>\n",
              "  <tbody>\n",
              "    <tr>\n",
              "      <th>0</th>\n",
              "      <td>0.5487</td>\n",
              "      <td>Relu</td>\n",
              "      <td>2</td>\n",
              "      <td>1</td>\n",
              "      <td>True</td>\n",
              "    </tr>\n",
              "    <tr>\n",
              "      <th>1</th>\n",
              "      <td>0.7021</td>\n",
              "      <td>Leaky Relu</td>\n",
              "      <td>2</td>\n",
              "      <td>1</td>\n",
              "      <td>True</td>\n",
              "    </tr>\n",
              "    <tr>\n",
              "      <th>2</th>\n",
              "      <td>0.7967</td>\n",
              "      <td>Tanh</td>\n",
              "      <td>2</td>\n",
              "      <td>1</td>\n",
              "      <td>True</td>\n",
              "    </tr>\n",
              "  </tbody>\n",
              "</table>\n",
              "</div>\n",
              "      <button class=\"colab-df-convert\" onclick=\"convertToInteractive('df-32181da7-acf1-40a8-ad20-18c3aee6cfab')\"\n",
              "              title=\"Convert this dataframe to an interactive table.\"\n",
              "              style=\"display:none;\">\n",
              "        \n",
              "  <svg xmlns=\"http://www.w3.org/2000/svg\" height=\"24px\"viewBox=\"0 0 24 24\"\n",
              "       width=\"24px\">\n",
              "    <path d=\"M0 0h24v24H0V0z\" fill=\"none\"/>\n",
              "    <path d=\"M18.56 5.44l.94 2.06.94-2.06 2.06-.94-2.06-.94-.94-2.06-.94 2.06-2.06.94zm-11 1L8.5 8.5l.94-2.06 2.06-.94-2.06-.94L8.5 2.5l-.94 2.06-2.06.94zm10 10l.94 2.06.94-2.06 2.06-.94-2.06-.94-.94-2.06-.94 2.06-2.06.94z\"/><path d=\"M17.41 7.96l-1.37-1.37c-.4-.4-.92-.59-1.43-.59-.52 0-1.04.2-1.43.59L10.3 9.45l-7.72 7.72c-.78.78-.78 2.05 0 2.83L4 21.41c.39.39.9.59 1.41.59.51 0 1.02-.2 1.41-.59l7.78-7.78 2.81-2.81c.8-.78.8-2.07 0-2.86zM5.41 20L4 18.59l7.72-7.72 1.47 1.35L5.41 20z\"/>\n",
              "  </svg>\n",
              "      </button>\n",
              "      \n",
              "  <style>\n",
              "    .colab-df-container {\n",
              "      display:flex;\n",
              "      flex-wrap:wrap;\n",
              "      gap: 12px;\n",
              "    }\n",
              "\n",
              "    .colab-df-convert {\n",
              "      background-color: #E8F0FE;\n",
              "      border: none;\n",
              "      border-radius: 50%;\n",
              "      cursor: pointer;\n",
              "      display: none;\n",
              "      fill: #1967D2;\n",
              "      height: 32px;\n",
              "      padding: 0 0 0 0;\n",
              "      width: 32px;\n",
              "    }\n",
              "\n",
              "    .colab-df-convert:hover {\n",
              "      background-color: #E2EBFA;\n",
              "      box-shadow: 0px 1px 2px rgba(60, 64, 67, 0.3), 0px 1px 3px 1px rgba(60, 64, 67, 0.15);\n",
              "      fill: #174EA6;\n",
              "    }\n",
              "\n",
              "    [theme=dark] .colab-df-convert {\n",
              "      background-color: #3B4455;\n",
              "      fill: #D2E3FC;\n",
              "    }\n",
              "\n",
              "    [theme=dark] .colab-df-convert:hover {\n",
              "      background-color: #434B5C;\n",
              "      box-shadow: 0px 1px 3px 1px rgba(0, 0, 0, 0.15);\n",
              "      filter: drop-shadow(0px 1px 2px rgba(0, 0, 0, 0.3));\n",
              "      fill: #FFFFFF;\n",
              "    }\n",
              "  </style>\n",
              "\n",
              "      <script>\n",
              "        const buttonEl =\n",
              "          document.querySelector('#df-32181da7-acf1-40a8-ad20-18c3aee6cfab button.colab-df-convert');\n",
              "        buttonEl.style.display =\n",
              "          google.colab.kernel.accessAllowed ? 'block' : 'none';\n",
              "\n",
              "        async function convertToInteractive(key) {\n",
              "          const element = document.querySelector('#df-32181da7-acf1-40a8-ad20-18c3aee6cfab');\n",
              "          const dataTable =\n",
              "            await google.colab.kernel.invokeFunction('convertToInteractive',\n",
              "                                                     [key], {});\n",
              "          if (!dataTable) return;\n",
              "\n",
              "          const docLinkHtml = 'Like what you see? Visit the ' +\n",
              "            '<a target=\"_blank\" href=https://colab.research.google.com/notebooks/data_table.ipynb>data table notebook</a>'\n",
              "            + ' to learn more about interactive tables.';\n",
              "          element.innerHTML = '';\n",
              "          dataTable['output_type'] = 'display_data';\n",
              "          await google.colab.output.renderOutput(dataTable, element);\n",
              "          const docLink = document.createElement('div');\n",
              "          docLink.innerHTML = docLinkHtml;\n",
              "          element.appendChild(docLink);\n",
              "        }\n",
              "      </script>\n",
              "    </div>\n",
              "  </div>\n",
              "  "
            ]
          },
          "metadata": {},
          "execution_count": 5
        }
      ],
      "source": [
        "optimizer = GradientDescent(learning_rate=0.0001,max_iters=20000)\n",
        "MLP_2L_relu = MLP(layer_num=2,M=128,active_func=\"relu\")\n",
        "MLP_2L_lrelu = MLP(layer_num=2,M=128,active_func=\"lrelu\")\n",
        "MLP_2L_tanh = MLP(layer_num=2,M=128,active_func=\"tanh\")\n",
        "models_acfun = [MLP_2L_relu,MLP_2L_lrelu,MLP_2L_tanh] # compare acfuns\n",
        "acc_list = compare_models(models_acfun,optimizer)\n",
        "acc_list[0].extend([\"Relu\",2,1,True])\n",
        "acc_list[1].extend([\"Leaky Relu\",2,1,True])\n",
        "acc_list[2].extend([\"Tanh\",2,1,True])\n",
        "column_names = ['Test Accuracy','Activate Function','Hidden Layer','Dropout Ratio','Normalized Train Data']\n",
        "df2 = pd.DataFrame(acc_list,columns=column_names)\n",
        "df2"
      ]
    },
    {
      "cell_type": "markdown",
      "metadata": {
        "id": "xQ33SXLphQ_l"
      },
      "source": [
        "# 3.3"
      ]
    },
    {
      "cell_type": "code",
      "execution_count": null,
      "metadata": {
        "id": "lUq1bND4pbsX",
        "colab": {
          "base_uri": "https://localhost:8080/",
          "height": 578
        },
        "outputId": "a27afdf6-2d06-4820-eb1f-042b462f01dd"
      },
      "outputs": [
        {
          "output_type": "stream",
          "name": "stdout",
          "text": [
            "run completed after 10000 SGD batches and 10 epochs\n",
            "Control: [0.7417, 'No l2 used']% accuracy\n",
            "run completed after 10000 SGD batches and 10 epochs\n",
            "Model with lambda = 0.01: [0.7262, '0.1']% accuracy\n",
            "run completed after 10000 SGD batches and 10 epochs\n",
            "Model with lambda = 0.1: [0.7416, '0.15']% accuracy\n",
            "run completed after 10000 SGD batches and 10 epochs\n",
            "Model with lambda = 0.5: [0.7041, '0.2']% accuracy\n",
            "run completed after 10000 SGD batches and 10 epochs\n",
            "Model with lambda = 1: [0.7121, '0.3']% accuracy\n",
            "run completed after 10000 SGD batches and 10 epochs\n",
            "Model with lambda = 10: [0.5748, '1']% accuracy\n",
            "run completed after 10000 SGD batches and 10 epochs\n",
            "Model with lambda = 10: [0.1, '10']% accuracy\n",
            "run completed after 10000 SGD batches and 10 epochs\n",
            "Model with lambda = 10: [0.1, '100']% accuracy\n"
          ]
        },
        {
          "output_type": "execute_result",
          "data": {
            "text/plain": [
              "   Test Accuracy      Lambda\n",
              "0         0.7417  No l2 used\n",
              "1         0.7262         0.1\n",
              "2         0.7416        0.15\n",
              "3         0.7041         0.2\n",
              "4         0.7121         0.3\n",
              "5         0.5748           1\n",
              "6         0.1000          10\n",
              "7         0.1000         100"
            ],
            "text/html": [
              "\n",
              "  <div id=\"df-9a925d66-0186-4a60-87c8-07c8bdfb44b0\">\n",
              "    <div class=\"colab-df-container\">\n",
              "      <div>\n",
              "<style scoped>\n",
              "    .dataframe tbody tr th:only-of-type {\n",
              "        vertical-align: middle;\n",
              "    }\n",
              "\n",
              "    .dataframe tbody tr th {\n",
              "        vertical-align: top;\n",
              "    }\n",
              "\n",
              "    .dataframe thead th {\n",
              "        text-align: right;\n",
              "    }\n",
              "</style>\n",
              "<table border=\"1\" class=\"dataframe\">\n",
              "  <thead>\n",
              "    <tr style=\"text-align: right;\">\n",
              "      <th></th>\n",
              "      <th>Test Accuracy</th>\n",
              "      <th>Lambda</th>\n",
              "    </tr>\n",
              "  </thead>\n",
              "  <tbody>\n",
              "    <tr>\n",
              "      <th>0</th>\n",
              "      <td>0.7417</td>\n",
              "      <td>No l2 used</td>\n",
              "    </tr>\n",
              "    <tr>\n",
              "      <th>1</th>\n",
              "      <td>0.7262</td>\n",
              "      <td>0.1</td>\n",
              "    </tr>\n",
              "    <tr>\n",
              "      <th>2</th>\n",
              "      <td>0.7416</td>\n",
              "      <td>0.15</td>\n",
              "    </tr>\n",
              "    <tr>\n",
              "      <th>3</th>\n",
              "      <td>0.7041</td>\n",
              "      <td>0.2</td>\n",
              "    </tr>\n",
              "    <tr>\n",
              "      <th>4</th>\n",
              "      <td>0.7121</td>\n",
              "      <td>0.3</td>\n",
              "    </tr>\n",
              "    <tr>\n",
              "      <th>5</th>\n",
              "      <td>0.5748</td>\n",
              "      <td>1</td>\n",
              "    </tr>\n",
              "    <tr>\n",
              "      <th>6</th>\n",
              "      <td>0.1000</td>\n",
              "      <td>10</td>\n",
              "    </tr>\n",
              "    <tr>\n",
              "      <th>7</th>\n",
              "      <td>0.1000</td>\n",
              "      <td>100</td>\n",
              "    </tr>\n",
              "  </tbody>\n",
              "</table>\n",
              "</div>\n",
              "      <button class=\"colab-df-convert\" onclick=\"convertToInteractive('df-9a925d66-0186-4a60-87c8-07c8bdfb44b0')\"\n",
              "              title=\"Convert this dataframe to an interactive table.\"\n",
              "              style=\"display:none;\">\n",
              "        \n",
              "  <svg xmlns=\"http://www.w3.org/2000/svg\" height=\"24px\"viewBox=\"0 0 24 24\"\n",
              "       width=\"24px\">\n",
              "    <path d=\"M0 0h24v24H0V0z\" fill=\"none\"/>\n",
              "    <path d=\"M18.56 5.44l.94 2.06.94-2.06 2.06-.94-2.06-.94-.94-2.06-.94 2.06-2.06.94zm-11 1L8.5 8.5l.94-2.06 2.06-.94-2.06-.94L8.5 2.5l-.94 2.06-2.06.94zm10 10l.94 2.06.94-2.06 2.06-.94-2.06-.94-.94-2.06-.94 2.06-2.06.94z\"/><path d=\"M17.41 7.96l-1.37-1.37c-.4-.4-.92-.59-1.43-.59-.52 0-1.04.2-1.43.59L10.3 9.45l-7.72 7.72c-.78.78-.78 2.05 0 2.83L4 21.41c.39.39.9.59 1.41.59.51 0 1.02-.2 1.41-.59l7.78-7.78 2.81-2.81c.8-.78.8-2.07 0-2.86zM5.41 20L4 18.59l7.72-7.72 1.47 1.35L5.41 20z\"/>\n",
              "  </svg>\n",
              "      </button>\n",
              "      \n",
              "  <style>\n",
              "    .colab-df-container {\n",
              "      display:flex;\n",
              "      flex-wrap:wrap;\n",
              "      gap: 12px;\n",
              "    }\n",
              "\n",
              "    .colab-df-convert {\n",
              "      background-color: #E8F0FE;\n",
              "      border: none;\n",
              "      border-radius: 50%;\n",
              "      cursor: pointer;\n",
              "      display: none;\n",
              "      fill: #1967D2;\n",
              "      height: 32px;\n",
              "      padding: 0 0 0 0;\n",
              "      width: 32px;\n",
              "    }\n",
              "\n",
              "    .colab-df-convert:hover {\n",
              "      background-color: #E2EBFA;\n",
              "      box-shadow: 0px 1px 2px rgba(60, 64, 67, 0.3), 0px 1px 3px 1px rgba(60, 64, 67, 0.15);\n",
              "      fill: #174EA6;\n",
              "    }\n",
              "\n",
              "    [theme=dark] .colab-df-convert {\n",
              "      background-color: #3B4455;\n",
              "      fill: #D2E3FC;\n",
              "    }\n",
              "\n",
              "    [theme=dark] .colab-df-convert:hover {\n",
              "      background-color: #434B5C;\n",
              "      box-shadow: 0px 1px 3px 1px rgba(0, 0, 0, 0.15);\n",
              "      filter: drop-shadow(0px 1px 2px rgba(0, 0, 0, 0.3));\n",
              "      fill: #FFFFFF;\n",
              "    }\n",
              "  </style>\n",
              "\n",
              "      <script>\n",
              "        const buttonEl =\n",
              "          document.querySelector('#df-9a925d66-0186-4a60-87c8-07c8bdfb44b0 button.colab-df-convert');\n",
              "        buttonEl.style.display =\n",
              "          google.colab.kernel.accessAllowed ? 'block' : 'none';\n",
              "\n",
              "        async function convertToInteractive(key) {\n",
              "          const element = document.querySelector('#df-9a925d66-0186-4a60-87c8-07c8bdfb44b0');\n",
              "          const dataTable =\n",
              "            await google.colab.kernel.invokeFunction('convertToInteractive',\n",
              "                                                     [key], {});\n",
              "          if (!dataTable) return;\n",
              "\n",
              "          const docLinkHtml = 'Like what you see? Visit the ' +\n",
              "            '<a target=\"_blank\" href=https://colab.research.google.com/notebooks/data_table.ipynb>data table notebook</a>'\n",
              "            + ' to learn more about interactive tables.';\n",
              "          element.innerHTML = '';\n",
              "          dataTable['output_type'] = 'display_data';\n",
              "          await google.colab.output.renderOutput(dataTable, element);\n",
              "          const docLink = document.createElement('div');\n",
              "          docLink.innerHTML = docLinkHtml;\n",
              "          element.appendChild(docLink);\n",
              "        }\n",
              "      </script>\n",
              "    </div>\n",
              "  </div>\n",
              "  "
            ]
          },
          "metadata": {},
          "execution_count": 7
        }
      ],
      "source": [
        "# 3.3 Trial 1\n",
        "test_acc = []\n",
        "\n",
        "optimizer = GradientDescent(learning_rate=0.00005,max_iters=10000)\n",
        "model = MLP(layer_num=2,M=128,active_func=\"relu\")\n",
        "model.fit(x_train,y_train_mtx,optimizer)\n",
        "y_pred = model.predict(x_test)\n",
        "test_acc.append([model.evaluate_acc(y_pred,y_test_mtx), f\"No l2 used\"])\n",
        "print(f\"Control: {test_acc[0]}% accuracy\")\n",
        "\n",
        "for i, lambduh in enumerate([0.01, 0.1, 1, 10]):\n",
        "    optimizer = GradientDescent(learning_rate=0.00005,max_iters=10000)\n",
        "    model = MLP(layer_num=2,M=128,active_func=\"relu\")\n",
        "    model.fit(x_train,y_train_mtx,optimizer,ridgeRegression=True, l2_reg=lambduh)\n",
        "    y_pred = model.predict(x_test)\n",
        "    test_acc.append([model.evaluate_acc(y_pred,y_test_mtx), str(lambduh)])\n",
        "    print(f\"Model with lambda = {lambduh}: {test_acc[i+2]}% accuracy\")\n",
        "\n",
        "column_names = ['Test Accuracy','Lambda']\n",
        "df_reg = pd.DataFrame(test_acc,columns=column_names)\n",
        "df_reg"
      ]
    },
    {
      "cell_type": "markdown",
      "metadata": {
        "id": "VXVwmkNEUG_0"
      },
      "source": [
        "# 3.4"
      ]
    },
    {
      "cell_type": "code",
      "source": [
        "with tf.device('/device:GPU:0'): \n",
        "    # Unnormalized Data Trial 1\n",
        "    optimizer = GradientDescent(learning_rate=0.00001,max_iters=1000)\n",
        "    model_unnorm = MLP(layer_num=2,M=128,active_func=\"relu\")\n",
        "    model_unnorm.fit(x_train_unnorm, y_train_mtx, optimizer)\n",
        "    y_pred_unorm = model_unnorm.predict(x_test_unnorm)\n",
        "    acc_unnorm=model_unnorm.evaluate_acc(y_pred_unorm,y_test_mtx)\n",
        "    print(acc_unnorm)"
      ],
      "metadata": {
        "colab": {
          "base_uri": "https://localhost:8080/"
        },
        "id": "RWxxRRZPNvmR",
        "outputId": "d60fa3c2-79b8-4d62-b591-489aac7e269c"
      },
      "execution_count": null,
      "outputs": [
        {
          "output_type": "stream",
          "name": "stdout",
          "text": [
            "run completed after 1000 SGD batches and 1 epochs\n",
            "0.6472\n"
          ]
        }
      ]
    },
    {
      "cell_type": "code",
      "source": [
        "with tf.device('/device:GPU:0'): \n",
        "    # Unnormalized Data Trial 2\n",
        "    optimizer = GradientDescent(learning_rate=0.00001,max_iters=2000)\n",
        "    model_unnorm = MLP(layer_num=2,M=128,active_func=\"relu\")\n",
        "    model_unnorm.fit(x_train_unnorm, y_train_mtx, optimizer)\n",
        "    y_pred_unorm = model_unnorm.predict(x_test_unnorm)\n",
        "    acc_unnorm=model_unnorm.evaluate_acc(y_pred_unorm,y_test_mtx)\n",
        "    print(acc_unnorm)"
      ],
      "metadata": {
        "colab": {
          "base_uri": "https://localhost:8080/"
        },
        "id": "xjyS-mz0OG2E",
        "outputId": "e6fdf121-3521-4ff1-bef0-99f3fe48ce56"
      },
      "execution_count": null,
      "outputs": [
        {
          "output_type": "stream",
          "name": "stdout",
          "text": [
            "run completed after 2000 SGD batches and 2 epochs\n",
            "0.6757\n"
          ]
        }
      ]
    },
    {
      "cell_type": "code",
      "source": [
        "# with tf.device('/device:GPU:0'): \n",
        "#     # Unnormalized Data Trial 2\n",
        "#     optimizer = GradientDescent(learning_rate=0.00001,max_iters=10000)\n",
        "#     model_unnorm = MLP(layer_num=2,M=128,active_func=\"relu\")\n",
        "#     model_unnorm.fit(x_train_unnorm, y_train_mtx, optimizer)\n",
        "#     y_pred_unorm = model_unnorm.predict(x_test_unnorm)\n",
        "#     acc_unnorm=model_unnorm.evaluate_acc(y_pred_unorm,y_test_mtx)\n",
        "#     print(acc_unnorm)"
      ],
      "metadata": {
        "id": "5n4Mbnj6PlWe"
      },
      "execution_count": null,
      "outputs": []
    },
    {
      "cell_type": "markdown",
      "metadata": {
        "id": "9_Es1F9CX8KS"
      },
      "source": [
        "# **3.5**"
      ]
    },
    {
      "cell_type": "code",
      "execution_count": null,
      "metadata": {
        "id": "GHnzhH9iX_3x"
      },
      "outputs": [],
      "source": [
        "import numpy as np\n",
        "import tensorflow as tf\n",
        "from keras.utils.np_utils import to_categorical\n",
        "import keras\n",
        "from tensorflow.keras.layers import Input\n",
        "from tensorflow.keras import Sequential,Model\n",
        "from keras.layers import Dense, Dropout, Flatten\n",
        "from keras.layers import Conv2D, MaxPooling2D\n",
        "from sklearn.model_selection import train_test_split"
      ]
    },
    {
      "cell_type": "code",
      "source": [
        "tf.test.gpu_device_name()"
      ],
      "metadata": {
        "colab": {
          "base_uri": "https://localhost:8080/",
          "height": 36
        },
        "id": "M7bI5gg3KR-A",
        "outputId": "21b2f9a3-b701-4389-e8fb-51ae3b07e8a6"
      },
      "execution_count": null,
      "outputs": [
        {
          "output_type": "execute_result",
          "data": {
            "text/plain": [
              "'/device:GPU:0'"
            ],
            "application/vnd.google.colaboratory.intrinsic+json": {
              "type": "string"
            }
          },
          "metadata": {},
          "execution_count": 25
        }
      ]
    },
    {
      "cell_type": "code",
      "execution_count": null,
      "metadata": {
        "id": "LtDJ4VD5YXEx",
        "colab": {
          "base_uri": "https://localhost:8080/"
        },
        "outputId": "99231f7b-fbc2-476e-d35c-22b3f803bbdf"
      },
      "outputs": [
        {
          "output_type": "stream",
          "name": "stdout",
          "text": [
            "Model: \"sequential_3\"\n",
            "_________________________________________________________________\n",
            " Layer (type)                Output Shape              Param #   \n",
            "=================================================================\n",
            " conv2d_6 (Conv2D)           (None, 27, 27, 32)        160       \n",
            "                                                                 \n",
            " max_pooling2d_6 (MaxPooling  (None, 13, 13, 32)       0         \n",
            " 2D)                                                             \n",
            "                                                                 \n",
            " conv2d_7 (Conv2D)           (None, 12, 12, 32)        4128      \n",
            "                                                                 \n",
            " max_pooling2d_7 (MaxPooling  (None, 6, 6, 32)         0         \n",
            " 2D)                                                             \n",
            "                                                                 \n",
            " flatten_3 (Flatten)         (None, 1152)              0         \n",
            "                                                                 \n",
            " dense_9 (Dense)             (None, 128)               147584    \n",
            "                                                                 \n",
            " dense_10 (Dense)            (None, 128)               16512     \n",
            "                                                                 \n",
            " dense_11 (Dense)            (None, 10)                1290      \n",
            "                                                                 \n",
            "=================================================================\n",
            "Total params: 169,674\n",
            "Trainable params: 169,674\n",
            "Non-trainable params: 0\n",
            "_________________________________________________________________\n",
            "Epoch 1/20\n",
            "750/750 [==============================] - 4s 4ms/step - loss: 0.5273 - accuracy: 0.8090 - val_loss: 0.4566 - val_accuracy: 0.8298\n",
            "Epoch 2/20\n",
            "750/750 [==============================] - 3s 4ms/step - loss: 0.3383 - accuracy: 0.8766 - val_loss: 0.3180 - val_accuracy: 0.8852\n",
            "Epoch 3/20\n",
            "750/750 [==============================] - 3s 4ms/step - loss: 0.2917 - accuracy: 0.8924 - val_loss: 0.3647 - val_accuracy: 0.8698\n",
            "Epoch 4/20\n",
            "750/750 [==============================] - 3s 4ms/step - loss: 0.2600 - accuracy: 0.9032 - val_loss: 0.3049 - val_accuracy: 0.8849\n",
            "Epoch 5/20\n",
            "750/750 [==============================] - 3s 4ms/step - loss: 0.2388 - accuracy: 0.9104 - val_loss: 0.2884 - val_accuracy: 0.8954\n",
            "Epoch 6/20\n",
            "750/750 [==============================] - 3s 4ms/step - loss: 0.2206 - accuracy: 0.9173 - val_loss: 0.2770 - val_accuracy: 0.9002\n",
            "Epoch 7/20\n",
            "750/750 [==============================] - 3s 5ms/step - loss: 0.2028 - accuracy: 0.9240 - val_loss: 0.2636 - val_accuracy: 0.9069\n",
            "Epoch 8/20\n",
            "750/750 [==============================] - 3s 4ms/step - loss: 0.1847 - accuracy: 0.9305 - val_loss: 0.2647 - val_accuracy: 0.9078\n",
            "Epoch 9/20\n",
            "750/750 [==============================] - 3s 4ms/step - loss: 0.1717 - accuracy: 0.9358 - val_loss: 0.2933 - val_accuracy: 0.9017\n",
            "Epoch 10/20\n",
            "750/750 [==============================] - 3s 4ms/step - loss: 0.1554 - accuracy: 0.9418 - val_loss: 0.2681 - val_accuracy: 0.9109\n",
            "Epoch 11/20\n",
            "750/750 [==============================] - 3s 4ms/step - loss: 0.1431 - accuracy: 0.9454 - val_loss: 0.2834 - val_accuracy: 0.9088\n",
            "Epoch 12/20\n",
            "750/750 [==============================] - 3s 4ms/step - loss: 0.1300 - accuracy: 0.9508 - val_loss: 0.2908 - val_accuracy: 0.9060\n",
            "Epoch 13/20\n",
            "750/750 [==============================] - 3s 4ms/step - loss: 0.1167 - accuracy: 0.9566 - val_loss: 0.3120 - val_accuracy: 0.9090\n",
            "Epoch 14/20\n",
            "750/750 [==============================] - 3s 4ms/step - loss: 0.1094 - accuracy: 0.9579 - val_loss: 0.3154 - val_accuracy: 0.9112\n",
            "Epoch 15/20\n",
            "750/750 [==============================] - 3s 4ms/step - loss: 0.0969 - accuracy: 0.9633 - val_loss: 0.3246 - val_accuracy: 0.9133\n",
            "Epoch 16/20\n",
            "750/750 [==============================] - 3s 4ms/step - loss: 0.0863 - accuracy: 0.9669 - val_loss: 0.3595 - val_accuracy: 0.9057\n",
            "Epoch 17/20\n",
            "750/750 [==============================] - 3s 4ms/step - loss: 0.0798 - accuracy: 0.9704 - val_loss: 0.3520 - val_accuracy: 0.9118\n",
            "Epoch 18/20\n",
            "750/750 [==============================] - 3s 4ms/step - loss: 0.0706 - accuracy: 0.9729 - val_loss: 0.3931 - val_accuracy: 0.9097\n",
            "Epoch 19/20\n",
            "750/750 [==============================] - 3s 4ms/step - loss: 0.0639 - accuracy: 0.9758 - val_loss: 0.4076 - val_accuracy: 0.9096\n",
            "Epoch 20/20\n",
            "750/750 [==============================] - 3s 4ms/step - loss: 0.0641 - accuracy: 0.9759 - val_loss: 0.4013 - val_accuracy: 0.9074\n",
            "313/313 [==============================] - 1s 3ms/step - loss: 0.3875 - accuracy: 0.9054\n"
          ]
        }
      ],
      "source": [
        "def createModel():\n",
        "    model = Sequential()\n",
        "  \n",
        "    model.add(Conv2D(filters=32,kernel_size=(2,2),activation =\"relu\",input_shape=(28,28,1)))\n",
        "    model.add(MaxPooling2D(pool_size=(2,2)))\n",
        "    model.add(Conv2D(filters=32,kernel_size=(2,2),activation =\"relu\",input_shape=(28,28,1)))\n",
        "    model.add(MaxPooling2D(pool_size=(2,2)))\n",
        "\n",
        "    model.add(Flatten())\n",
        "    model.add(Dense(128,activation=\"relu\"))\n",
        "    model.add(Dense(128,activation=\"relu\"))\n",
        "    model.add(Dense(10,activation=\"softmax\"))\n",
        "    \n",
        "    return model\n",
        "model1 = createModel()\n",
        "model1.compile(loss=keras.losses.categorical_crossentropy, optimizer=tf.keras.optimizers.Adam(),metrics=['accuracy'])\n",
        "model1.summary()\n",
        "(x_train_1, y_train_1), (x_test_1, y_test_1) = tf.keras.datasets.fashion_mnist.load_data()\n",
        "x_train_1 = np.expand_dims(x_train_1, -1)\n",
        "x_test_1 = np.expand_dims(x_test_1, -1)\n",
        "x_train_1 = x_train_1.astype('float32')\n",
        "x_train_1 = x_train_1 / 255.\n",
        "\n",
        "x_test_1 = x_test_1.astype('float32')\n",
        "x_test_1 = x_test_1 / 255.\n",
        "\n",
        "\n",
        "y_train_mtx_1 = to_categorical(y_train_1)\n",
        "y_test_mtx_1 = to_categorical(y_test_1)\n",
        "\n",
        "\n",
        "train_X,valid_X,train_label,valid_label = train_test_split(x_train_1, y_train_mtx_1, test_size=0.2, random_state=13)\n",
        "\n",
        "def get_history():\n",
        "    with tf.device('/device:GPU:0'): \n",
        "        history = model1.fit(train_X, train_label, batch_size=64,epochs=20,verbose=1,validation_data=(valid_X, valid_label))\n",
        "    return history\n",
        "\n",
        "history = get_history()\n",
        "\n",
        "def eval_cnn():\n",
        "    with tf.device('/device:GPU:0'): \n",
        "        test_acc = model1.evaluate(x_test_1,y_test_mtx_1)\n",
        "    return test_acc\n",
        "\n",
        "test_acc = eval_cnn()"
      ]
    },
    {
      "cell_type": "markdown",
      "metadata": {
        "id": "rJGO2Idu9o30"
      },
      "source": [
        "# Scratch work"
      ]
    },
    {
      "cell_type": "code",
      "execution_count": null,
      "metadata": {
        "id": "YOJY35TL9rh9"
      },
      "outputs": [],
      "source": [
        "optimizer = GradientDescent(learning_rate=0.00005,max_iters=1000, batch_size=50) # will stop optimizing after 1 epoch\n",
        "MLP_2L = MLP(layer_num=2,M=128,active_func=\"relu\")\n",
        "results_dict, trained_model = run_n_epochs(MLP_2L, optimizer, 10)\n",
        "results_dict"
      ]
    },
    {
      "cell_type": "code",
      "execution_count": null,
      "metadata": {
        "id": "TUziy2mA994r"
      },
      "outputs": [],
      "source": [
        "results_dict, trained_model = run_n_epochs(trained_model, optimizer, 10, results_dict)\n",
        "results_dict"
      ]
    },
    {
      "cell_type": "code",
      "execution_count": null,
      "metadata": {
        "id": "eZDyoBJNEgZ1"
      },
      "outputs": [],
      "source": [
        "import matplotlib.pyplot as plt\n",
        "\n",
        "plt.figure(figsize=(40, 24), dpi=80)\n",
        "plt.rc('xtick', labelsize=15) \n",
        "plt.rc('ytick', labelsize=15)\n",
        "x_axis = list(range(len(results_dict[\"train_loss\"]) + 1)[1:])\n",
        "\n",
        "plt.subplot(2,2,1)\n",
        "plt.title(\"Model Loss\", fontsize=20)\n",
        "plt.plot(x_axis,results_dict[\"train_loss\"],label=\"training loss\",color=\"red\")\n",
        "\n",
        "plt.subplot(2,2,1)\n",
        "plt.plot(x_axis,results_dict[\"val_loss\"], markevery=[56], label=\"validation loss\",color=\"green\")\n",
        "\n",
        "plt.ylabel(\"Loss\")\n",
        "plt.xlabel(\"Epoches\")\n",
        "plt.legend(loc=3, fontsize=12)\n",
        "\n"
      ]
    },
    {
      "cell_type": "code",
      "execution_count": null,
      "metadata": {
        "id": "isykv3s1Eh7E"
      },
      "outputs": [],
      "source": [
        "\n",
        "\n",
        "plt.show()\n",
        "\n",
        "import matplotlib.pyplot as plt\n",
        "\n",
        "plt.figure(figsize=(40, 24), dpi=80)\n",
        "plt.rc('xtick', labelsize=15) \n",
        "plt.rc('ytick', labelsize=15)\n",
        "x_axis = list(range(len(results_dict[\"train_acc\"]) + 1)[1:])\n",
        "\n",
        "plt.subplot(2,2,1)\n",
        "plt.title(\"Model Accuracy\", fontsize=20)\n",
        "plt.plot(x_axis,results_dict[\"train_acc\"],label=\"training accuracy\",color=\"red\")\n",
        "\n",
        "plt.subplot(2,2,1)\n",
        "plt.plot(x_axis,results_dict[\"val_acc\"], markevery=[56], label=\"validation accuracy\",color=\"green\")\n",
        "# plt.plot(i, acc, marker='*', color='green', label='best accuracy')\n",
        "\n",
        "plt.ylabel(\"Accuracy\")\n",
        "plt.xlabel(\"Epoches\")\n",
        "plt.legend(loc=3, fontsize=12)\n",
        "\n",
        "\n",
        "\n",
        "plt.show()"
      ]
    },
    {
      "cell_type": "markdown",
      "metadata": {
        "id": "9Lb8Ss_8QWVL"
      },
      "source": [
        "#Task 3.6 (Part 1 - Hyperparameter Testing)"
      ]
    },
    {
      "cell_type": "markdown",
      "metadata": {
        "id": "oKvkaR9xBZfA"
      },
      "source": [
        "Step 1: Check optimal number of layers (done in 3.1)"
      ]
    },
    {
      "cell_type": "markdown",
      "metadata": {
        "id": "VcXJbXPFBdyA"
      },
      "source": [
        "Step 2: Find optimal activation function (3.2 testing was for 2 layers)"
      ]
    },
    {
      "cell_type": "code",
      "execution_count": null,
      "metadata": {
        "colab": {
          "base_uri": "https://localhost:8080/"
        },
        "id": "o7eqqWE_iLdp",
        "outputId": "87595b6e-a26a-4fad-d9e6-e97e162a7f55"
      },
      "outputs": [
        {
          "output_type": "stream",
          "name": "stdout",
          "text": [
            "run completed after 25000 SGD batches and 25 epochs\n",
            "run completed after 25000 SGD batches and 25 epochs\n"
          ]
        }
      ],
      "source": [
        "optimizer = GradientDescent(learning_rate=0.00005,max_iters=25000, batch_size=50)\n",
        "MLP_1L_relu = MLP(layer_num=1,M=128,active_func=\"relu\")\n",
        "MLP_1L_lrelu = MLP(layer_num=1,M=128,active_func=\"lrelu\")\n",
        "MLP_1L_tanh = MLP(layer_num=1,M=128,active_func=\"tanh\")\n",
        "models_acfun = [MLP_1L_relu,MLP_1L_lrelu,MLP_1L_tanh] # compare acfuns\n",
        "acc_list = compare_models(models_acfun,optimizer)\n",
        "acc_list[0].extend([\"Relu\",1,1,True])\n",
        "acc_list[1].extend([\"Leaky Relu\",1,1,True])\n",
        "acc_list[2].extend([\"Tanh\",1,1,True])\n",
        "column_names = ['Test Accuracy','Activate Function','Hidden Layer','Dropout Ratio','Normalized Train Data']\n",
        "df3 = pd.DataFrame(acc_list,columns=column_names)\n",
        "df3"
      ]
    },
    {
      "cell_type": "code",
      "execution_count": null,
      "metadata": {
        "id": "Aa9SFBygScng"
      },
      "outputs": [],
      "source": [
        "# opt1 = GradientDescent(learning_rate=0.0002,max_iters=25000, batch_size=10)\n",
        "# opt2 = GradientDescent(learning_rate=0.0002,max_iters=25000, batch_size=20)\n",
        "# opt3 = GradientDescent(learning_rate=0.0002,max_iters=25000, batch_size=30)\n",
        "# opt4 = GradientDescent(learning_rate=0.0002,max_iters=25000, batch_size=40)\n",
        "# opt5 = GradientDescent(learning_rate=0.0002,max_iters=25000, batch_size=50)\n",
        "# opt6 = GradientDescent(learning_rate=0.0002,max_iters=25000, batch_size=60)\n",
        "# opt7 = GradientDescent(learning_rate=0.0002,max_iters=25000, batch_size=70)\n",
        "# opt8 = GradientDescent(learning_rate=0.0002,max_iters=25000, batch_size=80)\n",
        "# opt9 = GradientDescent(learning_rate=0.0002,max_iters=25000, batch_size=90)\n",
        "# opt10 = GradientDescent(learning_rate=0.0002,max_iters=25000, batch_size=100)\n",
        "# acc_lis1 = compare_models(models_acfun,opt1)\n",
        "# acc_lis2 = compare_models(models_acfun,opt2)\n",
        "# acc_lis3 = compare_models(models_acfun,opt3)\n",
        "# acc_lis4 = compare_models(models_acfun,opt4)\n",
        "# acc_lis5 = compare_models(models_acfun,opt5)\n",
        "# acc_lis6 = compare_models(models_acfun,opt6)\n",
        "# acc_lis7 = compare_models(models_acfun,opt7)\n",
        "# acc_lis8 = compare_models(models_acfun,opt8)\n",
        "# acc_lis9 = compare_models(models_acfun,opt9)\n",
        "# acc_lis10 = compare_models(models_acfun,opt10)\n",
        "\n"
      ]
    },
    {
      "cell_type": "markdown",
      "metadata": {
        "id": "ukX-p2vD8Py1"
      },
      "source": [
        "Affirm learning rate creates convex loss function"
      ]
    },
    {
      "cell_type": "code",
      "execution_count": null,
      "metadata": {
        "colab": {
          "base_uri": "https://localhost:8080/"
        },
        "id": "oPp0PkMwomB9",
        "outputId": "6212a3df-30a1-48b5-9422-1532dab65b2f"
      },
      "outputs": [
        {
          "name": "stdout",
          "output_type": "stream",
          "text": [
            "run completed after 1000 SGD batches and 1 epochs\n",
            "run completed after 1000 SGD batches and 1 epochs\n",
            "run completed after 1000 SGD batches and 1 epochs\n"
          ]
        },
        {
          "data": {
            "text/plain": [
              "{'train_acc': [0.68288, 0.7424, 0.77974],\n",
              " 'val_acc': [0.6827, 0.7392, 0.7693],\n",
              " 'train_loss': [9.588117119411361, 9.38244983563498, 9.310796480429476],\n",
              " 'val_loss': [7.979226462414353, 7.777240537417383, 7.709503813089861]}"
            ]
          },
          "execution_count": 38,
          "metadata": {},
          "output_type": "execute_result"
        }
      ],
      "source": [
        "optimizer = GradientDescent(learning_rate=0.00005,max_iters=1000, batch_size=50) # will stop optimizing after 1 epoch\n",
        "MLP_1L = MLP(layer_num=1,M=128,active_func=\"tanh\")\n",
        "results_dict, trained_model = run_n_epochs(MLP_1L, optimizer, 3)\n",
        "results_dict"
      ]
    },
    {
      "cell_type": "code",
      "execution_count": null,
      "metadata": {
        "colab": {
          "base_uri": "https://localhost:8080/"
        },
        "id": "2-Np5pD3J3l3",
        "outputId": "01362b51-2963-4d02-af43-1e90b3ecae7e"
      },
      "outputs": [
        {
          "name": "stdout",
          "output_type": "stream",
          "text": [
            "run completed after 1000 SGD batches and 1 epochs\n",
            "run completed after 1000 SGD batches and 1 epochs\n",
            "run completed after 1000 SGD batches and 1 epochs\n",
            "run completed after 1000 SGD batches and 1 epochs\n",
            "run completed after 1000 SGD batches and 1 epochs\n"
          ]
        },
        {
          "data": {
            "text/plain": [
              "{'train_acc': [0.68288,\n",
              "  0.7424,\n",
              "  0.77974,\n",
              "  0.79826,\n",
              "  0.80772,\n",
              "  0.8144,\n",
              "  0.81998,\n",
              "  0.82544],\n",
              " 'val_acc': [0.6827, 0.7392, 0.7693, 0.79, 0.7991, 0.8078, 0.8127, 0.8188],\n",
              " 'train_loss': [9.588117119411361,\n",
              "  9.38244983563498,\n",
              "  9.310796480429476,\n",
              "  9.27907107279672,\n",
              "  9.266298535773789,\n",
              "  9.261467642642398,\n",
              "  9.264539068612589,\n",
              "  9.2655878465337],\n",
              " 'val_loss': [7.979226462414353,\n",
              "  7.777240537417383,\n",
              "  7.709503813089861,\n",
              "  7.680446103590971,\n",
              "  7.669214563385874,\n",
              "  7.665386835908239,\n",
              "  7.669690060932288,\n",
              "  7.671459646413033]}"
            ]
          },
          "execution_count": 39,
          "metadata": {},
          "output_type": "execute_result"
        }
      ],
      "source": [
        "results_dict, trained_model = run_n_epochs(trained_model, optimizer, 5, results_dict)\n",
        "results_dict"
      ]
    },
    {
      "cell_type": "code",
      "execution_count": null,
      "metadata": {
        "colab": {
          "base_uri": "https://localhost:8080/"
        },
        "id": "Q5GHY44FFd28",
        "outputId": "cb4ff60d-e408-45f3-92ee-c867e0aee987"
      },
      "outputs": [
        {
          "name": "stdout",
          "output_type": "stream",
          "text": [
            "run completed after 1000 SGD batches and 1 epochs\n",
            "run completed after 1000 SGD batches and 1 epochs\n",
            "run completed after 1000 SGD batches and 1 epochs\n",
            "run completed after 1000 SGD batches and 1 epochs\n",
            "run completed after 1000 SGD batches and 1 epochs\n"
          ]
        },
        {
          "data": {
            "text/plain": [
              "{'train_acc': [0.68288,\n",
              "  0.7424,\n",
              "  0.77974,\n",
              "  0.79826,\n",
              "  0.80772,\n",
              "  0.8144,\n",
              "  0.81998,\n",
              "  0.82544,\n",
              "  0.8288,\n",
              "  0.83088,\n",
              "  0.83432,\n",
              "  0.83776,\n",
              "  0.83912],\n",
              " 'val_acc': [0.6827,\n",
              "  0.7392,\n",
              "  0.7693,\n",
              "  0.79,\n",
              "  0.7991,\n",
              "  0.8078,\n",
              "  0.8127,\n",
              "  0.8188,\n",
              "  0.8215,\n",
              "  0.8243,\n",
              "  0.826,\n",
              "  0.8293,\n",
              "  0.8304],\n",
              " 'train_loss': [9.588117119411361,\n",
              "  9.38244983563498,\n",
              "  9.310796480429476,\n",
              "  9.27907107279672,\n",
              "  9.266298535773789,\n",
              "  9.261467642642398,\n",
              "  9.264539068612589,\n",
              "  9.2655878465337,\n",
              "  9.271707951060408,\n",
              "  9.277881041498272,\n",
              "  9.28012621451997,\n",
              "  9.28344862895624,\n",
              "  9.289500889530759],\n",
              " 'val_loss': [7.979226462414353,\n",
              "  7.777240537417383,\n",
              "  7.709503813089861,\n",
              "  7.680446103590971,\n",
              "  7.669214563385874,\n",
              "  7.665386835908239,\n",
              "  7.669690060932288,\n",
              "  7.671459646413033,\n",
              "  7.678384243252809,\n",
              "  7.68579347929343,\n",
              "  7.689738781570073,\n",
              "  7.693548673236059,\n",
              "  7.700210844179815]}"
            ]
          },
          "execution_count": 40,
          "metadata": {},
          "output_type": "execute_result"
        }
      ],
      "source": [
        "results_dict, trained_model = run_n_epochs(trained_model, optimizer, 5, results_dict)\n",
        "results_dict"
      ]
    },
    {
      "cell_type": "code",
      "execution_count": null,
      "metadata": {
        "colab": {
          "base_uri": "https://localhost:8080/",
          "height": 810
        },
        "id": "ZYS8Qf-YqOCQ",
        "outputId": "d60aa863-71fc-4713-b481-66437d3593a5"
      },
      "outputs": [
        {
          "name": "stderr",
          "output_type": "stream",
          "text": [
            "<ipython-input-41-a71628197a09>:12: MatplotlibDeprecationWarning: Adding an axes using the same arguments as a previous axes currently reuses the earlier instance.  In a future version, a new instance will always be created and returned.  Meanwhile, this warning can be suppressed, and the future behavior ensured, by passing a unique label to each axes instance.\n",
            "  plt.subplot(2,2,1)\n"
          ]
        },
        {
          "data": {
            "image/png": "[encoded data removed]",
            "text/plain": [
              "<Figure size 3200x1920 with 1 Axes>"
            ]
          },
          "metadata": {},
          "output_type": "display_data"
        }
      ],
      "source": [
        "import matplotlib.pyplot as plt\n",
        "\n",
        "plt.figure(figsize=(40, 24), dpi=80)\n",
        "plt.rc('xtick', labelsize=15) \n",
        "plt.rc('ytick', labelsize=15)\n",
        "x_axis = list(range(len(results_dict[\"train_loss\"]) + 1)[1:])\n",
        "\n",
        "plt.subplot(2,2,1)\n",
        "plt.title(\"MLP\", fontsize=20)\n",
        "plt.plot(x_axis,results_dict[\"train_loss\"],label=\"training loss\",color=\"red\")\n",
        "\n",
        "plt.subplot(2,2,1)\n",
        "plt.plot(x_axis,results_dict[\"val_loss\"], markevery=[56], label=\"validation loss\",color=\"green\")\n",
        "\n",
        "plt.xlabel(\"Loss\")\n",
        "plt.xlabel(\"Epoches\")\n",
        "plt.legend(loc=3, fontsize=12)\n",
        "\n",
        "\n",
        "\n",
        "plt.show()"
      ]
    },
    {
      "cell_type": "code",
      "execution_count": null,
      "metadata": {
        "colab": {
          "base_uri": "https://localhost:8080/",
          "height": 810
        },
        "id": "-VsygkugBHXL",
        "outputId": "2555b413-9147-4445-899d-da0b504ff2ee"
      },
      "outputs": [
        {
          "name": "stderr",
          "output_type": "stream",
          "text": [
            "<ipython-input-42-a498463e5815>:12: MatplotlibDeprecationWarning: Adding an axes using the same arguments as a previous axes currently reuses the earlier instance.  In a future version, a new instance will always be created and returned.  Meanwhile, this warning can be suppressed, and the future behavior ensured, by passing a unique label to each axes instance.\n",
            "  plt.subplot(2,2,1)\n"
          ]
        },
        {
          "data": {
            "image/png": "[encoded data removed]",
            "text/plain": [
              "<Figure size 3200x1920 with 1 Axes>"
            ]
          },
          "metadata": {},
          "output_type": "display_data"
        }
      ],
      "source": [
        "import matplotlib.pyplot as plt\n",
        "\n",
        "plt.figure(figsize=(40, 24), dpi=80)\n",
        "plt.rc('xtick', labelsize=15) \n",
        "plt.rc('ytick', labelsize=15)\n",
        "x_axis = list(range(len(results_dict[\"train_acc\"]) + 1)[1:])\n",
        "\n",
        "plt.subplot(2,2,1)\n",
        "plt.title(\"MLP\", fontsize=20)\n",
        "plt.plot(x_axis,results_dict[\"train_acc\"],label=\"training accuracy\",color=\"red\")\n",
        "\n",
        "plt.subplot(2,2,1)\n",
        "plt.plot(x_axis,results_dict[\"val_acc\"], markevery=[56], label=\"validation accuracy\",color=\"green\")\n",
        "# plt.plot(i, acc, marker='*', color='green', label='best accuracy')\n",
        "\n",
        "plt.xlabel(\"Accuracy\")\n",
        "plt.xlabel(\"Epoches\")\n",
        "plt.legend(loc=3, fontsize=12)\n",
        "\n",
        "\n",
        "plt.show()"
      ]
    },
    {
      "cell_type": "markdown",
      "source": [
        "Choose an optimal number of epochs based on validation data"
      ],
      "metadata": {
        "id": "6GCNn3Y8R18T"
      }
    },
    {
      "cell_type": "code",
      "execution_count": null,
      "metadata": {
        "colab": {
          "base_uri": "https://localhost:8080/"
        },
        "id": "lz9QiMNVQU3d",
        "outputId": "00bad2b5-0528-4c16-d99f-ffd2e435c48c"
      },
      "outputs": [
        {
          "output_type": "stream",
          "name": "stdout",
          "text": [
            "run completed after 1000 SGD batches and 1 epochs\n",
            "run completed after 1000 SGD batches and 1 epochs\n",
            "run completed after 1000 SGD batches and 1 epochs\n",
            "run completed after 1000 SGD batches and 1 epochs\n",
            "run completed after 1000 SGD batches and 1 epochs\n",
            "run completed after 1000 SGD batches and 1 epochs\n",
            "run completed after 1000 SGD batches and 1 epochs\n",
            "run completed after 1000 SGD batches and 1 epochs\n",
            "run completed after 1000 SGD batches and 1 epochs\n",
            "run completed after 1000 SGD batches and 1 epochs\n",
            "run completed after 1000 SGD batches and 1 epochs\n",
            "run completed after 1000 SGD batches and 1 epochs\n",
            "run completed after 1000 SGD batches and 1 epochs\n",
            "run completed after 1000 SGD batches and 1 epochs\n",
            "run completed after 1000 SGD batches and 1 epochs\n",
            "run completed after 1000 SGD batches and 1 epochs\n",
            "run completed after 1000 SGD batches and 1 epochs\n",
            "run completed after 1000 SGD batches and 1 epochs\n",
            "run completed after 1000 SGD batches and 1 epochs\n",
            "run completed after 1000 SGD batches and 1 epochs\n",
            "run completed after 1000 SGD batches and 1 epochs\n",
            "run completed after 1000 SGD batches and 1 epochs\n",
            "run completed after 1000 SGD batches and 1 epochs\n",
            "run completed after 1000 SGD batches and 1 epochs\n",
            "run completed after 1000 SGD batches and 1 epochs\n",
            "run completed after 1000 SGD batches and 1 epochs\n",
            "run completed after 1000 SGD batches and 1 epochs\n",
            "run completed after 1000 SGD batches and 1 epochs\n",
            "run completed after 1000 SGD batches and 1 epochs\n",
            "run completed after 1000 SGD batches and 1 epochs\n",
            "run completed after 1000 SGD batches and 1 epochs\n",
            "run completed after 1000 SGD batches and 1 epochs\n",
            "run completed after 1000 SGD batches and 1 epochs\n",
            "run completed after 1000 SGD batches and 1 epochs\n",
            "run completed after 1000 SGD batches and 1 epochs\n",
            "run completed after 1000 SGD batches and 1 epochs\n",
            "run completed after 1000 SGD batches and 1 epochs\n",
            "run completed after 1000 SGD batches and 1 epochs\n",
            "run completed after 1000 SGD batches and 1 epochs\n",
            "run completed after 1000 SGD batches and 1 epochs\n"
          ]
        }
      ],
      "source": [
        "optimizer = GradientDescent(learning_rate=0.00005,max_iters=1000, batch_size=50) # will stop optimizing after 1 epoch\n",
        "MLP_1L = MLP(layer_num=1,M=128,active_func=\"tanh\")\n",
        "results_dict, trained_model = run_n_epochs(MLP_1L, optimizer, 40)\n"
      ]
    },
    {
      "cell_type": "code",
      "execution_count": null,
      "metadata": {
        "id": "RTN8BwSo5TRG",
        "colab": {
          "base_uri": "https://localhost:8080/"
        },
        "outputId": "1e242f03-dec5-42b5-da36-dc3430bd899f"
      },
      "outputs": [
        {
          "output_type": "stream",
          "name": "stdout",
          "text": [
            "run completed after 1000 SGD batches and 1 epochs\n",
            "run completed after 1000 SGD batches and 1 epochs\n",
            "run completed after 1000 SGD batches and 1 epochs\n",
            "run completed after 1000 SGD batches and 1 epochs\n",
            "run completed after 1000 SGD batches and 1 epochs\n",
            "run completed after 1000 SGD batches and 1 epochs\n",
            "run completed after 1000 SGD batches and 1 epochs\n",
            "run completed after 1000 SGD batches and 1 epochs\n",
            "run completed after 1000 SGD batches and 1 epochs\n",
            "run completed after 1000 SGD batches and 1 epochs\n"
          ]
        },
        {
          "output_type": "execute_result",
          "data": {
            "text/plain": [
              "{'train_acc': [0.67644,\n",
              "  0.74144,\n",
              "  0.77834,\n",
              "  0.79672,\n",
              "  0.80614,\n",
              "  0.81316,\n",
              "  0.81914,\n",
              "  0.82406,\n",
              "  0.82814,\n",
              "  0.83178,\n",
              "  0.83446,\n",
              "  0.83718,\n",
              "  0.84054,\n",
              "  0.842,\n",
              "  0.84412,\n",
              "  0.84648,\n",
              "  0.8479,\n",
              "  0.84976,\n",
              "  0.85164,\n",
              "  0.85262,\n",
              "  0.85342,\n",
              "  0.85492,\n",
              "  0.85658,\n",
              "  0.85636,\n",
              "  0.85768,\n",
              "  0.85818,\n",
              "  0.85962,\n",
              "  0.8612,\n",
              "  0.86128,\n",
              "  0.86358,\n",
              "  0.8635,\n",
              "  0.86476,\n",
              "  0.86512,\n",
              "  0.86528,\n",
              "  0.86712,\n",
              "  0.86744,\n",
              "  0.86732,\n",
              "  0.86852,\n",
              "  0.8689,\n",
              "  0.8698,\n",
              "  0.87084,\n",
              "  0.87076,\n",
              "  0.87126,\n",
              "  0.87068,\n",
              "  0.87286,\n",
              "  0.87258,\n",
              "  0.87306,\n",
              "  0.87432,\n",
              "  0.87486,\n",
              "  0.87576],\n",
              " 'val_acc': [0.6769,\n",
              "  0.7457,\n",
              "  0.7816,\n",
              "  0.8031,\n",
              "  0.8125,\n",
              "  0.8211,\n",
              "  0.8237,\n",
              "  0.8293,\n",
              "  0.8324,\n",
              "  0.836,\n",
              "  0.8385,\n",
              "  0.8417,\n",
              "  0.8425,\n",
              "  0.8449,\n",
              "  0.8465,\n",
              "  0.8475,\n",
              "  0.8497,\n",
              "  0.8494,\n",
              "  0.8507,\n",
              "  0.8523,\n",
              "  0.852,\n",
              "  0.8529,\n",
              "  0.8531,\n",
              "  0.8532,\n",
              "  0.855,\n",
              "  0.8533,\n",
              "  0.8559,\n",
              "  0.8565,\n",
              "  0.8572,\n",
              "  0.8584,\n",
              "  0.8582,\n",
              "  0.8608,\n",
              "  0.8594,\n",
              "  0.8599,\n",
              "  0.8598,\n",
              "  0.8611,\n",
              "  0.8604,\n",
              "  0.8607,\n",
              "  0.8613,\n",
              "  0.8617,\n",
              "  0.8617,\n",
              "  0.8627,\n",
              "  0.8633,\n",
              "  0.8624,\n",
              "  0.8647,\n",
              "  0.8626,\n",
              "  0.8626,\n",
              "  0.8659,\n",
              "  0.8636,\n",
              "  0.8653],\n",
              " 'train_loss': [9.599976080431592,\n",
              "  9.38727954910638,\n",
              "  9.309530699053445,\n",
              "  9.274038899390451,\n",
              "  9.261908519607195,\n",
              "  9.259276127803398,\n",
              "  9.262151931540485,\n",
              "  9.26574230329714,\n",
              "  9.270262679256195,\n",
              "  9.276594323610434,\n",
              "  9.282914284920798,\n",
              "  9.289449772149652,\n",
              "  9.293389455679062,\n",
              "  9.30188930949365,\n",
              "  9.305867253970284,\n",
              "  9.31537629962233,\n",
              "  9.316428441774747,\n",
              "  9.323527913778216,\n",
              "  9.331636557904801,\n",
              "  9.33329551665344,\n",
              "  9.337908298606372,\n",
              "  9.346676512234417,\n",
              "  9.352319843395383,\n",
              "  9.359533197410483,\n",
              "  9.361277351600345,\n",
              "  9.372246473958763,\n",
              "  9.375210154554635,\n",
              "  9.380525941274978,\n",
              "  9.386456611705366,\n",
              "  9.393926050802234,\n",
              "  9.398793622380632,\n",
              "  9.402924670066977,\n",
              "  9.410712738685136,\n",
              "  9.415946635595649,\n",
              "  9.420895931619796,\n",
              "  9.427956241084617,\n",
              "  9.432576870358616,\n",
              "  9.433853179079183,\n",
              "  9.44371803333852,\n",
              "  9.44759006719168,\n",
              "  9.455995622189654,\n",
              "  9.460129146252516,\n",
              "  9.46592022283193,\n",
              "  9.48231072144203,\n",
              "  9.478400166329552,\n",
              "  9.482131918776682,\n",
              "  9.48373219859994,\n",
              "  9.491812123716315,\n",
              "  9.492978932638614,\n",
              "  9.504439823455757],\n",
              " 'val_loss': [7.989544882421753,\n",
              "  7.774149406514045,\n",
              "  7.694847227699452,\n",
              "  7.658257543278666,\n",
              "  7.6467266156979505,\n",
              "  7.644838552441843,\n",
              "  7.648730545581735,\n",
              "  7.653547854154426,\n",
              "  7.6592294540241115,\n",
              "  7.667241877224881,\n",
              "  7.675318629799643,\n",
              "  7.683746921323188,\n",
              "  7.688297545451336,\n",
              "  7.69791269023924,\n",
              "  7.703199203304291,\n",
              "  7.714080736342659,\n",
              "  7.717023341673126,\n",
              "  7.725519456863645,\n",
              "  7.73420618084067,\n",
              "  7.736770992425094,\n",
              "  7.742552693521015,\n",
              "  7.752172959942618,\n",
              "  7.758993309690148,\n",
              "  7.7669581285316145,\n",
              "  7.7694930698715705,\n",
              "  7.781664694576602,\n",
              "  7.784650954425322,\n",
              "  7.791795452327648,\n",
              "  7.798121257560275,\n",
              "  7.806448864833946,\n",
              "  7.812249801674105,\n",
              "  7.816922638655461,\n",
              "  7.82534210833236,\n",
              "  7.832802267564943,\n",
              "  7.8375871366122185,\n",
              "  7.845067693575295,\n",
              "  7.850431575972961,\n",
              "  7.85243203403675,\n",
              "  7.863264837841901,\n",
              "  7.866892673018892,\n",
              "  7.876747725713704,\n",
              "  7.880736108893021,\n",
              "  7.887777335017501,\n",
              "  7.905165259943758,\n",
              "  7.90172854657516,\n",
              "  7.906965141008135,\n",
              "  7.908412586376083,\n",
              "  7.9179624084289095,\n",
              "  7.919480346809055,\n",
              "  7.931962620023903]}"
            ]
          },
          "metadata": {},
          "execution_count": 41
        }
      ],
      "source": [
        "results_dict, trained_model = run_n_epochs(trained_model, optimizer, 10, results_dict)\n",
        "results_dict"
      ]
    },
    {
      "cell_type": "code",
      "source": [
        "results_dict[\"val_acc\"]"
      ],
      "metadata": {
        "colab": {
          "base_uri": "https://localhost:8080/"
        },
        "id": "YRKnfrTPXkLa",
        "outputId": "60f9d3e6-5eba-433a-9446-474a50c5dc5e"
      },
      "execution_count": null,
      "outputs": [
        {
          "output_type": "execute_result",
          "data": {
            "text/plain": [
              "[0.6769,\n",
              " 0.7457,\n",
              " 0.7816,\n",
              " 0.8031,\n",
              " 0.8125,\n",
              " 0.8211,\n",
              " 0.8237,\n",
              " 0.8293,\n",
              " 0.8324,\n",
              " 0.836,\n",
              " 0.8385,\n",
              " 0.8417,\n",
              " 0.8425,\n",
              " 0.8449,\n",
              " 0.8465,\n",
              " 0.8475,\n",
              " 0.8497,\n",
              " 0.8494,\n",
              " 0.8507,\n",
              " 0.8523,\n",
              " 0.852,\n",
              " 0.8529,\n",
              " 0.8531,\n",
              " 0.8532,\n",
              " 0.855,\n",
              " 0.8533,\n",
              " 0.8559,\n",
              " 0.8565,\n",
              " 0.8572,\n",
              " 0.8584,\n",
              " 0.8582,\n",
              " 0.8608,\n",
              " 0.8594,\n",
              " 0.8599,\n",
              " 0.8598,\n",
              " 0.8611,\n",
              " 0.8604,\n",
              " 0.8607,\n",
              " 0.8613,\n",
              " 0.8617,\n",
              " 0.8617,\n",
              " 0.8627,\n",
              " 0.8633,\n",
              " 0.8624,\n",
              " 0.8647,\n",
              " 0.8626,\n",
              " 0.8626,\n",
              " 0.8659,\n",
              " 0.8636,\n",
              " 0.8653]"
            ]
          },
          "metadata": {},
          "execution_count": 44
        }
      ]
    },
    {
      "cell_type": "code",
      "execution_count": null,
      "metadata": {
        "id": "U0KDsWkz3_P9",
        "colab": {
          "base_uri": "https://localhost:8080/",
          "height": 809
        },
        "outputId": "ff62a8de-ae1e-4412-9c50-8ee7e497e9af"
      },
      "outputs": [
        {
          "output_type": "stream",
          "name": "stderr",
          "text": [
            "<ipython-input-42-a498463e5815>:12: MatplotlibDeprecationWarning: Adding an axes using the same arguments as a previous axes currently reuses the earlier instance.  In a future version, a new instance will always be created and returned.  Meanwhile, this warning can be suppressed, and the future behavior ensured, by passing a unique label to each axes instance.\n",
            "  plt.subplot(2,2,1)\n"
          ]
        },
        {
          "output_type": "display_data",
          "data": {
            "text/plain": [
              "<Figure size 3200x1920 with 1 Axes>"
            ],
            "image/png": "[encoded data removed]"
          },
          "metadata": {
            "needs_background": "light"
          }
        }
      ],
      "source": [
        "\n",
        "\n",
        "import matplotlib.pyplot as plt\n",
        "\n",
        "plt.figure(figsize=(40, 24), dpi=80)\n",
        "plt.rc('xtick', labelsize=15) \n",
        "plt.rc('ytick', labelsize=15)\n",
        "x_axis = list(range(len(results_dict[\"train_acc\"]) + 1)[1:])\n",
        "\n",
        "plt.subplot(2,2,1)\n",
        "plt.title(\"MLP\", fontsize=20)\n",
        "plt.plot(x_axis,results_dict[\"train_acc\"],label=\"training accuracy\",color=\"red\")\n",
        "\n",
        "plt.subplot(2,2,1)\n",
        "plt.plot(x_axis,results_dict[\"val_acc\"], markevery=[56], label=\"validation accuracy\",color=\"green\")\n",
        "# plt.plot(i, acc, marker='*', color='green', label='best accuracy')\n",
        "\n",
        "plt.xlabel(\"Accuracy\")\n",
        "plt.xlabel(\"Epoches\")\n",
        "plt.legend(loc=3, fontsize=12)\n",
        "\n",
        "\n",
        "\n",
        "plt.show()"
      ]
    },
    {
      "cell_type": "markdown",
      "source": [
        "We chose 40 epochs because validation data had mostly plateaued. Marginal gains from higher numbers of epochs were outweighed by prohibitively large runtimes"
      ],
      "metadata": {
        "id": "poC4YRuYS8mc"
      }
    },
    {
      "cell_type": "markdown",
      "metadata": {
        "id": "iMfHfpjR8zmp"
      },
      "source": [
        "Test for the best dropout rate"
      ]
    },
    {
      "cell_type": "code",
      "source": [
        "optimizer = GradientDescent(learning_rate=0.00005,max_iters=1000, batch_size=50) # will stop optimizing after 1 epoch\n",
        "MLP_d9 = MLP(layer_num=1,M=128,active_func=\"tanh\", dropout=0.9)\n",
        "results_dict_d9, trained_model_d9 = run_n_epochs(MLP_d9, optimizer, 20)"
      ],
      "metadata": {
        "colab": {
          "base_uri": "https://localhost:8080/"
        },
        "id": "dQQNuvqUaf1H",
        "outputId": "894dda07-d93a-47e1-d18a-2e1dad35b271"
      },
      "execution_count": null,
      "outputs": [
        {
          "output_type": "stream",
          "name": "stdout",
          "text": [
            "run completed after 1000 SGD batches and 1 epochs\n",
            "run completed after 1000 SGD batches and 1 epochs\n",
            "run completed after 1000 SGD batches and 1 epochs\n",
            "run completed after 1000 SGD batches and 1 epochs\n",
            "run completed after 1000 SGD batches and 1 epochs\n",
            "run completed after 1000 SGD batches and 1 epochs\n",
            "run completed after 1000 SGD batches and 1 epochs\n",
            "run completed after 1000 SGD batches and 1 epochs\n",
            "run completed after 1000 SGD batches and 1 epochs\n",
            "run completed after 1000 SGD batches and 1 epochs\n",
            "run completed after 1000 SGD batches and 1 epochs\n",
            "run completed after 1000 SGD batches and 1 epochs\n",
            "run completed after 1000 SGD batches and 1 epochs\n",
            "run completed after 1000 SGD batches and 1 epochs\n",
            "run completed after 1000 SGD batches and 1 epochs\n",
            "run completed after 1000 SGD batches and 1 epochs\n",
            "run completed after 1000 SGD batches and 1 epochs\n",
            "run completed after 1000 SGD batches and 1 epochs\n",
            "run completed after 1000 SGD batches and 1 epochs\n",
            "run completed after 1000 SGD batches and 1 epochs\n"
          ]
        }
      ]
    },
    {
      "cell_type": "code",
      "source": [
        "# results_dict_d9"
      ],
      "metadata": {
        "id": "Y65PF0XQeUMw"
      },
      "execution_count": null,
      "outputs": []
    },
    {
      "cell_type": "code",
      "source": [
        "optimizer = GradientDescent(learning_rate=0.00005,max_iters=1000, batch_size=50) # will stop optimizing after 1 epoch\n",
        "MLP_d7 = MLP(layer_num=1,M=128,active_func=\"tanh\", dropout=0.7)\n",
        "results_dict_d7, trained_model_d7 = run_n_epochs(MLP_d7, optimizer, 20)"
      ],
      "metadata": {
        "colab": {
          "base_uri": "https://localhost:8080/"
        },
        "id": "yLbidaMld7aO",
        "outputId": "a4161b0d-84e7-40c1-ac97-8f571dc41393"
      },
      "execution_count": null,
      "outputs": [
        {
          "output_type": "stream",
          "name": "stdout",
          "text": [
            "run completed after 1000 SGD batches and 1 epochs\n",
            "run completed after 1000 SGD batches and 1 epochs\n",
            "run completed after 1000 SGD batches and 1 epochs\n",
            "run completed after 1000 SGD batches and 1 epochs\n",
            "run completed after 1000 SGD batches and 1 epochs\n",
            "run completed after 1000 SGD batches and 1 epochs\n",
            "run completed after 1000 SGD batches and 1 epochs\n",
            "run completed after 1000 SGD batches and 1 epochs\n",
            "run completed after 1000 SGD batches and 1 epochs\n",
            "run completed after 1000 SGD batches and 1 epochs\n",
            "run completed after 1000 SGD batches and 1 epochs\n",
            "run completed after 1000 SGD batches and 1 epochs\n",
            "run completed after 1000 SGD batches and 1 epochs\n",
            "run completed after 1000 SGD batches and 1 epochs\n",
            "run completed after 1000 SGD batches and 1 epochs\n",
            "run completed after 1000 SGD batches and 1 epochs\n",
            "run completed after 1000 SGD batches and 1 epochs\n",
            "run completed after 1000 SGD batches and 1 epochs\n",
            "run completed after 1000 SGD batches and 1 epochs\n",
            "run completed after 1000 SGD batches and 1 epochs\n"
          ]
        }
      ]
    },
    {
      "cell_type": "code",
      "source": [
        "optimizer = GradientDescent(learning_rate=0.00005,max_iters=1000, batch_size=50) # will stop optimizing after 1 epoch\n",
        "MLP_d5 = MLP(layer_num=1,M=128,active_func=\"tanh\", dropout=0.7)\n",
        "results_dict_d5, trained_model_d5 = run_n_epochs(MLP_1L, optimizer, 20)"
      ],
      "metadata": {
        "id": "5Sn0avJOfoSd"
      },
      "execution_count": null,
      "outputs": []
    },
    {
      "cell_type": "code",
      "source": [
        "best_d10 = results_dict[\"val_acc\"][10]\n",
        "print(f\"best accuracy for dropout 1.0: {best_d10}\")\n",
        "best_d9 = results_dict_d9[\"val_acc\"][-1]\n",
        "print(f\"best accuracy for dropout 0.9: {best_d9}\")\n",
        "best_d7 = results_dict_d7[\"val_acc\"][-1]\n",
        "print(f\"best accuracy for dropout 0.7: {best_d7}\")"
      ],
      "metadata": {
        "colab": {
          "base_uri": "https://localhost:8080/"
        },
        "id": "8PVc6Jx3eEJ1",
        "outputId": "c01bb22f-320f-476c-9a3d-3ad93e90cd8b"
      },
      "execution_count": null,
      "outputs": [
        {
          "output_type": "stream",
          "name": "stdout",
          "text": [
            "best accuracy for dropout 1.0: 0.8385\n",
            "best accuracy for dropout 0.9: 0.7755\n",
            "best accuracy for dropout 0.7: 0.7456\n"
          ]
        }
      ]
    },
    {
      "cell_type": "markdown",
      "metadata": {
        "id": "hlefuR2YvbKC"
      },
      "source": [
        "# **Task 3.6** (part 2)"
      ]
    },
    {
      "cell_type": "code",
      "execution_count": null,
      "metadata": {
        "id": "Ac79bMN7KtWn"
      },
      "outputs": [],
      "source": [
        "# train MLP with 5 epoches (with the best performance hyper parameters)\n",
        "optimizer = GradientDescent(learning_rate=0.00035,max_iters=5000) \n",
        "def get_acc_history(layer_num,active_func,dropout,epoch,optimizer):\n",
        "  model = MLP(layer_num=layer_num,active_func=active_func,dropout=dropout)\n",
        "  result_dict = {\n",
        "      'test_acc':[],\n",
        "      'train_acc':[]\n",
        "  }\n",
        "  params = []\n",
        "  for i in range(epoch):\n",
        "    model.fit(x_train,y_train_mtx,optimizer,params)\n",
        "    params = model.params\n",
        "    test_acc = model.evaluate_acc(model.predict(x_test),y_test_mtx)\n",
        "    train_acc = model.evaluate_acc(model.predict(x_train),y_train_mtx)\n",
        "    result_dict['test_acc'].append(test_acc)\n",
        "    result_dict['train_acc'].append(train_acc)\n",
        "  return result_dict"
      ]
    },
    {
      "cell_type": "code",
      "execution_count": null,
      "metadata": {
        "id": "bFtvWrbbmjsN",
        "colab": {
          "base_uri": "https://localhost:8080/"
        },
        "outputId": "6493edf2-ed21-4284-d758-e9bba233811f"
      },
      "outputs": [
        {
          "output_type": "execute_result",
          "data": {
            "text/plain": [
              "{'test_acc': [0.6494,\n",
              "  0.7014,\n",
              "  0.7491,\n",
              "  0.7731,\n",
              "  0.7911,\n",
              "  0.7994,\n",
              "  0.807,\n",
              "  0.8122,\n",
              "  0.8168,\n",
              "  0.8192,\n",
              "  0.8221,\n",
              "  0.8251,\n",
              "  0.827,\n",
              "  0.8262,\n",
              "  0.8294,\n",
              "  0.8293,\n",
              "  0.8318,\n",
              "  0.8323,\n",
              "  0.8335,\n",
              "  0.8345,\n",
              "  0.8353,\n",
              "  0.8366,\n",
              "  0.8392,\n",
              "  0.8374,\n",
              "  0.8368,\n",
              "  0.8388,\n",
              "  0.8412,\n",
              "  0.8409,\n",
              "  0.842,\n",
              "  0.8412,\n",
              "  0.8418,\n",
              "  0.8419,\n",
              "  0.8418,\n",
              "  0.8425,\n",
              "  0.8427,\n",
              "  0.8435,\n",
              "  0.8454,\n",
              "  0.8439,\n",
              "  0.8454,\n",
              "  0.8452],\n",
              " 'train_acc': [0.65652,\n",
              "  0.71448,\n",
              "  0.764,\n",
              "  0.7892,\n",
              "  0.80376,\n",
              "  0.81186,\n",
              "  0.81894,\n",
              "  0.8251,\n",
              "  0.8287,\n",
              "  0.83244,\n",
              "  0.83546,\n",
              "  0.8395,\n",
              "  0.84188,\n",
              "  0.8441,\n",
              "  0.84636,\n",
              "  0.84794,\n",
              "  0.85002,\n",
              "  0.85138,\n",
              "  0.8526,\n",
              "  0.85374,\n",
              "  0.85502,\n",
              "  0.85636,\n",
              "  0.85776,\n",
              "  0.85782,\n",
              "  0.85896,\n",
              "  0.85928,\n",
              "  0.86184,\n",
              "  0.86232,\n",
              "  0.8639,\n",
              "  0.86458,\n",
              "  0.86456,\n",
              "  0.86576,\n",
              "  0.86514,\n",
              "  0.86758,\n",
              "  0.86766,\n",
              "  0.86782,\n",
              "  0.86904,\n",
              "  0.86836,\n",
              "  0.86936,\n",
              "  0.86954]}"
            ]
          },
          "metadata": {},
          "execution_count": 81
        }
      ],
      "source": [
        "MLP_history = get_acc_history(1,\"tanh\",0.85,5,optimizer)\n",
        "MLP_history"
      ]
    },
    {
      "cell_type": "code",
      "execution_count": null,
      "metadata": {
        "id": "lYtOhQvgq5le",
        "colab": {
          "base_uri": "https://localhost:8080/"
        },
        "outputId": "0e2a75fa-3f01-4ec7-c3ce-973bbe391646"
      },
      "outputs": [
        {
          "output_type": "execute_result",
          "data": {
            "text/plain": [
              "{'loss': [0.5297771692276001,\n",
              "  0.3370301425457001,\n",
              "  0.29407012462615967,\n",
              "  0.26155945658683777,\n",
              "  0.24005454778671265,\n",
              "  0.22047869861125946,\n",
              "  0.2015756368637085,\n",
              "  0.18727506697177887,\n",
              "  0.173338383436203,\n",
              "  0.15733174979686737,\n",
              "  0.14691777527332306,\n",
              "  0.1331133097410202,\n",
              "  0.12115456163883209,\n",
              "  0.11122047901153564,\n",
              "  0.10137778520584106,\n",
              "  0.0916445180773735,\n",
              "  0.08004524558782578,\n",
              "  0.07295011729001999,\n",
              "  0.06917434185743332,\n",
              "  0.06192661076784134,\n",
              "  0.05963107943534851,\n",
              "  0.049003966152668,\n",
              "  0.04487963020801544,\n",
              "  0.0461064949631691,\n",
              "  0.04220762103796005,\n",
              "  0.039963629096746445,\n",
              "  0.03451022505760193,\n",
              "  0.030768943950533867,\n",
              "  0.03765439987182617,\n",
              "  0.02733081579208374,\n",
              "  0.02734646387398243,\n",
              "  0.025522593408823013,\n",
              "  0.02635270357131958,\n",
              "  0.027049105614423752,\n",
              "  0.020664839074015617,\n",
              "  0.02672591060400009,\n",
              "  0.023782379925251007,\n",
              "  0.024747375398874283,\n",
              "  0.015463645569980145,\n",
              "  0.02322162128984928],\n",
              " 'accuracy': [0.8061041831970215,\n",
              "  0.878083348274231,\n",
              "  0.8918958306312561,\n",
              "  0.9036666750907898,\n",
              "  0.9112499952316284,\n",
              "  0.9176041483879089,\n",
              "  0.9254999756813049,\n",
              "  0.9290208220481873,\n",
              "  0.9362708330154419,\n",
              "  0.9403333067893982,\n",
              "  0.9442916512489319,\n",
              "  0.9487083554267883,\n",
              "  0.9541041851043701,\n",
              "  0.9585833549499512,\n",
              "  0.9607083201408386,\n",
              "  0.9648958444595337,\n",
              "  0.9687708616256714,\n",
              "  0.9727708101272583,\n",
              "  0.9739375114440918,\n",
              "  0.9766250252723694,\n",
              "  0.9775208234786987,\n",
              "  0.9816458225250244,\n",
              "  0.9834166765213013,\n",
              "  0.9828125238418579,\n",
              "  0.984375,\n",
              "  0.9853333234786987,\n",
              "  0.9869791865348816,\n",
              "  0.988979160785675,\n",
              "  0.9866458177566528,\n",
              "  0.9902291893959045,\n",
              "  0.9900000095367432,\n",
              "  0.9906041622161865,\n",
              "  0.9904375076293945,\n",
              "  0.9903749823570251,\n",
              "  0.9923333525657654,\n",
              "  0.9902499914169312,\n",
              "  0.991854190826416,\n",
              "  0.9906874895095825,\n",
              "  0.9946874976158142,\n",
              "  0.9919999837875366],\n",
              " 'val_loss': [0.38476404547691345,\n",
              "  0.3305104076862335,\n",
              "  0.2942301332950592,\n",
              "  0.28760597109794617,\n",
              "  0.28557631373405457,\n",
              "  0.2612015902996063,\n",
              "  0.26235470175743103,\n",
              "  0.28330543637275696,\n",
              "  0.2675129473209381,\n",
              "  0.28963983058929443,\n",
              "  0.270506888628006,\n",
              "  0.3134099245071411,\n",
              "  0.30688270926475525,\n",
              "  0.2963654398918152,\n",
              "  0.3122776448726654,\n",
              "  0.33836716413497925,\n",
              "  0.35741209983825684,\n",
              "  0.392128586769104,\n",
              "  0.3933854103088379,\n",
              "  0.40369197726249695,\n",
              "  0.420586496591568,\n",
              "  0.4379228949546814,\n",
              "  0.46419695019721985,\n",
              "  0.47406327724456787,\n",
              "  0.4774743616580963,\n",
              "  0.5207175612449646,\n",
              "  0.5018193125724792,\n",
              "  0.5594547986984253,\n",
              "  0.5420307517051697,\n",
              "  0.5691465735435486,\n",
              "  0.5924116373062134,\n",
              "  0.6562702655792236,\n",
              "  0.6177208423614502,\n",
              "  0.6064572930335999,\n",
              "  0.6319890022277832,\n",
              "  0.6121765971183777,\n",
              "  0.6723364591598511,\n",
              "  0.6355680227279663,\n",
              "  0.7248559594154358,\n",
              "  0.6702684164047241],\n",
              " 'val_accuracy': [0.8586666584014893,\n",
              "  0.8805000185966492,\n",
              "  0.8920000195503235,\n",
              "  0.8944166898727417,\n",
              "  0.8964999914169312,\n",
              "  0.9055833220481873,\n",
              "  0.9054166674613953,\n",
              "  0.9027500152587891,\n",
              "  0.906083345413208,\n",
              "  0.9037500023841858,\n",
              "  0.9110000133514404,\n",
              "  0.9013333320617676,\n",
              "  0.9048333168029785,\n",
              "  0.9123333096504211,\n",
              "  0.9121666550636292,\n",
              "  0.9090833067893982,\n",
              "  0.9110833406448364,\n",
              "  0.903333306312561,\n",
              "  0.909500002861023,\n",
              "  0.9098333120346069,\n",
              "  0.9102500081062317,\n",
              "  0.9103333353996277,\n",
              "  0.9073333144187927,\n",
              "  0.9070000052452087,\n",
              "  0.9101666808128357,\n",
              "  0.9067500233650208,\n",
              "  0.9052500128746033,\n",
              "  0.9051666855812073,\n",
              "  0.909416675567627,\n",
              "  0.9085833430290222,\n",
              "  0.9083333611488342,\n",
              "  0.902916669845581,\n",
              "  0.9068333506584167,\n",
              "  0.9076666831970215,\n",
              "  0.9057499766349792,\n",
              "  0.9087499976158142,\n",
              "  0.8997499942779541,\n",
              "  0.9079999923706055,\n",
              "  0.9024166464805603,\n",
              "  0.9066666960716248]}"
            ]
          },
          "metadata": {},
          "execution_count": 80
        }
      ],
      "source": [
        "CNN_history = history.history\n",
        "CNN_history"
      ]
    },
    {
      "cell_type": "code",
      "execution_count": null,
      "metadata": {
        "id": "VvUDl2vnt8tb",
        "colab": {
          "base_uri": "https://localhost:8080/",
          "height": 809
        },
        "outputId": "a44629b1-4a60-4bf3-9735-62e4caa98d3f"
      },
      "outputs": [
        {
          "output_type": "stream",
          "name": "stderr",
          "text": [
            "<ipython-input-83-8827414779c1>:12: MatplotlibDeprecationWarning: Adding an axes using the same arguments as a previous axes currently reuses the earlier instance.  In a future version, a new instance will always be created and returned.  Meanwhile, this warning can be suppressed, and the future behavior ensured, by passing a unique label to each axes instance.\n",
            "  plt.subplot(2,2,1)\n"
          ]
        },
        {
          "output_type": "display_data",
          "data": {
            "text/plain": [
              "<Figure size 3200x1920 with 1 Axes>"
            ],
            "image/png": "[encoded data removed]"
          },
          "metadata": {
            "needs_background": "light"
          }
        }
      ],
      "source": [
        "import matplotlib.pyplot as plt\n",
        "\n",
        "plt.figure(figsize=(40, 24), dpi=80)\n",
        "plt.rc('xtick', labelsize=15) \n",
        "plt.rc('ytick', labelsize=15)\n",
        "c = ['red','orange','magenta','blue','navy','green','turquoise','darkviolet',\n",
        "     'gray','violet','lime','gold','indianred'] \n",
        "accuracy_list = [CNN_history['accuracy'],CNN_history['val_accuracy'],MLP_history['train_acc'],MLP_history['test_acc']]\n",
        "label_list = [\"CNN train accuracy\",\"CNN test accuracy\",\"MLP train accuracy\",\"MLP test accuracy\"]\n",
        "x_axis = range(41)[1:]\n",
        "for i in range(4):\n",
        "    plt.subplot(2,2,1)\n",
        "    \n",
        "    plt.title(\"Train/Test Accuracy of CNN and MLP\", fontsize=20)\n",
        "    plt.plot(x_axis,accuracy_list[i],label=label_list[i],color=c[i])\n",
        "    \n",
        "    plt.xlabel(\"Epoches\")\n",
        "    plt.legend(loc=3, fontsize=17)\n",
        "\n",
        "plt.show()"
      ]
    },
    {
      "cell_type": "code",
      "source": [],
      "metadata": {
        "id": "gVzu_1fer7W3"
      },
      "execution_count": null,
      "outputs": []
    }
  ],
  "metadata": {
    "accelerator": "GPU",
    "colab": {
      "collapsed_sections": [
        "rJGO2Idu9o30"
      ],
      "provenance": []
    },
    "gpuClass": "standard",
    "kernelspec": {
      "display_name": "Python 3",
      "name": "python3"
    },
    "language_info": {
      "name": "python"
    }
  },
  "nbformat": 4,
  "nbformat_minor": 0
}
